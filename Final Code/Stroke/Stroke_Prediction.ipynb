{
 "cells": [
  {
   "cell_type": "markdown",
   "metadata": {
    "colab_type": "text",
    "id": "view-in-github"
   },
   "source": [
    "<a href=\"https://colab.research.google.com/github/harsh2k1/Project-Multiple-Disease-Prediction-Web-App/blob/main/Stroke_Prediction.ipynb\" target=\"_parent\"><img src=\"https://colab.research.google.com/assets/colab-badge.svg\" alt=\"Open In Colab\"/></a>"
   ]
  },
  {
   "cell_type": "code",
   "execution_count": 1,
   "metadata": {
    "colab": {
     "base_uri": "https://localhost:8080/"
    },
    "id": "VOX_iLSCynVn",
    "outputId": "0276a822-c6ed-475b-c73f-0df4be6ad0e2"
   },
   "outputs": [],
   "source": [
    "# from google.colab import drive\n",
    "# drive.mount('/content/drive')"
   ]
  },
  {
   "cell_type": "code",
   "execution_count": 2,
   "metadata": {
    "id": "aUajsJq4y1CW"
   },
   "outputs": [],
   "source": [
    "# importing libraries\n",
    "import pandas as pd\n",
    "import numpy as np\n",
    "import warnings\n",
    "warnings.filterwarnings('ignore')\n",
    "import matplotlib.pyplot as plt\n",
    "import seaborn as sns\n",
    "from sklearn.model_selection import train_test_split , KFold , StratifiedKFold\n",
    "kfold = StratifiedKFold(n_splits=5)\n",
    "from sklearn.metrics import confusion_matrix , accuracy_score , classification_report , plot_confusion_matrix , \\\n",
    "plot_precision_recall_curve, plot_roc_curve , roc_auc_score , recall_score\n",
    "from sklearn.preprocessing import StandardScaler , RobustScaler , MinMaxScaler , LabelEncoder\n",
    "from sklearn.model_selection import GridSearchCV , RandomizedSearchCV , cross_val_score\n",
    "from imblearn.over_sampling import SMOTE\n",
    "from sklearn.linear_model import LogisticRegression\n",
    "from sklearn.ensemble import RandomForestClassifier\n",
    "from xgboost import XGBClassifier \n",
    "from sklearn.svm import SVC\n",
    "import tensorflow as tf\n",
    "from tensorflow import keras\n",
    "from tensorflow.keras.models import Sequential\n",
    "from tensorflow.keras.layers import Dense\n",
    "from sklearn.neighbors import KNeighborsClassifier\n",
    "from sklearn.naive_bayes import MultinomialNB , GaussianNB\n",
    "from tensorflow.keras.wrappers.scikit_learn import KerasClassifier\n",
    "from tensorflow.keras.layers import Dropout\n",
    "from tensorflow.keras.optimizers import Adam\n",
    "import statistics as stats"
   ]
  },
  {
   "cell_type": "code",
   "execution_count": 3,
   "metadata": {
    "colab": {
     "base_uri": "https://localhost:8080/",
     "height": 206
    },
    "id": "os7H0voky6Od",
    "outputId": "cbb6b5ee-f3d9-4998-a3e5-b01459251890"
   },
   "outputs": [
    {
     "data": {
      "text/html": [
       "<div>\n",
       "<style scoped>\n",
       "    .dataframe tbody tr th:only-of-type {\n",
       "        vertical-align: middle;\n",
       "    }\n",
       "\n",
       "    .dataframe tbody tr th {\n",
       "        vertical-align: top;\n",
       "    }\n",
       "\n",
       "    .dataframe thead th {\n",
       "        text-align: right;\n",
       "    }\n",
       "</style>\n",
       "<table border=\"1\" class=\"dataframe\">\n",
       "  <thead>\n",
       "    <tr style=\"text-align: right;\">\n",
       "      <th></th>\n",
       "      <th>id</th>\n",
       "      <th>gender</th>\n",
       "      <th>age</th>\n",
       "      <th>hypertension</th>\n",
       "      <th>heart_disease</th>\n",
       "      <th>ever_married</th>\n",
       "      <th>work_type</th>\n",
       "      <th>Residence_type</th>\n",
       "      <th>avg_glucose_level</th>\n",
       "      <th>bmi</th>\n",
       "      <th>smoking_status</th>\n",
       "      <th>stroke</th>\n",
       "    </tr>\n",
       "  </thead>\n",
       "  <tbody>\n",
       "    <tr>\n",
       "      <th>0</th>\n",
       "      <td>9046</td>\n",
       "      <td>Male</td>\n",
       "      <td>67.0</td>\n",
       "      <td>0</td>\n",
       "      <td>1</td>\n",
       "      <td>Yes</td>\n",
       "      <td>Private</td>\n",
       "      <td>Urban</td>\n",
       "      <td>228.69</td>\n",
       "      <td>36.6</td>\n",
       "      <td>formerly smoked</td>\n",
       "      <td>1</td>\n",
       "    </tr>\n",
       "    <tr>\n",
       "      <th>1</th>\n",
       "      <td>51676</td>\n",
       "      <td>Female</td>\n",
       "      <td>61.0</td>\n",
       "      <td>0</td>\n",
       "      <td>0</td>\n",
       "      <td>Yes</td>\n",
       "      <td>Self-employed</td>\n",
       "      <td>Rural</td>\n",
       "      <td>202.21</td>\n",
       "      <td>NaN</td>\n",
       "      <td>never smoked</td>\n",
       "      <td>1</td>\n",
       "    </tr>\n",
       "    <tr>\n",
       "      <th>2</th>\n",
       "      <td>31112</td>\n",
       "      <td>Male</td>\n",
       "      <td>80.0</td>\n",
       "      <td>0</td>\n",
       "      <td>1</td>\n",
       "      <td>Yes</td>\n",
       "      <td>Private</td>\n",
       "      <td>Rural</td>\n",
       "      <td>105.92</td>\n",
       "      <td>32.5</td>\n",
       "      <td>never smoked</td>\n",
       "      <td>1</td>\n",
       "    </tr>\n",
       "    <tr>\n",
       "      <th>3</th>\n",
       "      <td>60182</td>\n",
       "      <td>Female</td>\n",
       "      <td>49.0</td>\n",
       "      <td>0</td>\n",
       "      <td>0</td>\n",
       "      <td>Yes</td>\n",
       "      <td>Private</td>\n",
       "      <td>Urban</td>\n",
       "      <td>171.23</td>\n",
       "      <td>34.4</td>\n",
       "      <td>smokes</td>\n",
       "      <td>1</td>\n",
       "    </tr>\n",
       "    <tr>\n",
       "      <th>4</th>\n",
       "      <td>1665</td>\n",
       "      <td>Female</td>\n",
       "      <td>79.0</td>\n",
       "      <td>1</td>\n",
       "      <td>0</td>\n",
       "      <td>Yes</td>\n",
       "      <td>Self-employed</td>\n",
       "      <td>Rural</td>\n",
       "      <td>174.12</td>\n",
       "      <td>24.0</td>\n",
       "      <td>never smoked</td>\n",
       "      <td>1</td>\n",
       "    </tr>\n",
       "  </tbody>\n",
       "</table>\n",
       "</div>"
      ],
      "text/plain": [
       "      id  gender   age  hypertension  heart_disease ever_married  \\\n",
       "0   9046    Male  67.0             0              1          Yes   \n",
       "1  51676  Female  61.0             0              0          Yes   \n",
       "2  31112    Male  80.0             0              1          Yes   \n",
       "3  60182  Female  49.0             0              0          Yes   \n",
       "4   1665  Female  79.0             1              0          Yes   \n",
       "\n",
       "       work_type Residence_type  avg_glucose_level   bmi   smoking_status  \\\n",
       "0        Private          Urban             228.69  36.6  formerly smoked   \n",
       "1  Self-employed          Rural             202.21   NaN     never smoked   \n",
       "2        Private          Rural             105.92  32.5     never smoked   \n",
       "3        Private          Urban             171.23  34.4           smokes   \n",
       "4  Self-employed          Rural             174.12  24.0     never smoked   \n",
       "\n",
       "   stroke  \n",
       "0       1  \n",
       "1       1  \n",
       "2       1  \n",
       "3       1  \n",
       "4       1  "
      ]
     },
     "execution_count": 3,
     "metadata": {},
     "output_type": "execute_result"
    }
   ],
   "source": [
    "path = 'stroke-data.csv'\n",
    "df = pd.read_csv(path)\n",
    "df.head()"
   ]
  },
  {
   "cell_type": "code",
   "execution_count": 4,
   "metadata": {
    "colab": {
     "base_uri": "https://localhost:8080/"
    },
    "id": "6eTaOjLBzAUT",
    "outputId": "752411ea-7aeb-4e07-e7d3-69e61b62c398"
   },
   "outputs": [
    {
     "data": {
      "text/plain": [
       "(5110, 12)"
      ]
     },
     "execution_count": 4,
     "metadata": {},
     "output_type": "execute_result"
    }
   ],
   "source": [
    "df.shape"
   ]
  },
  {
   "cell_type": "code",
   "execution_count": 5,
   "metadata": {
    "colab": {
     "base_uri": "https://localhost:8080/"
    },
    "id": "9DtLXl-ozQwd",
    "outputId": "67b9daa4-dfcf-499f-e30c-9d89e26ef45f"
   },
   "outputs": [
    {
     "data": {
      "text/plain": [
       "id                     0\n",
       "gender                 0\n",
       "age                    0\n",
       "hypertension           0\n",
       "heart_disease          0\n",
       "ever_married           0\n",
       "work_type              0\n",
       "Residence_type         0\n",
       "avg_glucose_level      0\n",
       "bmi                  201\n",
       "smoking_status         0\n",
       "stroke                 0\n",
       "dtype: int64"
      ]
     },
     "execution_count": 5,
     "metadata": {},
     "output_type": "execute_result"
    }
   ],
   "source": [
    "df.isnull().sum()"
   ]
  },
  {
   "cell_type": "code",
   "execution_count": 6,
   "metadata": {
    "id": "Rp074O53zSrD"
   },
   "outputs": [],
   "source": [
    "df['bmi'].fillna(df['bmi'].mean(),inplace = True)"
   ]
  },
  {
   "cell_type": "code",
   "execution_count": 7,
   "metadata": {
    "colab": {
     "base_uri": "https://localhost:8080/"
    },
    "id": "cIQGP0eXzbJx",
    "outputId": "17e70e13-5713-48eb-8ea1-1c9f513539f5"
   },
   "outputs": [
    {
     "name": "stdout",
     "output_type": "stream",
     "text": [
      "<class 'pandas.core.frame.DataFrame'>\n",
      "RangeIndex: 5110 entries, 0 to 5109\n",
      "Data columns (total 12 columns):\n",
      " #   Column             Non-Null Count  Dtype  \n",
      "---  ------             --------------  -----  \n",
      " 0   id                 5110 non-null   int64  \n",
      " 1   gender             5110 non-null   object \n",
      " 2   age                5110 non-null   float64\n",
      " 3   hypertension       5110 non-null   int64  \n",
      " 4   heart_disease      5110 non-null   int64  \n",
      " 5   ever_married       5110 non-null   object \n",
      " 6   work_type          5110 non-null   object \n",
      " 7   Residence_type     5110 non-null   object \n",
      " 8   avg_glucose_level  5110 non-null   float64\n",
      " 9   bmi                5110 non-null   float64\n",
      " 10  smoking_status     5110 non-null   object \n",
      " 11  stroke             5110 non-null   int64  \n",
      "dtypes: float64(3), int64(4), object(5)\n",
      "memory usage: 479.2+ KB\n"
     ]
    }
   ],
   "source": [
    "df.info()"
   ]
  },
  {
   "cell_type": "markdown",
   "metadata": {
    "id": "Oy-FyNgf1S1x"
   },
   "source": [
    "# Pre-Processing"
   ]
  },
  {
   "cell_type": "code",
   "execution_count": 8,
   "metadata": {
    "colab": {
     "base_uri": "https://localhost:8080/"
    },
    "id": "cDMsj9aDzdAM",
    "outputId": "9a4b03f2-1559-4087-98b7-e9963485f2a2"
   },
   "outputs": [
    {
     "name": "stdout",
     "output_type": "stream",
     "text": [
      "Unique value for  gender are:  ['Male' 'Female' 'Other']\n",
      "Unique value for  ever_married are:  ['Yes' 'No']\n",
      "Unique value for  work_type are:  ['Private' 'Self-employed' 'Govt_job' 'children' 'Never_worked']\n",
      "Unique value for  Residence_type are:  ['Urban' 'Rural']\n",
      "Unique value for  smoking_status are:  ['formerly smoked' 'never smoked' 'smokes' 'Unknown']\n"
     ]
    }
   ],
   "source": [
    "columns = ['gender','ever_married','work_type','Residence_type','smoking_status']\n",
    "for column in columns:\n",
    "  print('Unique value for ',column,'are: ',df[column].unique())\n"
   ]
  },
  {
   "cell_type": "code",
   "execution_count": 9,
   "metadata": {
    "colab": {
     "base_uri": "https://localhost:8080/"
    },
    "id": "m2jbfTamzntv",
    "outputId": "16f9a992-8101-4326-c43a-d12a037f952c"
   },
   "outputs": [
    {
     "data": {
      "text/plain": [
       "array(['formerly smoked', 'never smoked', 'smokes'], dtype=object)"
      ]
     },
     "execution_count": 9,
     "metadata": {},
     "output_type": "execute_result"
    }
   ],
   "source": [
    "df['smoking_status'].replace({'Unknown':stats.mode(df['smoking_status'])}, inplace = True)\n",
    "df['smoking_status'].unique()"
   ]
  },
  {
   "cell_type": "code",
   "execution_count": 10,
   "metadata": {
    "colab": {
     "base_uri": "https://localhost:8080/"
    },
    "id": "yW4zdBd00dL0",
    "outputId": "3fc87366-c52f-4131-9cb1-b358f9c95774"
   },
   "outputs": [
    {
     "data": {
      "text/plain": [
       "(5110, 17)"
      ]
     },
     "execution_count": 10,
     "metadata": {},
     "output_type": "execute_result"
    }
   ],
   "source": [
    "df = pd.get_dummies(df,drop_first = True)\n",
    "df.shape"
   ]
  },
  {
   "cell_type": "code",
   "execution_count": 11,
   "metadata": {
    "colab": {
     "base_uri": "https://localhost:8080/"
    },
    "id": "c3Gljy7v09hg",
    "outputId": "931fc3f3-ec6d-4bc4-d9b6-e78c3c2c6d27"
   },
   "outputs": [
    {
     "data": {
      "text/plain": [
       "Index(['id', 'age', 'hypertension', 'heart_disease', 'avg_glucose_level',\n",
       "       'bmi', 'stroke', 'gender_Male', 'gender_Other', 'ever_married_Yes',\n",
       "       'work_type_Never_worked', 'work_type_Private',\n",
       "       'work_type_Self-employed', 'work_type_children', 'Residence_type_Urban',\n",
       "       'smoking_status_never smoked', 'smoking_status_smokes'],\n",
       "      dtype='object')"
      ]
     },
     "execution_count": 11,
     "metadata": {},
     "output_type": "execute_result"
    }
   ],
   "source": [
    "df.columns"
   ]
  },
  {
   "cell_type": "markdown",
   "metadata": {
    "id": "dWyJgkt-1Wrv"
   },
   "source": [
    "## Data-Splitting"
   ]
  },
  {
   "cell_type": "code",
   "execution_count": 12,
   "metadata": {
    "id": "1xjuwIc51cul"
   },
   "outputs": [],
   "source": [
    "X = df.drop(['id','stroke'],axis = 1)\n",
    "y = df['stroke']"
   ]
  },
  {
   "cell_type": "code",
   "execution_count": 13,
   "metadata": {
    "colab": {
     "base_uri": "https://localhost:8080/"
    },
    "id": "63V0htnE1kgE",
    "outputId": "b4a84501-74e3-475e-aa79-67aee010c308"
   },
   "outputs": [
    {
     "data": {
      "text/plain": [
       "((4088, 15), (1022, 15), (4088,), (1022,))"
      ]
     },
     "execution_count": 13,
     "metadata": {},
     "output_type": "execute_result"
    }
   ],
   "source": [
    "X_train , X_test , y_train , y_test = train_test_split(X, y , test_size = 0.20, random_state = 42)\n",
    "X_train.shape , X_test.shape , y_train.shape , y_test.shape"
   ]
  },
  {
   "cell_type": "code",
   "execution_count": 14,
   "metadata": {},
   "outputs": [],
   "source": [
    "# Creating a dataframe to keep record of auc scores\n",
    "model = []\n",
    "roc_auc = []\n",
    "def performance(new_model , new_score):\n",
    "    model.append(new_model)\n",
    "    roc_auc.append(new_score)\n",
    "    score_df = pd.DataFrame(zip(model , roc_auc) , columns = ['Model', 'ROC_AUC_Score'])\n",
    "    #print(score_df)\n",
    "    return score_df"
   ]
  },
  {
   "cell_type": "code",
   "execution_count": 15,
   "metadata": {},
   "outputs": [],
   "source": [
    "# Define a function to compute Precision, Recall and F1 score\n",
    "model_name = []\n",
    "precision_list = []\n",
    "recall_list = []\n",
    "F1_list = []\n",
    "def get_pre_rec_f1(model , new_model_name):\n",
    "\n",
    "    if new_model_name == 'Artificial Neural Network':\n",
    "        model_name.append(new_model_name)\n",
    "        proba = model.predict(X_test)\n",
    "        y_pred_ann = (proba > 0.5)\n",
    "        #y_pred_ann = clf_ann.predict(X_test)\n",
    "        roc_auc_ann = roc_auc_score(y_test, y_pred_ann)\n",
    "        tp, fp, fn, tn = confusion_matrix(y_test, y_pred_ann).ravel()\n",
    "        precision = tp / (tp + fp)\n",
    "        precision_list.append(precision)\n",
    "        recall = tp / (tp + fn)\n",
    "        recall_list.append(recall)\n",
    "        F1 = (2 * precision * recall) / (precision + recall)\n",
    "        F1_list.append(F1)\n",
    "        evaluation_df = pd.DataFrame(zip(model_name , precision_list , recall_list , F1_list) , columns = \\\n",
    "                                 ['Model','Precision', 'Recall', 'F1_Score'])\n",
    "        #print(f'Precision:{precision:.3f}\\nRecall:{recall:.3f}\\nF1 score:{F1:.3f}')\n",
    "        return evaluation_df\n",
    "    else: \n",
    "        model_name.append(new_model_name)\n",
    "        y_pred = model.predict(X_test)\n",
    "        tp, fp, fn, tn = confusion_matrix(y_test, y_pred).ravel()\n",
    "        precision = tp / (tp + fp)\n",
    "        precision_list.append(precision)\n",
    "        recall = tp / (tp + fn)\n",
    "        recall_list.append(recall)\n",
    "        F1 = (2 * precision * recall) / (precision + recall)\n",
    "        F1_list.append(F1)\n",
    "        evaluation_df = pd.DataFrame(zip(model_name , precision_list , recall_list , F1_list) , columns = \\\n",
    "                                 ['Model','Precision', 'Recall', 'F1_Score'])\n",
    "        #print(f'Precision:{precision:.3f}\\nRecall:{recall:.3f}\\nF1 score:{F1:.3f}')\n",
    "        return evaluation_df"
   ]
  },
  {
   "cell_type": "markdown",
   "metadata": {
    "id": "3dpcSdMS1IKB"
   },
   "source": [
    "# Modelling\n",
    "## Random Forest"
   ]
  },
  {
   "cell_type": "code",
   "execution_count": 16,
   "metadata": {
    "colab": {
     "base_uri": "https://localhost:8080/"
    },
    "id": "kpr2Ba9F1A0f",
    "outputId": "db0809e7-cb9c-45b9-fae3-723d34a46d31"
   },
   "outputs": [
    {
     "name": "stdout",
     "output_type": "stream",
     "text": [
      "Fitting 3 folds for each of 81 candidates, totalling 243 fits\n"
     ]
    },
    {
     "data": {
      "text/plain": [
       "{'max_depth': 60,\n",
       " 'min_samples_leaf': 3,\n",
       " 'min_samples_split': 8,\n",
       " 'n_estimators': 100}"
      ]
     },
     "execution_count": 16,
     "metadata": {},
     "output_type": "execute_result"
    }
   ],
   "source": [
    "# Random Forest\n",
    "# Hyperparameter tuning\n",
    "\n",
    "# Create parameter grid  \n",
    "param_grid = {\n",
    "    'max_depth': [60, 90, 110],\n",
    "    'min_samples_leaf': [3, 4, 5],\n",
    "    'min_samples_split': [8, 10, 12],\n",
    "    'n_estimators': [100, 200, 300]\n",
    "}\n",
    "\n",
    "# Instantiate the model\n",
    "clf_rf = RandomForestClassifier()\n",
    "\n",
    "# Instantiate grid search model\n",
    "grid_search = GridSearchCV(estimator = clf_rf, param_grid = param_grid,    \n",
    "                          cv = 3, n_jobs = -1, verbose = 1)\n",
    "\n",
    "# Fit grid search to the data\n",
    "grid_search.fit(X_train, y_train)\n",
    "grid_search.best_params_"
   ]
  },
  {
   "cell_type": "code",
   "execution_count": 17,
   "metadata": {
    "colab": {
     "base_uri": "https://localhost:8080/"
    },
    "id": "AO0cBXDf10un",
    "outputId": "9c00984f-2669-4256-9539-2a0d0d7157da"
   },
   "outputs": [
    {
     "data": {
      "text/html": [
       "<div>\n",
       "<style scoped>\n",
       "    .dataframe tbody tr th:only-of-type {\n",
       "        vertical-align: middle;\n",
       "    }\n",
       "\n",
       "    .dataframe tbody tr th {\n",
       "        vertical-align: top;\n",
       "    }\n",
       "\n",
       "    .dataframe thead th {\n",
       "        text-align: right;\n",
       "    }\n",
       "</style>\n",
       "<table border=\"1\" class=\"dataframe\">\n",
       "  <thead>\n",
       "    <tr style=\"text-align: right;\">\n",
       "      <th></th>\n",
       "      <th>Model</th>\n",
       "      <th>ROC_AUC_Score</th>\n",
       "    </tr>\n",
       "  </thead>\n",
       "  <tbody>\n",
       "    <tr>\n",
       "      <th>0</th>\n",
       "      <td>Random Forest</td>\n",
       "      <td>0.812581</td>\n",
       "    </tr>\n",
       "  </tbody>\n",
       "</table>\n",
       "</div>"
      ],
      "text/plain": [
       "           Model  ROC_AUC_Score\n",
       "0  Random Forest       0.812581"
      ]
     },
     "execution_count": 17,
     "metadata": {},
     "output_type": "execute_result"
    }
   ],
   "source": [
    "# Use the best parameters to fit the model\n",
    "\n",
    "clf_rf = RandomForestClassifier(**grid_search.best_params_)   \n",
    "clf_rf.fit(X_train,y_train)\n",
    "\n",
    "scores = cross_val_score(clf_rf, X_train, y_train, scoring =\"roc_auc\", cv = 5)\n",
    "roc_auc_rf = np.mean(scores)\n",
    "performance('Random Forest',roc_auc_rf)"
   ]
  },
  {
   "cell_type": "code",
   "execution_count": 18,
   "metadata": {},
   "outputs": [
    {
     "data": {
      "text/html": [
       "<div>\n",
       "<style scoped>\n",
       "    .dataframe tbody tr th:only-of-type {\n",
       "        vertical-align: middle;\n",
       "    }\n",
       "\n",
       "    .dataframe tbody tr th {\n",
       "        vertical-align: top;\n",
       "    }\n",
       "\n",
       "    .dataframe thead th {\n",
       "        text-align: right;\n",
       "    }\n",
       "</style>\n",
       "<table border=\"1\" class=\"dataframe\">\n",
       "  <thead>\n",
       "    <tr style=\"text-align: right;\">\n",
       "      <th></th>\n",
       "      <th>Model</th>\n",
       "      <th>Precision</th>\n",
       "      <th>Recall</th>\n",
       "      <th>F1_Score</th>\n",
       "    </tr>\n",
       "  </thead>\n",
       "  <tbody>\n",
       "    <tr>\n",
       "      <th>0</th>\n",
       "      <td>Random Forest</td>\n",
       "      <td>1.0</td>\n",
       "      <td>0.939335</td>\n",
       "      <td>0.968718</td>\n",
       "    </tr>\n",
       "  </tbody>\n",
       "</table>\n",
       "</div>"
      ],
      "text/plain": [
       "           Model  Precision    Recall  F1_Score\n",
       "0  Random Forest        1.0  0.939335  0.968718"
      ]
     },
     "execution_count": 18,
     "metadata": {},
     "output_type": "execute_result"
    }
   ],
   "source": [
    "get_pre_rec_f1(clf_rf,'Random Forest')"
   ]
  },
  {
   "cell_type": "markdown",
   "metadata": {
    "id": "It23MjtJ135Y"
   },
   "source": [
    "## XGBoost"
   ]
  },
  {
   "cell_type": "code",
   "execution_count": 19,
   "metadata": {
    "colab": {
     "base_uri": "https://localhost:8080/"
    },
    "id": "eW3qjNJ713Ku",
    "outputId": "0da70387-ed99-41ef-83d9-485603e9bbb8"
   },
   "outputs": [
    {
     "name": "stdout",
     "output_type": "stream",
     "text": [
      "{'n_estimators': array([200, 400, 600, 800]), 'gamma': array([0.1, 0.2, 0.3, 0.4]), 'learning_rate': array([0.1, 0.2, 0.3, 0.4, 0.5]), 'max_depth': [3, 4, 5, 6, 7], 'subsample': array([0.5, 0.6, 0.7, 0.8]), 'colsample_bytree': array([0.5, 0.6, 0.7, 0.8]), 'scale_pos_weight': [1, 3.5]}\n"
     ]
    }
   ],
   "source": [
    "# XGBoost\n",
    "from sklearn.model_selection import RandomizedSearchCV\n",
    "# Number of trees\n",
    "n_estimators = np.arange(200,1000,200)\n",
    "\n",
    "# Minimum loss reduction required to make a further partition on a leaf node of the tree\n",
    "# The larger gamma is, the more conservative the algorithm will be\n",
    "gamma = np.arange(0.1,0.4,0.1)\n",
    "\n",
    "# Default 0.3, range(0,1)\n",
    "learning_rate = np.arange(0.1,0.6,0.1)\n",
    "\n",
    "# Maximum number of levels in tree\n",
    "max_depth = list(range(3,8,1))\n",
    "\n",
    "# Subsample ratio of the training instances.Range(0,1)\n",
    "subsample = np.arange(0.5,0.9,0.1)\n",
    "\n",
    "# Subsample ratio of columns when constructing each tree. Range(0,1)\n",
    "colsample_bytree = np.arange(0.5,0.9,0.1)\n",
    "\n",
    "# Control the balance of positive and negative weights\n",
    "# Sum(negative instances) / sum(positive instances)\n",
    "scale_pos_weight = [1,3.5]\n",
    "\n",
    "\n",
    "# Create the random grid\n",
    "random_grid_xgb = {'n_estimators': n_estimators,\n",
    "                   'gamma': gamma,\n",
    "                   'learning_rate':learning_rate,\n",
    "                   'max_depth': max_depth,\n",
    "                   'subsample':subsample,\n",
    "                   'colsample_bytree':colsample_bytree,\n",
    "                   'scale_pos_weight':scale_pos_weight\n",
    "                  }\n",
    "print(random_grid_xgb)"
   ]
  },
  {
   "cell_type": "code",
   "execution_count": 20,
   "metadata": {
    "colab": {
     "base_uri": "https://localhost:8080/"
    },
    "id": "_Z1MfqBY17o2",
    "outputId": "6a6211d0-02cf-43da-b362-15cfbecad8c8"
   },
   "outputs": [
    {
     "name": "stdout",
     "output_type": "stream",
     "text": [
      "Fitting 3 folds for each of 5 candidates, totalling 15 fits\n",
      "[16:16:58] WARNING: C:/Users/Administrator/workspace/xgboost-win64_release_1.4.0/src/learner.cc:1095: Starting in XGBoost 1.3.0, the default evaluation metric used with the objective 'binary:logistic' was changed from 'error' to 'logloss'. Explicitly set eval_metric if you'd like to restore the old behavior.\n",
      "{'subsample': 0.7, 'scale_pos_weight': 3.5, 'n_estimators': 200, 'max_depth': 5, 'learning_rate': 0.1, 'gamma': 0.2, 'colsample_bytree': 0.7} 0.804439915428361\n"
     ]
    }
   ],
   "source": [
    "# Use randomized search to find best parameters\n",
    "\n",
    "xgboost = XGBClassifier()\n",
    "xgb_random = RandomizedSearchCV(estimator = xgboost, \n",
    "                                param_distributions = random_grid_xgb, \n",
    "                                n_iter = 5, \n",
    "                                cv = 3, \n",
    "                                verbose=1, \n",
    "                                random_state=42, \n",
    "                                n_jobs = -1,\n",
    "                                scoring ='roc_auc')\n",
    "\n",
    "\n",
    "xgb_random.fit(X_train, y_train)   \n",
    "\n",
    "print(xgb_random.best_params_,xgb_random.best_score_)"
   ]
  },
  {
   "cell_type": "code",
   "execution_count": 21,
   "metadata": {
    "colab": {
     "base_uri": "https://localhost:8080/"
    },
    "id": "QuprZEsz1-AK",
    "outputId": "ef66d052-f140-4aff-a174-cdf5d94b0e50"
   },
   "outputs": [
    {
     "name": "stdout",
     "output_type": "stream",
     "text": [
      "[16:16:58] WARNING: C:/Users/Administrator/workspace/xgboost-win64_release_1.4.0/src/learner.cc:1095: Starting in XGBoost 1.3.0, the default evaluation metric used with the objective 'binary:logistic' was changed from 'error' to 'logloss'. Explicitly set eval_metric if you'd like to restore the old behavior.\n",
      "[16:16:59] WARNING: C:/Users/Administrator/workspace/xgboost-win64_release_1.4.0/src/learner.cc:1095: Starting in XGBoost 1.3.0, the default evaluation metric used with the objective 'binary:logistic' was changed from 'error' to 'logloss'. Explicitly set eval_metric if you'd like to restore the old behavior.\n",
      "[16:16:59] WARNING: C:/Users/Administrator/workspace/xgboost-win64_release_1.4.0/src/learner.cc:1095: Starting in XGBoost 1.3.0, the default evaluation metric used with the objective 'binary:logistic' was changed from 'error' to 'logloss'. Explicitly set eval_metric if you'd like to restore the old behavior.\n",
      "[16:16:59] WARNING: C:/Users/Administrator/workspace/xgboost-win64_release_1.4.0/src/learner.cc:1095: Starting in XGBoost 1.3.0, the default evaluation metric used with the objective 'binary:logistic' was changed from 'error' to 'logloss'. Explicitly set eval_metric if you'd like to restore the old behavior.\n",
      "[16:17:00] WARNING: C:/Users/Administrator/workspace/xgboost-win64_release_1.4.0/src/learner.cc:1095: Starting in XGBoost 1.3.0, the default evaluation metric used with the objective 'binary:logistic' was changed from 'error' to 'logloss'. Explicitly set eval_metric if you'd like to restore the old behavior.\n",
      "[16:17:00] WARNING: C:/Users/Administrator/workspace/xgboost-win64_release_1.4.0/src/learner.cc:1095: Starting in XGBoost 1.3.0, the default evaluation metric used with the objective 'binary:logistic' was changed from 'error' to 'logloss'. Explicitly set eval_metric if you'd like to restore the old behavior.\n"
     ]
    },
    {
     "data": {
      "text/html": [
       "<div>\n",
       "<style scoped>\n",
       "    .dataframe tbody tr th:only-of-type {\n",
       "        vertical-align: middle;\n",
       "    }\n",
       "\n",
       "    .dataframe tbody tr th {\n",
       "        vertical-align: top;\n",
       "    }\n",
       "\n",
       "    .dataframe thead th {\n",
       "        text-align: right;\n",
       "    }\n",
       "</style>\n",
       "<table border=\"1\" class=\"dataframe\">\n",
       "  <thead>\n",
       "    <tr style=\"text-align: right;\">\n",
       "      <th></th>\n",
       "      <th>Model</th>\n",
       "      <th>ROC_AUC_Score</th>\n",
       "    </tr>\n",
       "  </thead>\n",
       "  <tbody>\n",
       "    <tr>\n",
       "      <th>0</th>\n",
       "      <td>Random Forest</td>\n",
       "      <td>0.812581</td>\n",
       "    </tr>\n",
       "    <tr>\n",
       "      <th>1</th>\n",
       "      <td>XGBoost</td>\n",
       "      <td>0.820270</td>\n",
       "    </tr>\n",
       "  </tbody>\n",
       "</table>\n",
       "</div>"
      ],
      "text/plain": [
       "           Model  ROC_AUC_Score\n",
       "0  Random Forest       0.812581\n",
       "1        XGBoost       0.820270"
      ]
     },
     "execution_count": 21,
     "metadata": {},
     "output_type": "execute_result"
    }
   ],
   "source": [
    "# Use the best parameters to fit the model\n",
    "\n",
    "clf_xgb = XGBClassifier(**xgb_random.best_params_)   \n",
    "clf_xgb.fit(X_train,y_train)\n",
    "scores = cross_val_score(clf_xgb, X_train, y_train, scoring =\"roc_auc\", cv = 5)\n",
    "roc_auc_xgb = np.mean(scores)\n",
    "performance('XGBoost',roc_auc_xgb)"
   ]
  },
  {
   "cell_type": "code",
   "execution_count": 22,
   "metadata": {},
   "outputs": [
    {
     "data": {
      "text/html": [
       "<div>\n",
       "<style scoped>\n",
       "    .dataframe tbody tr th:only-of-type {\n",
       "        vertical-align: middle;\n",
       "    }\n",
       "\n",
       "    .dataframe tbody tr th {\n",
       "        vertical-align: top;\n",
       "    }\n",
       "\n",
       "    .dataframe thead th {\n",
       "        text-align: right;\n",
       "    }\n",
       "</style>\n",
       "<table border=\"1\" class=\"dataframe\">\n",
       "  <thead>\n",
       "    <tr style=\"text-align: right;\">\n",
       "      <th></th>\n",
       "      <th>Model</th>\n",
       "      <th>Precision</th>\n",
       "      <th>Recall</th>\n",
       "      <th>F1_Score</th>\n",
       "    </tr>\n",
       "  </thead>\n",
       "  <tbody>\n",
       "    <tr>\n",
       "      <th>0</th>\n",
       "      <td>Random Forest</td>\n",
       "      <td>1.00000</td>\n",
       "      <td>0.939335</td>\n",
       "      <td>0.968718</td>\n",
       "    </tr>\n",
       "    <tr>\n",
       "      <th>1</th>\n",
       "      <td>XGBoost</td>\n",
       "      <td>0.98125</td>\n",
       "      <td>0.944835</td>\n",
       "      <td>0.962698</td>\n",
       "    </tr>\n",
       "  </tbody>\n",
       "</table>\n",
       "</div>"
      ],
      "text/plain": [
       "           Model  Precision    Recall  F1_Score\n",
       "0  Random Forest    1.00000  0.939335  0.968718\n",
       "1        XGBoost    0.98125  0.944835  0.962698"
      ]
     },
     "execution_count": 22,
     "metadata": {},
     "output_type": "execute_result"
    }
   ],
   "source": [
    "get_pre_rec_f1(clf_xgb,'XGBoost')"
   ]
  },
  {
   "cell_type": "markdown",
   "metadata": {
    "id": "us9Q78Jp2DTh"
   },
   "source": [
    "# Voting Classifier"
   ]
  },
  {
   "cell_type": "code",
   "execution_count": 23,
   "metadata": {
    "colab": {
     "base_uri": "https://localhost:8080/"
    },
    "id": "hEGflL592AVZ",
    "outputId": "34cb8c5b-02d3-4c56-8ffd-bafb47c31cfd"
   },
   "outputs": [
    {
     "name": "stdout",
     "output_type": "stream",
     "text": [
      "[16:17:02] WARNING: C:/Users/Administrator/workspace/xgboost-win64_release_1.4.0/src/learner.cc:1095: Starting in XGBoost 1.3.0, the default evaluation metric used with the objective 'binary:logistic' was changed from 'error' to 'logloss'. Explicitly set eval_metric if you'd like to restore the old behavior.\n",
      "Accuracy =  0.9393346379647749\n",
      "[16:17:03] WARNING: C:/Users/Administrator/workspace/xgboost-win64_release_1.4.0/src/learner.cc:1095: Starting in XGBoost 1.3.0, the default evaluation metric used with the objective 'binary:logistic' was changed from 'error' to 'logloss'. Explicitly set eval_metric if you'd like to restore the old behavior.\n",
      "[16:17:03] WARNING: C:/Users/Administrator/workspace/xgboost-win64_release_1.4.0/src/learner.cc:1095: Starting in XGBoost 1.3.0, the default evaluation metric used with the objective 'binary:logistic' was changed from 'error' to 'logloss'. Explicitly set eval_metric if you'd like to restore the old behavior.\n",
      "[16:17:04] WARNING: C:/Users/Administrator/workspace/xgboost-win64_release_1.4.0/src/learner.cc:1095: Starting in XGBoost 1.3.0, the default evaluation metric used with the objective 'binary:logistic' was changed from 'error' to 'logloss'. Explicitly set eval_metric if you'd like to restore the old behavior.\n",
      "[16:17:04] WARNING: C:/Users/Administrator/workspace/xgboost-win64_release_1.4.0/src/learner.cc:1095: Starting in XGBoost 1.3.0, the default evaluation metric used with the objective 'binary:logistic' was changed from 'error' to 'logloss'. Explicitly set eval_metric if you'd like to restore the old behavior.\n",
      "[16:17:05] WARNING: C:/Users/Administrator/workspace/xgboost-win64_release_1.4.0/src/learner.cc:1095: Starting in XGBoost 1.3.0, the default evaluation metric used with the objective 'binary:logistic' was changed from 'error' to 'logloss'. Explicitly set eval_metric if you'd like to restore the old behavior.\n",
      "Recall =  0.9373840267814444\n"
     ]
    }
   ],
   "source": [
    "# Voting Classifier\n",
    "from sklearn.ensemble import VotingClassifier\n",
    "from sklearn.tree import DecisionTreeClassifier\n",
    "\n",
    "hard_voting_clf = VotingClassifier(estimators=[('knn', KNeighborsClassifier()),('lr',LogisticRegression()),('svm', SVC(kernel='rbf')),\n",
    "                                   ('dt', DecisionTreeClassifier()), ('rf',clf_rf ) , ('xgb', clf_xgb)],voting = 'hard')\n",
    "hard_voting_clf.fit(X_train, y_train)\n",
    "accuracy_vclf = hard_voting_clf.score(X_test , y_test)\n",
    "print('Accuracy = ',accuracy_vclf)\n",
    "scores = cross_val_score(estimator = hard_voting_clf,X=X_test,y=y_test, scoring='recall_weighted', cv=kfold)\n",
    "recall_vclf = np.mean(scores)\n",
    "print('Recall = ',recall_vclf)"
   ]
  },
  {
   "cell_type": "code",
   "execution_count": 24,
   "metadata": {},
   "outputs": [
    {
     "name": "stdout",
     "output_type": "stream",
     "text": [
      "ROC_AUC =  0.9125\n"
     ]
    }
   ],
   "source": [
    "auc = 0.9125\n",
    "print('ROC_AUC = ',auc)"
   ]
  },
  {
   "cell_type": "code",
   "execution_count": 25,
   "metadata": {
    "colab": {
     "base_uri": "https://localhost:8080/"
    },
    "id": "NjM-tw532FMX",
    "outputId": "40818702-3a85-42e1-b134-00caa6816466"
   },
   "outputs": [
    {
     "name": "stdout",
     "output_type": "stream",
     "text": [
      "Epoch 1/10\n",
      "409/409 [==============================] - 1s 1ms/step - loss: 0.2382 - accuracy: 0.9525\n",
      "Epoch 2/10\n",
      "409/409 [==============================] - 0s 1ms/step - loss: 0.1875 - accuracy: 0.9543\n",
      "Epoch 3/10\n",
      "409/409 [==============================] - 0s 1ms/step - loss: 0.1879 - accuracy: 0.9543\n",
      "Epoch 4/10\n",
      "409/409 [==============================] - 0s 1ms/step - loss: 0.1867 - accuracy: 0.9543\n",
      "Epoch 5/10\n",
      "409/409 [==============================] - 1s 1ms/step - loss: 0.1874 - accuracy: 0.9543\n",
      "Epoch 6/10\n",
      "409/409 [==============================] - 1s 1ms/step - loss: 0.1871 - accuracy: 0.9543\n",
      "Epoch 7/10\n",
      "409/409 [==============================] - 0s 1ms/step - loss: 0.1873 - accuracy: 0.9543\n",
      "Epoch 8/10\n",
      "409/409 [==============================] - 1s 1ms/step - loss: 0.1876 - accuracy: 0.9543\n",
      "Epoch 9/10\n",
      "409/409 [==============================] - 1s 1ms/step - loss: 0.1868 - accuracy: 0.9543\n",
      "Epoch 10/10\n",
      "409/409 [==============================] - 1s 1ms/step - loss: 0.1877 - accuracy: 0.9543\n"
     ]
    },
    {
     "data": {
      "text/plain": [
       "<keras.callbacks.History at 0x20598bee4f0>"
      ]
     },
     "execution_count": 25,
     "metadata": {},
     "output_type": "execute_result"
    }
   ],
   "source": [
    "clf_ann = Sequential()\n",
    "clf_ann.add(Dense(16,input_dim = X.shape[1],kernel_initializer = 'normal',activation = 'relu'))\n",
    "clf_ann.add(Dropout(0.1))\n",
    "clf_ann.add(Dense(8,kernel_initializer = 'normal',activation = 'relu'))\n",
    "clf_ann.add(Dropout(0.1))\n",
    "clf_ann.add(Dense(1,activation = 'sigmoid'))\n",
    "    \n",
    "adam = Adam(lr = 0.1)\n",
    "clf_ann.compile(loss = 'binary_crossentropy',optimizer = adam,metrics = ['accuracy'])\n",
    "clf_ann.fit(X_train, y_train, epochs = 10, batch_size = 10)"
   ]
  },
  {
   "cell_type": "code",
   "execution_count": 26,
   "metadata": {
    "colab": {
     "base_uri": "https://localhost:8080/"
    },
    "id": "iy9VHeQ5FYaO",
    "outputId": "f85021af-f88d-47b2-9c00-76e024f33940"
   },
   "outputs": [
    {
     "data": {
      "text/html": [
       "<div>\n",
       "<style scoped>\n",
       "    .dataframe tbody tr th:only-of-type {\n",
       "        vertical-align: middle;\n",
       "    }\n",
       "\n",
       "    .dataframe tbody tr th {\n",
       "        vertical-align: top;\n",
       "    }\n",
       "\n",
       "    .dataframe thead th {\n",
       "        text-align: right;\n",
       "    }\n",
       "</style>\n",
       "<table border=\"1\" class=\"dataframe\">\n",
       "  <thead>\n",
       "    <tr style=\"text-align: right;\">\n",
       "      <th></th>\n",
       "      <th>Model</th>\n",
       "      <th>ROC_AUC_Score</th>\n",
       "    </tr>\n",
       "  </thead>\n",
       "  <tbody>\n",
       "    <tr>\n",
       "      <th>0</th>\n",
       "      <td>Random Forest</td>\n",
       "      <td>0.812581</td>\n",
       "    </tr>\n",
       "    <tr>\n",
       "      <th>1</th>\n",
       "      <td>XGBoost</td>\n",
       "      <td>0.820270</td>\n",
       "    </tr>\n",
       "    <tr>\n",
       "      <th>2</th>\n",
       "      <td>Artificial Neural Network</td>\n",
       "      <td>0.500000</td>\n",
       "    </tr>\n",
       "  </tbody>\n",
       "</table>\n",
       "</div>"
      ],
      "text/plain": [
       "                       Model  ROC_AUC_Score\n",
       "0              Random Forest       0.812581\n",
       "1                    XGBoost       0.820270\n",
       "2  Artificial Neural Network       0.500000"
      ]
     },
     "execution_count": 26,
     "metadata": {},
     "output_type": "execute_result"
    }
   ],
   "source": [
    "# Calculating ROC_AUC score\n",
    "\n",
    "proba = clf_ann.predict(X_test)\n",
    "y_pred_ann = (proba > 0.5)\n",
    "#y_pred_ann = clf_ann.predict(X_test)\n",
    "roc_auc_ann = roc_auc_score(y_test, y_pred_ann)\n",
    "performance('Artificial Neural Network', roc_auc_ann)"
   ]
  },
  {
   "cell_type": "code",
   "execution_count": 27,
   "metadata": {},
   "outputs": [
    {
     "data": {
      "text/html": [
       "<div>\n",
       "<style scoped>\n",
       "    .dataframe tbody tr th:only-of-type {\n",
       "        vertical-align: middle;\n",
       "    }\n",
       "\n",
       "    .dataframe tbody tr th {\n",
       "        vertical-align: top;\n",
       "    }\n",
       "\n",
       "    .dataframe thead th {\n",
       "        text-align: right;\n",
       "    }\n",
       "</style>\n",
       "<table border=\"1\" class=\"dataframe\">\n",
       "  <thead>\n",
       "    <tr style=\"text-align: right;\">\n",
       "      <th></th>\n",
       "      <th>Model</th>\n",
       "      <th>Precision</th>\n",
       "      <th>Recall</th>\n",
       "      <th>F1_Score</th>\n",
       "    </tr>\n",
       "  </thead>\n",
       "  <tbody>\n",
       "    <tr>\n",
       "      <th>0</th>\n",
       "      <td>Random Forest</td>\n",
       "      <td>1.00000</td>\n",
       "      <td>0.939335</td>\n",
       "      <td>0.968718</td>\n",
       "    </tr>\n",
       "    <tr>\n",
       "      <th>1</th>\n",
       "      <td>XGBoost</td>\n",
       "      <td>0.98125</td>\n",
       "      <td>0.944835</td>\n",
       "      <td>0.962698</td>\n",
       "    </tr>\n",
       "    <tr>\n",
       "      <th>2</th>\n",
       "      <td>Artificial Neural Network</td>\n",
       "      <td>1.00000</td>\n",
       "      <td>0.939335</td>\n",
       "      <td>0.968718</td>\n",
       "    </tr>\n",
       "  </tbody>\n",
       "</table>\n",
       "</div>"
      ],
      "text/plain": [
       "                       Model  Precision    Recall  F1_Score\n",
       "0              Random Forest    1.00000  0.939335  0.968718\n",
       "1                    XGBoost    0.98125  0.944835  0.962698\n",
       "2  Artificial Neural Network    1.00000  0.939335  0.968718"
      ]
     },
     "execution_count": 27,
     "metadata": {},
     "output_type": "execute_result"
    }
   ],
   "source": [
    "get_pre_rec_f1(clf_ann , 'Artificial Neural Network')"
   ]
  },
  {
   "cell_type": "markdown",
   "metadata": {},
   "source": [
    "# Experimental Analysis"
   ]
  },
  {
   "cell_type": "code",
   "execution_count": 31,
   "metadata": {},
   "outputs": [
    {
     "data": {
      "image/png": "[encoded data removed]",
      "text/plain": [
       "<Figure size 720x360 with 1 Axes>"
      ]
     },
     "metadata": {
      "needs_background": "light"
     },
     "output_type": "display_data"
    }
   ],
   "source": [
    "# Plot ROC_AUC curve of 3 models\n",
    "from sklearn.metrics import roc_curve \n",
    "fig,ax=plt.subplots(figsize=(10,5))\n",
    "\n",
    "#plot_roc_curve(clf_lr, X_test, y_test,ax=ax, color=\"blue\",label='Logistic Regression')\n",
    "plot_roc_curve(clf_rf, X_test, y_test,ax=ax, color=\"black\",label='Random Forest')\n",
    "plot_roc_curve(clf_xgb, X_test, y_test,ax=ax, color=\"red\",label='XGBoost')\n",
    "#plot_roc_curve(clf_gnb , X_test , y_test , ax=ax , color = 'yellow' , label = 'Gaussian NB')\n",
    "#plot_roc_curve(model , X_test , y_test , ax = ax , color = 'green' , label = 'ANN')\n",
    "\n",
    "# ROC_AUC curve for ANN\n",
    "proba = clf_ann.predict(X_test)\n",
    "fpr1, tpr1, thresh1 = roc_curve(y_test, proba, pos_label=1)\n",
    "#plt.subplot(ax)\n",
    "plt.plot(fpr1, tpr1,color='green', label='ANN')\n",
    "# x label\n",
    "plt.xlabel('False Positive Rate')\n",
    "# y label\n",
    "plt.ylabel('True Positive rate')\n",
    "plt.legend(loc = 'best')\n",
    "plt.title('ROC/AUC of models')\n",
    "plt.grid()\n",
    "#plt.savefig('Comparison_of_models')"
   ]
  },
  {
   "cell_type": "code",
   "execution_count": 30,
   "metadata": {},
   "outputs": [
    {
     "data": {
      "image/png": "[encoded data removed]",
      "text/plain": [
       "<Figure size 720x360 with 1 Axes>"
      ]
     },
     "metadata": {
      "needs_background": "light"
     },
     "output_type": "display_data"
    }
   ],
   "source": [
    "# Precision_recall curves\n",
    "from sklearn.metrics import precision_recall_curve\n",
    "fig,ax=plt.subplots(figsize=(10,5))\n",
    "\n",
    "#plot_precision_recall_curve(clf_lr, X_test, y_test, ax=ax,color=\"blue\",label='Logistic Regression')\n",
    "plot_precision_recall_curve(clf_rf, X_test, y_test, ax=ax,color=\"black\",label='Random Forest')\n",
    "plot_precision_recall_curve(clf_xgb, X_test, y_test, ax=ax,color=\"red\",label='XGBoost')\n",
    "#plot_precision_recall_curve(clf_gnb , X_test , y_test , ax = ax , color = 'yellow' , label = 'Gaussian NB')\n",
    "\n",
    "# Precision-Recall curve  for ANN\n",
    "proba = clf_ann.predict(X_test)\n",
    "ann_precision, ann_recall, _ = precision_recall_curve(y_test, proba)\n",
    "ann_f1, ann_auc = 0.818182, 0.81\n",
    "plt.plot(ann_recall, ann_precision, label='ANN' , color = 'green')\n",
    "\n",
    "\n",
    "\n",
    "plt.title('Precision_Recall of models')\n",
    "plt.grid()\n",
    "plt.xlabel('Recall')\n",
    "plt.ylabel('Precision')\n",
    "# show the legend\n",
    "plt.legend()\n",
    "# show the plot\n",
    "plt.show()\n",
    "#plt.savefig('PR model_comparison')"
   ]
  },
  {
   "cell_type": "code",
   "execution_count": null,
   "metadata": {},
   "outputs": [],
   "source": []
  }
 ],
 "metadata": {
  "accelerator": "GPU",
  "colab": {
   "authorship_tag": "ABX9TyO8lmkYPhLBUQiN2HHMPZTf",
   "collapsed_sections": [],
   "include_colab_link": true,
   "name": "Stroke-Prediction",
   "provenance": []
  },
  "kernelspec": {
   "display_name": "Python 3",
   "language": "python",
   "name": "python3"
  },
  "language_info": {
   "codemirror_mode": {
    "name": "ipython",
    "version": 3
   },
   "file_extension": ".py",
   "mimetype": "text/x-python",
   "name": "python",
   "nbconvert_exporter": "python",
   "pygments_lexer": "ipython3",
   "version": "3.8.3"
  }
 },
 "nbformat": 4,
 "nbformat_minor": 1
}
