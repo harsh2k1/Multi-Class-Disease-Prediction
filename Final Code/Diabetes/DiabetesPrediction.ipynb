{
 "cells": [
  {
   "cell_type": "markdown",
   "metadata": {
    "colab_type": "text",
    "id": "view-in-github"
   },
   "source": [
    "<a href=\"https://colab.research.google.com/github/harsh2k1/Project-Multiple-Disease-Prediction-Web-App/blob/main/DiabetesPrediction.ipynb\" target=\"_parent\"><img src=\"https://colab.research.google.com/assets/colab-badge.svg\" alt=\"Open In Colab\"/></a>"
   ]
  },
  {
   "cell_type": "code",
   "execution_count": 1,
   "metadata": {
    "id": "DxvLkV6czdm6"
   },
   "outputs": [],
   "source": [
    "import pandas as pd\n",
    "import numpy as np\n",
    "import warnings\n",
    "warnings.filterwarnings('ignore')\n",
    "import matplotlib.pyplot as plt\n",
    "import seaborn as sns\n",
    "from sklearn.model_selection import train_test_split , KFold , StratifiedKFold\n",
    "kfold = StratifiedKFold(n_splits=5)\n",
    "from sklearn.metrics import confusion_matrix , accuracy_score , classification_report , plot_confusion_matrix , \\\n",
    "plot_precision_recall_curve, plot_roc_curve , roc_auc_score , recall_score\n",
    "from sklearn.preprocessing import StandardScaler , RobustScaler , MinMaxScaler , LabelEncoder\n",
    "from sklearn.model_selection import GridSearchCV , RandomizedSearchCV , cross_val_score\n",
    "from imblearn.over_sampling import SMOTE\n",
    "from sklearn.linear_model import LogisticRegression\n",
    "from sklearn.ensemble import RandomForestClassifier\n",
    "from xgboost import XGBClassifier \n",
    "from sklearn.svm import SVC\n",
    "import tensorflow as tf\n",
    "from tensorflow import keras\n",
    "from tensorflow.keras.models import Sequential\n",
    "from tensorflow.keras.layers import Dense\n",
    "from sklearn.neighbors import KNeighborsClassifier\n",
    "from sklearn.naive_bayes import MultinomialNB , GaussianNB\n",
    "from tensorflow.keras.wrappers.scikit_learn import KerasClassifier\n",
    "from tensorflow.keras.layers import Dropout\n",
    "from tensorflow.keras.optimizers import Adam"
   ]
  },
  {
   "cell_type": "code",
   "execution_count": 2,
   "metadata": {
    "colab": {
     "base_uri": "https://localhost:8080/"
    },
    "id": "DXYuaSIt0QDS",
    "outputId": "a51ae451-19ae-4b67-8053-4c2470a7d6cd"
   },
   "outputs": [],
   "source": [
    "# from google.colab import drive\n",
    "# drive.mount('/content/drive')"
   ]
  },
  {
   "cell_type": "code",
   "execution_count": 3,
   "metadata": {},
   "outputs": [],
   "source": [
    "# print(xyz)"
   ]
  },
  {
   "cell_type": "code",
   "execution_count": 4,
   "metadata": {
    "colab": {
     "base_uri": "https://localhost:8080/",
     "height": 206
    },
    "id": "VMLwMAL_zdm-",
    "outputId": "7caa4099-8df8-488e-f19d-98cb90caf0c8"
   },
   "outputs": [
    {
     "data": {
      "text/html": [
       "<div>\n",
       "<style scoped>\n",
       "    .dataframe tbody tr th:only-of-type {\n",
       "        vertical-align: middle;\n",
       "    }\n",
       "\n",
       "    .dataframe tbody tr th {\n",
       "        vertical-align: top;\n",
       "    }\n",
       "\n",
       "    .dataframe thead th {\n",
       "        text-align: right;\n",
       "    }\n",
       "</style>\n",
       "<table border=\"1\" class=\"dataframe\">\n",
       "  <thead>\n",
       "    <tr style=\"text-align: right;\">\n",
       "      <th></th>\n",
       "      <th>Pregnancies</th>\n",
       "      <th>Glucose</th>\n",
       "      <th>BloodPressure</th>\n",
       "      <th>SkinThickness</th>\n",
       "      <th>Insulin</th>\n",
       "      <th>BMI</th>\n",
       "      <th>DiabetesPedigreeFunction</th>\n",
       "      <th>Age</th>\n",
       "      <th>Outcome</th>\n",
       "    </tr>\n",
       "  </thead>\n",
       "  <tbody>\n",
       "    <tr>\n",
       "      <th>0</th>\n",
       "      <td>6</td>\n",
       "      <td>148</td>\n",
       "      <td>72</td>\n",
       "      <td>35</td>\n",
       "      <td>0</td>\n",
       "      <td>33.6</td>\n",
       "      <td>0.627</td>\n",
       "      <td>50</td>\n",
       "      <td>1</td>\n",
       "    </tr>\n",
       "    <tr>\n",
       "      <th>1</th>\n",
       "      <td>1</td>\n",
       "      <td>85</td>\n",
       "      <td>66</td>\n",
       "      <td>29</td>\n",
       "      <td>0</td>\n",
       "      <td>26.6</td>\n",
       "      <td>0.351</td>\n",
       "      <td>31</td>\n",
       "      <td>0</td>\n",
       "    </tr>\n",
       "    <tr>\n",
       "      <th>2</th>\n",
       "      <td>8</td>\n",
       "      <td>183</td>\n",
       "      <td>64</td>\n",
       "      <td>0</td>\n",
       "      <td>0</td>\n",
       "      <td>23.3</td>\n",
       "      <td>0.672</td>\n",
       "      <td>32</td>\n",
       "      <td>1</td>\n",
       "    </tr>\n",
       "    <tr>\n",
       "      <th>3</th>\n",
       "      <td>1</td>\n",
       "      <td>89</td>\n",
       "      <td>66</td>\n",
       "      <td>23</td>\n",
       "      <td>94</td>\n",
       "      <td>28.1</td>\n",
       "      <td>0.167</td>\n",
       "      <td>21</td>\n",
       "      <td>0</td>\n",
       "    </tr>\n",
       "    <tr>\n",
       "      <th>4</th>\n",
       "      <td>0</td>\n",
       "      <td>137</td>\n",
       "      <td>40</td>\n",
       "      <td>35</td>\n",
       "      <td>168</td>\n",
       "      <td>43.1</td>\n",
       "      <td>2.288</td>\n",
       "      <td>33</td>\n",
       "      <td>1</td>\n",
       "    </tr>\n",
       "  </tbody>\n",
       "</table>\n",
       "</div>"
      ],
      "text/plain": [
       "   Pregnancies  Glucose  BloodPressure  SkinThickness  Insulin   BMI  \\\n",
       "0            6      148             72             35        0  33.6   \n",
       "1            1       85             66             29        0  26.6   \n",
       "2            8      183             64              0        0  23.3   \n",
       "3            1       89             66             23       94  28.1   \n",
       "4            0      137             40             35      168  43.1   \n",
       "\n",
       "   DiabetesPedigreeFunction  Age  Outcome  \n",
       "0                     0.627   50        1  \n",
       "1                     0.351   31        0  \n",
       "2                     0.672   32        1  \n",
       "3                     0.167   21        0  \n",
       "4                     2.288   33        1  "
      ]
     },
     "execution_count": 4,
     "metadata": {},
     "output_type": "execute_result"
    }
   ],
   "source": [
    "df = pd.read_csv('diabetes.csv')\n",
    "df.head()"
   ]
  },
  {
   "cell_type": "code",
   "execution_count": 5,
   "metadata": {
    "colab": {
     "base_uri": "https://localhost:8080/"
    },
    "id": "3Czo43M2zdnA",
    "outputId": "c56cad8b-92df-4178-a790-084d8b86da31"
   },
   "outputs": [
    {
     "data": {
      "text/plain": [
       "Pregnancies                 0\n",
       "Glucose                     0\n",
       "BloodPressure               0\n",
       "SkinThickness               0\n",
       "Insulin                     0\n",
       "BMI                         0\n",
       "DiabetesPedigreeFunction    0\n",
       "Age                         0\n",
       "Outcome                     0\n",
       "dtype: int64"
      ]
     },
     "execution_count": 5,
     "metadata": {},
     "output_type": "execute_result"
    }
   ],
   "source": [
    "df.isnull().sum()"
   ]
  },
  {
   "cell_type": "code",
   "execution_count": 6,
   "metadata": {
    "id": "mHSBQIybzdnB"
   },
   "outputs": [],
   "source": [
    "X = df.drop(['Outcome'], axis = 1)\n",
    "y = df['Outcome']\n",
    "scaler = StandardScaler()\n",
    "X = scaler.fit_transform(X)"
   ]
  },
  {
   "cell_type": "markdown",
   "metadata": {},
   "source": [
    "# Modelling"
   ]
  },
  {
   "cell_type": "code",
   "execution_count": 7,
   "metadata": {},
   "outputs": [],
   "source": [
    "# Creating a dataframe to keep record of auc scores\n",
    "model = []\n",
    "roc_auc = []\n",
    "def performance(new_model , new_score):\n",
    "    model.append(new_model)\n",
    "    roc_auc.append(new_score)\n",
    "    score_df = pd.DataFrame(zip(model , roc_auc) , columns = ['Model', 'ROC_AUC_Score'])\n",
    "    #print(score_df)\n",
    "    return score_df"
   ]
  },
  {
   "cell_type": "code",
   "execution_count": 8,
   "metadata": {},
   "outputs": [],
   "source": [
    "# Define a function to compute Precision, Recall and F1 score\n",
    "model_name = []\n",
    "precision_list = []\n",
    "recall_list = []\n",
    "F1_list = []\n",
    "def get_pre_rec_f1(model , new_model_name):\n",
    "\n",
    "    if new_model_name == 'Artificial Neural Network':\n",
    "        model_name.append(new_model_name)\n",
    "        proba = model.predict(X_test)\n",
    "        y_pred_ann = (proba > 0.5)\n",
    "        #y_pred_ann = clf_ann.predict(X_test)\n",
    "        roc_auc_ann = roc_auc_score(y_test, y_pred_ann)\n",
    "        tp, fp, fn, tn = confusion_matrix(y_test, y_pred_ann).ravel()\n",
    "        precision = tp / (tp + fp)\n",
    "        precision_list.append(precision)\n",
    "        recall = tp / (tp + fn)\n",
    "        recall_list.append(recall)\n",
    "        F1 = (2 * precision * recall) / (precision + recall)\n",
    "        F1_list.append(F1)\n",
    "        evaluation_df = pd.DataFrame(zip(model_name , precision_list , recall_list , F1_list) , columns = \\\n",
    "                                 ['Model','Precision', 'Recall', 'F1_Score'])\n",
    "        #print(f'Precision:{precision:.3f}\\nRecall:{recall:.3f}\\nF1 score:{F1:.3f}')\n",
    "        return evaluation_df\n",
    "    else: \n",
    "        model_name.append(new_model_name)\n",
    "        y_pred = model.predict(X_test)\n",
    "        tp, fp, fn, tn = confusion_matrix(y_test, y_pred).ravel()\n",
    "        precision = tp / (tp + fp)\n",
    "        precision_list.append(precision)\n",
    "        recall = tp / (tp + fn)\n",
    "        recall_list.append(recall)\n",
    "        F1 = (2 * precision * recall) / (precision + recall)\n",
    "        F1_list.append(F1)\n",
    "        evaluation_df = pd.DataFrame(zip(model_name , precision_list , recall_list , F1_list) , columns = \\\n",
    "                                 ['Model','Precision', 'Recall', 'F1_Score'])\n",
    "        #print(f'Precision:{precision:.3f}\\nRecall:{recall:.3f}\\nF1 score:{F1:.3f}')\n",
    "        return evaluation_df"
   ]
  },
  {
   "cell_type": "markdown",
   "metadata": {},
   "source": [
    "## 1. ANN"
   ]
  },
  {
   "cell_type": "code",
   "execution_count": 9,
   "metadata": {
    "id": "JB07Z_HszdnB"
   },
   "outputs": [],
   "source": [
    "X_train, X_test , y_train, y_test = train_test_split(X,y, test_size=0.20, random_state=42)"
   ]
  },
  {
   "cell_type": "code",
   "execution_count": 10,
   "metadata": {
    "colab": {
     "base_uri": "https://localhost:8080/"
    },
    "id": "1EQjuF9yzdnC",
    "outputId": "50ad2355-1944-4e1e-cacd-a6bc5afaefaa"
   },
   "outputs": [
    {
     "name": "stdout",
     "output_type": "stream",
     "text": [
      "Epoch 1/10\n",
      "16/16 [==============================] - 1s 2ms/step - loss: 0.5952 - accuracy: 0.6889\n",
      "Epoch 2/10\n",
      "16/16 [==============================] - 0s 1ms/step - loss: 0.5138 - accuracy: 0.7410\n",
      "Epoch 3/10\n",
      "16/16 [==============================] - 0s 2ms/step - loss: 0.5051 - accuracy: 0.7476\n",
      "Epoch 4/10\n",
      "16/16 [==============================] - 0s 1ms/step - loss: 0.4925 - accuracy: 0.7394\n",
      "Epoch 5/10\n",
      "16/16 [==============================] - 0s 2ms/step - loss: 0.5041 - accuracy: 0.7573\n",
      "Epoch 6/10\n",
      "16/16 [==============================] - 0s 2ms/step - loss: 0.4801 - accuracy: 0.7736\n",
      "Epoch 7/10\n",
      "16/16 [==============================] - 0s 1ms/step - loss: 0.4762 - accuracy: 0.7606\n",
      "Epoch 8/10\n",
      "16/16 [==============================] - 0s 2ms/step - loss: 0.4741 - accuracy: 0.7622\n",
      "Epoch 9/10\n",
      "16/16 [==============================] - 0s 1ms/step - loss: 0.4631 - accuracy: 0.7720\n",
      "Epoch 10/10\n",
      "16/16 [==============================] - 0s 1ms/step - loss: 0.4796 - accuracy: 0.7476\n"
     ]
    },
    {
     "data": {
      "text/plain": [
       "<keras.callbacks.History at 0x24c4ca713d0>"
      ]
     },
     "execution_count": 10,
     "metadata": {},
     "output_type": "execute_result"
    }
   ],
   "source": [
    "clf_ann = Sequential()\n",
    "clf_ann.add(Dense(16,input_dim = X.shape[1],kernel_initializer = 'normal',activation = 'relu'))\n",
    "clf_ann.add(Dropout(0.1))\n",
    "clf_ann.add(Dense(8,kernel_initializer = 'normal',activation = 'relu'))\n",
    "clf_ann.add(Dropout(0.1))\n",
    "clf_ann.add(Dense(1,activation = 'sigmoid'))\n",
    "    \n",
    "adam = Adam(lr = 0.1)\n",
    "clf_ann.compile(loss = 'binary_crossentropy',optimizer = adam,metrics = ['accuracy'])\n",
    "clf_ann.fit(X_train, y_train, epochs = 10, batch_size = 40)"
   ]
  },
  {
   "cell_type": "code",
   "execution_count": 11,
   "metadata": {
    "colab": {
     "base_uri": "https://localhost:8080/"
    },
    "id": "5ZV62O3CzdnD",
    "outputId": "b16355db-03aa-4567-c14c-6f69268d95c8"
   },
   "outputs": [
    {
     "data": {
      "text/html": [
       "<div>\n",
       "<style scoped>\n",
       "    .dataframe tbody tr th:only-of-type {\n",
       "        vertical-align: middle;\n",
       "    }\n",
       "\n",
       "    .dataframe tbody tr th {\n",
       "        vertical-align: top;\n",
       "    }\n",
       "\n",
       "    .dataframe thead th {\n",
       "        text-align: right;\n",
       "    }\n",
       "</style>\n",
       "<table border=\"1\" class=\"dataframe\">\n",
       "  <thead>\n",
       "    <tr style=\"text-align: right;\">\n",
       "      <th></th>\n",
       "      <th>Model</th>\n",
       "      <th>ROC_AUC_Score</th>\n",
       "    </tr>\n",
       "  </thead>\n",
       "  <tbody>\n",
       "    <tr>\n",
       "      <th>0</th>\n",
       "      <td>Artificial Neural Network</td>\n",
       "      <td>0.745455</td>\n",
       "    </tr>\n",
       "  </tbody>\n",
       "</table>\n",
       "</div>"
      ],
      "text/plain": [
       "                       Model  ROC_AUC_Score\n",
       "0  Artificial Neural Network       0.745455"
      ]
     },
     "execution_count": 11,
     "metadata": {},
     "output_type": "execute_result"
    }
   ],
   "source": [
    "# Calculating ROC_AUC score\n",
    "\n",
    "proba = clf_ann.predict(X_test)\n",
    "y_pred_ann = (proba > 0.5)\n",
    "#y_pred_ann = clf_ann.predict(X_test)\n",
    "roc_auc_ann = roc_auc_score(y_test, y_pred_ann)\n",
    "performance('Artificial Neural Network', roc_auc_ann)"
   ]
  },
  {
   "cell_type": "code",
   "execution_count": 12,
   "metadata": {
    "colab": {
     "base_uri": "https://localhost:8080/"
    },
    "id": "bdypmZxzC69e",
    "outputId": "3d0b543c-4f48-4800-8632-c590a822c79d"
   },
   "outputs": [
    {
     "data": {
      "text/html": [
       "<div>\n",
       "<style scoped>\n",
       "    .dataframe tbody tr th:only-of-type {\n",
       "        vertical-align: middle;\n",
       "    }\n",
       "\n",
       "    .dataframe tbody tr th {\n",
       "        vertical-align: top;\n",
       "    }\n",
       "\n",
       "    .dataframe thead th {\n",
       "        text-align: right;\n",
       "    }\n",
       "</style>\n",
       "<table border=\"1\" class=\"dataframe\">\n",
       "  <thead>\n",
       "    <tr style=\"text-align: right;\">\n",
       "      <th></th>\n",
       "      <th>Model</th>\n",
       "      <th>Precision</th>\n",
       "      <th>Recall</th>\n",
       "      <th>F1_Score</th>\n",
       "    </tr>\n",
       "  </thead>\n",
       "  <tbody>\n",
       "    <tr>\n",
       "      <th>0</th>\n",
       "      <td>Artificial Neural Network</td>\n",
       "      <td>0.818182</td>\n",
       "      <td>0.818182</td>\n",
       "      <td>0.818182</td>\n",
       "    </tr>\n",
       "  </tbody>\n",
       "</table>\n",
       "</div>"
      ],
      "text/plain": [
       "                       Model  Precision    Recall  F1_Score\n",
       "0  Artificial Neural Network   0.818182  0.818182  0.818182"
      ]
     },
     "execution_count": 12,
     "metadata": {},
     "output_type": "execute_result"
    }
   ],
   "source": [
    "get_pre_rec_f1(clf_ann , 'Artificial Neural Network')"
   ]
  },
  {
   "cell_type": "markdown",
   "metadata": {},
   "source": [
    "## 2. Random Forest"
   ]
  },
  {
   "cell_type": "code",
   "execution_count": 13,
   "metadata": {
    "colab": {
     "base_uri": "https://localhost:8080/"
    },
    "id": "kQben1z5DH9i",
    "outputId": "5c506516-0323-4d1e-878a-f77e5aed1209"
   },
   "outputs": [
    {
     "name": "stdout",
     "output_type": "stream",
     "text": [
      "Fitting 3 folds for each of 81 candidates, totalling 243 fits\n"
     ]
    },
    {
     "data": {
      "text/plain": [
       "{'max_depth': 60,\n",
       " 'min_samples_leaf': 3,\n",
       " 'min_samples_split': 12,\n",
       " 'n_estimators': 300}"
      ]
     },
     "execution_count": 13,
     "metadata": {},
     "output_type": "execute_result"
    }
   ],
   "source": [
    "# Random Forest\n",
    "# Hyperparameter tuning\n",
    "\n",
    "# Create parameter grid  \n",
    "param_grid = {\n",
    "    'max_depth': [60, 90, 110],\n",
    "    'min_samples_leaf': [3, 4, 5],\n",
    "    'min_samples_split': [8, 10, 12],\n",
    "    'n_estimators': [100, 200, 300]\n",
    "}\n",
    "\n",
    "# Instantiate the model\n",
    "clf_rf = RandomForestClassifier()\n",
    "\n",
    "# Instantiate grid search model\n",
    "grid_search = GridSearchCV(estimator = clf_rf, param_grid = param_grid,    \n",
    "                          cv = 3, n_jobs = -1, verbose = 1)\n",
    "\n",
    "# Fit grid search to the data\n",
    "grid_search.fit(X_train, y_train)\n",
    "grid_search.best_params_"
   ]
  },
  {
   "cell_type": "code",
   "execution_count": 14,
   "metadata": {
    "colab": {
     "base_uri": "https://localhost:8080/"
    },
    "id": "ihOkCqMhDkg0",
    "outputId": "f2fcc921-6fec-4b5c-dd31-a643168ec432"
   },
   "outputs": [
    {
     "data": {
      "text/html": [
       "<div>\n",
       "<style scoped>\n",
       "    .dataframe tbody tr th:only-of-type {\n",
       "        vertical-align: middle;\n",
       "    }\n",
       "\n",
       "    .dataframe tbody tr th {\n",
       "        vertical-align: top;\n",
       "    }\n",
       "\n",
       "    .dataframe thead th {\n",
       "        text-align: right;\n",
       "    }\n",
       "</style>\n",
       "<table border=\"1\" class=\"dataframe\">\n",
       "  <thead>\n",
       "    <tr style=\"text-align: right;\">\n",
       "      <th></th>\n",
       "      <th>Model</th>\n",
       "      <th>ROC_AUC_Score</th>\n",
       "    </tr>\n",
       "  </thead>\n",
       "  <tbody>\n",
       "    <tr>\n",
       "      <th>0</th>\n",
       "      <td>Artificial Neural Network</td>\n",
       "      <td>0.745455</td>\n",
       "    </tr>\n",
       "    <tr>\n",
       "      <th>1</th>\n",
       "      <td>Random Forest</td>\n",
       "      <td>0.840407</td>\n",
       "    </tr>\n",
       "  </tbody>\n",
       "</table>\n",
       "</div>"
      ],
      "text/plain": [
       "                       Model  ROC_AUC_Score\n",
       "0  Artificial Neural Network       0.745455\n",
       "1              Random Forest       0.840407"
      ]
     },
     "execution_count": 14,
     "metadata": {},
     "output_type": "execute_result"
    }
   ],
   "source": [
    "# Use the best parameters to fit the model\n",
    "\n",
    "clf_rf = RandomForestClassifier(**grid_search.best_params_)   \n",
    "clf_rf.fit(X_train,y_train)\n",
    "\n",
    "scores = cross_val_score(clf_rf, X_train, y_train, scoring =\"roc_auc\", cv = 5)\n",
    "roc_auc_rf = np.mean(scores)\n",
    "performance('Random Forest',roc_auc_rf)"
   ]
  },
  {
   "cell_type": "code",
   "execution_count": 15,
   "metadata": {},
   "outputs": [
    {
     "data": {
      "text/html": [
       "<div>\n",
       "<style scoped>\n",
       "    .dataframe tbody tr th:only-of-type {\n",
       "        vertical-align: middle;\n",
       "    }\n",
       "\n",
       "    .dataframe tbody tr th {\n",
       "        vertical-align: top;\n",
       "    }\n",
       "\n",
       "    .dataframe thead th {\n",
       "        text-align: right;\n",
       "    }\n",
       "</style>\n",
       "<table border=\"1\" class=\"dataframe\">\n",
       "  <thead>\n",
       "    <tr style=\"text-align: right;\">\n",
       "      <th></th>\n",
       "      <th>Model</th>\n",
       "      <th>Precision</th>\n",
       "      <th>Recall</th>\n",
       "      <th>F1_Score</th>\n",
       "    </tr>\n",
       "  </thead>\n",
       "  <tbody>\n",
       "    <tr>\n",
       "      <th>0</th>\n",
       "      <td>Artificial Neural Network</td>\n",
       "      <td>0.818182</td>\n",
       "      <td>0.818182</td>\n",
       "      <td>0.818182</td>\n",
       "    </tr>\n",
       "    <tr>\n",
       "      <th>1</th>\n",
       "      <td>Random Forest</td>\n",
       "      <td>0.818182</td>\n",
       "      <td>0.818182</td>\n",
       "      <td>0.818182</td>\n",
       "    </tr>\n",
       "  </tbody>\n",
       "</table>\n",
       "</div>"
      ],
      "text/plain": [
       "                       Model  Precision    Recall  F1_Score\n",
       "0  Artificial Neural Network   0.818182  0.818182  0.818182\n",
       "1              Random Forest   0.818182  0.818182  0.818182"
      ]
     },
     "execution_count": 15,
     "metadata": {},
     "output_type": "execute_result"
    }
   ],
   "source": [
    "get_pre_rec_f1(clf_rf,'Random Forest')"
   ]
  },
  {
   "cell_type": "markdown",
   "metadata": {},
   "source": [
    "## 3. XGBoost"
   ]
  },
  {
   "cell_type": "code",
   "execution_count": 16,
   "metadata": {
    "colab": {
     "base_uri": "https://localhost:8080/"
    },
    "id": "jtbg57rjD6gx",
    "outputId": "ee8397dc-ab24-460a-d6c6-778dd57a4ba5"
   },
   "outputs": [
    {
     "name": "stdout",
     "output_type": "stream",
     "text": [
      "{'n_estimators': array([200, 400, 600, 800]), 'gamma': array([0.1, 0.2, 0.3, 0.4]), 'learning_rate': array([0.1, 0.2, 0.3, 0.4, 0.5]), 'max_depth': [3, 4, 5, 6, 7], 'subsample': array([0.5, 0.6, 0.7, 0.8]), 'colsample_bytree': array([0.5, 0.6, 0.7, 0.8]), 'scale_pos_weight': [1, 3.5]}\n"
     ]
    }
   ],
   "source": [
    "# XGBoost\n",
    "from sklearn.model_selection import RandomizedSearchCV\n",
    "# Number of trees\n",
    "n_estimators = np.arange(200,1000,200)\n",
    "\n",
    "# Minimum loss reduction required to make a further partition on a leaf node of the tree\n",
    "# The larger gamma is, the more conservative the algorithm will be\n",
    "gamma = np.arange(0.1,0.4,0.1)\n",
    "\n",
    "# Default 0.3, range(0,1)\n",
    "learning_rate = np.arange(0.1,0.6,0.1)\n",
    "\n",
    "# Maximum number of levels in tree\n",
    "max_depth = list(range(3,8,1))\n",
    "\n",
    "# Subsample ratio of the training instances.Range(0,1)\n",
    "subsample = np.arange(0.5,0.9,0.1)\n",
    "\n",
    "# Subsample ratio of columns when constructing each tree. Range(0,1)\n",
    "colsample_bytree = np.arange(0.5,0.9,0.1)\n",
    "\n",
    "# Control the balance of positive and negative weights\n",
    "# Sum(negative instances) / sum(positive instances)\n",
    "scale_pos_weight = [1,3.5]\n",
    "\n",
    "\n",
    "# Create the random grid\n",
    "random_grid_xgb = {'n_estimators': n_estimators,\n",
    "                   'gamma': gamma,\n",
    "                   'learning_rate':learning_rate,\n",
    "                   'max_depth': max_depth,\n",
    "                   'subsample':subsample,\n",
    "                   'colsample_bytree':colsample_bytree,\n",
    "                   'scale_pos_weight':scale_pos_weight\n",
    "                  }\n",
    "print(random_grid_xgb)"
   ]
  },
  {
   "cell_type": "code",
   "execution_count": 17,
   "metadata": {
    "colab": {
     "base_uri": "https://localhost:8080/"
    },
    "id": "SJuWN_LwEElG",
    "outputId": "6d351610-4b07-460a-a7da-a1f4810d1bac"
   },
   "outputs": [
    {
     "name": "stdout",
     "output_type": "stream",
     "text": [
      "Fitting 3 folds for each of 5 candidates, totalling 15 fits\n",
      "[16:06:49] WARNING: C:/Users/Administrator/workspace/xgboost-win64_release_1.4.0/src/learner.cc:1095: Starting in XGBoost 1.3.0, the default evaluation metric used with the objective 'binary:logistic' was changed from 'error' to 'logloss'. Explicitly set eval_metric if you'd like to restore the old behavior.\n",
      "{'subsample': 0.7, 'scale_pos_weight': 3.5, 'n_estimators': 200, 'max_depth': 5, 'learning_rate': 0.1, 'gamma': 0.2, 'colsample_bytree': 0.7} 0.824665458053374\n"
     ]
    }
   ],
   "source": [
    "# Use randomized search to find best parameters\n",
    "\n",
    "xgboost = XGBClassifier()\n",
    "xgb_random = RandomizedSearchCV(estimator = xgboost, \n",
    "                                param_distributions = random_grid_xgb, \n",
    "                                n_iter = 5, \n",
    "                                cv = 3, \n",
    "                                verbose=1, \n",
    "                                random_state=42, \n",
    "                                n_jobs = -1,\n",
    "                                scoring ='roc_auc')\n",
    "\n",
    "\n",
    "xgb_random.fit(X_train, y_train)   \n",
    "\n",
    "print(xgb_random.best_params_,xgb_random.best_score_)"
   ]
  },
  {
   "cell_type": "code",
   "execution_count": 18,
   "metadata": {
    "colab": {
     "base_uri": "https://localhost:8080/"
    },
    "id": "nvXXpHyWEI-f",
    "outputId": "c4957074-6c88-47a8-9958-608a81eab50f"
   },
   "outputs": [
    {
     "name": "stdout",
     "output_type": "stream",
     "text": [
      "[16:06:50] WARNING: C:/Users/Administrator/workspace/xgboost-win64_release_1.4.0/src/learner.cc:1095: Starting in XGBoost 1.3.0, the default evaluation metric used with the objective 'binary:logistic' was changed from 'error' to 'logloss'. Explicitly set eval_metric if you'd like to restore the old behavior.\n",
      "[16:06:50] WARNING: C:/Users/Administrator/workspace/xgboost-win64_release_1.4.0/src/learner.cc:1095: Starting in XGBoost 1.3.0, the default evaluation metric used with the objective 'binary:logistic' was changed from 'error' to 'logloss'. Explicitly set eval_metric if you'd like to restore the old behavior.\n",
      "[16:06:50] WARNING: C:/Users/Administrator/workspace/xgboost-win64_release_1.4.0/src/learner.cc:1095: Starting in XGBoost 1.3.0, the default evaluation metric used with the objective 'binary:logistic' was changed from 'error' to 'logloss'. Explicitly set eval_metric if you'd like to restore the old behavior.\n",
      "[16:06:50] WARNING: C:/Users/Administrator/workspace/xgboost-win64_release_1.4.0/src/learner.cc:1095: Starting in XGBoost 1.3.0, the default evaluation metric used with the objective 'binary:logistic' was changed from 'error' to 'logloss'. Explicitly set eval_metric if you'd like to restore the old behavior.\n",
      "[16:06:50] WARNING: C:/Users/Administrator/workspace/xgboost-win64_release_1.4.0/src/learner.cc:1095: Starting in XGBoost 1.3.0, the default evaluation metric used with the objective 'binary:logistic' was changed from 'error' to 'logloss'. Explicitly set eval_metric if you'd like to restore the old behavior.\n",
      "[16:06:51] WARNING: C:/Users/Administrator/workspace/xgboost-win64_release_1.4.0/src/learner.cc:1095: Starting in XGBoost 1.3.0, the default evaluation metric used with the objective 'binary:logistic' was changed from 'error' to 'logloss'. Explicitly set eval_metric if you'd like to restore the old behavior.\n"
     ]
    },
    {
     "data": {
      "text/html": [
       "<div>\n",
       "<style scoped>\n",
       "    .dataframe tbody tr th:only-of-type {\n",
       "        vertical-align: middle;\n",
       "    }\n",
       "\n",
       "    .dataframe tbody tr th {\n",
       "        vertical-align: top;\n",
       "    }\n",
       "\n",
       "    .dataframe thead th {\n",
       "        text-align: right;\n",
       "    }\n",
       "</style>\n",
       "<table border=\"1\" class=\"dataframe\">\n",
       "  <thead>\n",
       "    <tr style=\"text-align: right;\">\n",
       "      <th></th>\n",
       "      <th>Model</th>\n",
       "      <th>ROC_AUC_Score</th>\n",
       "    </tr>\n",
       "  </thead>\n",
       "  <tbody>\n",
       "    <tr>\n",
       "      <th>0</th>\n",
       "      <td>Artificial Neural Network</td>\n",
       "      <td>0.745455</td>\n",
       "    </tr>\n",
       "    <tr>\n",
       "      <th>1</th>\n",
       "      <td>Random Forest</td>\n",
       "      <td>0.840407</td>\n",
       "    </tr>\n",
       "    <tr>\n",
       "      <th>2</th>\n",
       "      <td>XGBoost</td>\n",
       "      <td>0.821876</td>\n",
       "    </tr>\n",
       "  </tbody>\n",
       "</table>\n",
       "</div>"
      ],
      "text/plain": [
       "                       Model  ROC_AUC_Score\n",
       "0  Artificial Neural Network       0.745455\n",
       "1              Random Forest       0.840407\n",
       "2                    XGBoost       0.821876"
      ]
     },
     "execution_count": 18,
     "metadata": {},
     "output_type": "execute_result"
    }
   ],
   "source": [
    "# Use the best parameters to fit the model\n",
    "\n",
    "clf_xgb = XGBClassifier(**xgb_random.best_params_)   \n",
    "clf_xgb.fit(X_train,y_train)\n",
    "scores = cross_val_score(clf_xgb, X_train, y_train, scoring =\"roc_auc\", cv = 5)\n",
    "roc_auc_xgb = np.mean(scores)\n",
    "performance('XGBoost',roc_auc_xgb)"
   ]
  },
  {
   "cell_type": "code",
   "execution_count": 19,
   "metadata": {
    "id": "Yokn43RzHD9B"
   },
   "outputs": [
    {
     "data": {
      "text/html": [
       "<div>\n",
       "<style scoped>\n",
       "    .dataframe tbody tr th:only-of-type {\n",
       "        vertical-align: middle;\n",
       "    }\n",
       "\n",
       "    .dataframe tbody tr th {\n",
       "        vertical-align: top;\n",
       "    }\n",
       "\n",
       "    .dataframe thead th {\n",
       "        text-align: right;\n",
       "    }\n",
       "</style>\n",
       "<table border=\"1\" class=\"dataframe\">\n",
       "  <thead>\n",
       "    <tr style=\"text-align: right;\">\n",
       "      <th></th>\n",
       "      <th>Model</th>\n",
       "      <th>Precision</th>\n",
       "      <th>Recall</th>\n",
       "      <th>F1_Score</th>\n",
       "    </tr>\n",
       "  </thead>\n",
       "  <tbody>\n",
       "    <tr>\n",
       "      <th>0</th>\n",
       "      <td>Artificial Neural Network</td>\n",
       "      <td>0.818182</td>\n",
       "      <td>0.818182</td>\n",
       "      <td>0.818182</td>\n",
       "    </tr>\n",
       "    <tr>\n",
       "      <th>1</th>\n",
       "      <td>Random Forest</td>\n",
       "      <td>0.818182</td>\n",
       "      <td>0.818182</td>\n",
       "      <td>0.818182</td>\n",
       "    </tr>\n",
       "    <tr>\n",
       "      <th>2</th>\n",
       "      <td>XGBoost</td>\n",
       "      <td>0.707071</td>\n",
       "      <td>0.833333</td>\n",
       "      <td>0.765027</td>\n",
       "    </tr>\n",
       "  </tbody>\n",
       "</table>\n",
       "</div>"
      ],
      "text/plain": [
       "                       Model  Precision    Recall  F1_Score\n",
       "0  Artificial Neural Network   0.818182  0.818182  0.818182\n",
       "1              Random Forest   0.818182  0.818182  0.818182\n",
       "2                    XGBoost   0.707071  0.833333  0.765027"
      ]
     },
     "execution_count": 19,
     "metadata": {},
     "output_type": "execute_result"
    }
   ],
   "source": [
    "get_pre_rec_f1(clf_xgb,'XGBoost')"
   ]
  },
  {
   "cell_type": "markdown",
   "metadata": {},
   "source": [
    "# Experimental Analysis"
   ]
  },
  {
   "cell_type": "code",
   "execution_count": 20,
   "metadata": {},
   "outputs": [],
   "source": [
    "from sklearn.metrics import roc_curve, plot_roc_curve, plot_precision_recall_curve, precision_recall_curve"
   ]
  },
  {
   "cell_type": "code",
   "execution_count": 21,
   "metadata": {},
   "outputs": [
    {
     "data": {
      "image/png": "[encoded data removed]",
      "text/plain": [
       "<Figure size 720x360 with 1 Axes>"
      ]
     },
     "metadata": {
      "needs_background": "light"
     },
     "output_type": "display_data"
    }
   ],
   "source": [
    "# Plot ROC_AUC curve of 3 models\n",
    " \n",
    "fig,ax=plt.subplots(figsize=(10,5))\n",
    "\n",
    "#plot_roc_curve(clf_lr, X_test, y_test,ax=ax, color=\"blue\",label='Logistic Regression')\n",
    "plot_roc_curve(clf_rf, X_test, y_test,ax=ax, color=\"black\",label='Random Forest')\n",
    "plot_roc_curve(clf_xgb, X_test, y_test,ax=ax, color=\"red\",label='XGBoost')\n",
    "#plot_roc_curve(clf_gnb , X_test , y_test , ax=ax , color = 'yellow' , label = 'Gaussian NB')\n",
    "#plot_roc_curve(model , X_test , y_test , ax = ax , color = 'green' , label = 'ANN')\n",
    "\n",
    "# ROC_AUC curve for ANN\n",
    "proba = clf_ann.predict(X_test)\n",
    "fpr1, tpr1, thresh1 = roc_curve(y_test, proba, pos_label=1)\n",
    "#plt.subplot(ax)\n",
    "plt.plot(fpr1, tpr1,color='green', label='ANN')\n",
    "# x label\n",
    "plt.xlabel('False Positive Rate')\n",
    "# y label\n",
    "plt.ylabel('True Positive rate')\n",
    "plt.legend(loc = 'best')\n",
    "plt.title('ROC/AUC of models')\n",
    "plt.grid()\n",
    "#plt.savefig('Comparison_of_models')"
   ]
  },
  {
   "cell_type": "code",
   "execution_count": 23,
   "metadata": {},
   "outputs": [
    {
     "data": {
      "image/png": "[encoded data removed]",
      "text/plain": [
       "<Figure size 720x360 with 1 Axes>"
      ]
     },
     "metadata": {
      "needs_background": "light"
     },
     "output_type": "display_data"
    }
   ],
   "source": [
    "# Compare 3 models' Precision_recall curves\n",
    "\n",
    "fig,ax=plt.subplots(figsize=(10,5))\n",
    "\n",
    "#plot_precision_recall_curve(clf_lr, X_test, y_test, ax=ax,color=\"blue\",label='Logistic Regression')\n",
    "plot_precision_recall_curve(clf_rf, X_test, y_test, ax=ax,color=\"black\",label='Random Forest')\n",
    "plot_precision_recall_curve(clf_xgb, X_test, y_test, ax=ax,color=\"red\",label='XGBoost')\n",
    "#plot_precision_recall_curve(clf_gnb , X_test , y_test , ax = ax , color = 'yellow' , label = 'Gaussian NB')\n",
    "\n",
    "# Precision-Recall curve  for ANN\n",
    "proba = clf_ann.predict(X_test)\n",
    "ann_precision, ann_recall, _ = precision_recall_curve(y_test, proba)\n",
    "ann_f1, ann_auc = 0.818182, 0.81\n",
    "plt.plot(ann_recall, ann_precision, label='ANN' , color = 'green')\n",
    "\n",
    "\n",
    "\n",
    "plt.title('Precision_Recall of models')\n",
    "plt.grid()\n",
    "plt.xlabel('Recall')\n",
    "plt.ylabel('Precision')\n",
    "# show the legend\n",
    "plt.legend()\n",
    "# show the plot\n",
    "plt.show()\n",
    "#plt.savefig('PR model_comparison')"
   ]
  },
  {
   "cell_type": "code",
   "execution_count": null,
   "metadata": {},
   "outputs": [],
   "source": []
  }
 ],
 "metadata": {
  "accelerator": "GPU",
  "colab": {
   "collapsed_sections": [],
   "include_colab_link": true,
   "name": "DiabetesPrediction.ipynb",
   "provenance": []
  },
  "kernelspec": {
   "display_name": "Python 3",
   "language": "python",
   "name": "python3"
  },
  "language_info": {
   "codemirror_mode": {
    "name": "ipython",
    "version": 3
   },
   "file_extension": ".py",
   "mimetype": "text/x-python",
   "name": "python",
   "nbconvert_exporter": "python",
   "pygments_lexer": "ipython3",
   "version": "3.8.3"
  }
 },
 "nbformat": 4,
 "nbformat_minor": 1
}
