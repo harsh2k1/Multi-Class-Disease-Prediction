{
 "cells": [
  {
   "cell_type": "code",
   "execution_count": 1,
   "metadata": {},
   "outputs": [],
   "source": [
    "import pandas as pd\n",
    "import numpy as np\n",
    "import warnings\n",
    "warnings.filterwarnings('ignore')\n",
    "import matplotlib.pyplot as plt\n",
    "import seaborn as sns\n",
    "from sklearn.model_selection import train_test_split , KFold\n",
    "%matplotlib inline"
   ]
  },
  {
   "cell_type": "code",
   "execution_count": 2,
   "metadata": {},
   "outputs": [],
   "source": [
    "import statistics as stats"
   ]
  },
  {
   "cell_type": "code",
   "execution_count": 3,
   "metadata": {},
   "outputs": [
    {
     "data": {
      "text/html": [
       "<div>\n",
       "<style scoped>\n",
       "    .dataframe tbody tr th:only-of-type {\n",
       "        vertical-align: middle;\n",
       "    }\n",
       "\n",
       "    .dataframe tbody tr th {\n",
       "        vertical-align: top;\n",
       "    }\n",
       "\n",
       "    .dataframe thead th {\n",
       "        text-align: right;\n",
       "    }\n",
       "</style>\n",
       "<table border=\"1\" class=\"dataframe\">\n",
       "  <thead>\n",
       "    <tr style=\"text-align: right;\">\n",
       "      <th></th>\n",
       "      <th>_id</th>\n",
       "      <th>ccf</th>\n",
       "      <th>age</th>\n",
       "      <th>sex</th>\n",
       "      <th>pain location</th>\n",
       "      <th>pain w exertion</th>\n",
       "      <th>relieved after rest</th>\n",
       "      <th>pncaden</th>\n",
       "      <th>chest pain type</th>\n",
       "      <th>resting bp s</th>\n",
       "      <th>...</th>\n",
       "      <th>rcaprox</th>\n",
       "      <th>rcadist</th>\n",
       "      <th>dummy 7</th>\n",
       "      <th>dummy 8</th>\n",
       "      <th>dummy 9</th>\n",
       "      <th>dummy 10</th>\n",
       "      <th>dummy 11</th>\n",
       "      <th>dummy 12</th>\n",
       "      <th>dummy 13</th>\n",
       "      <th>dummy 14</th>\n",
       "    </tr>\n",
       "  </thead>\n",
       "  <tbody>\n",
       "    <tr>\n",
       "      <th>0</th>\n",
       "      <td>1254</td>\n",
       "      <td>0</td>\n",
       "      <td>40</td>\n",
       "      <td>1</td>\n",
       "      <td>1</td>\n",
       "      <td>0</td>\n",
       "      <td>0.0</td>\n",
       "      <td>NaN</td>\n",
       "      <td>2</td>\n",
       "      <td>140.0</td>\n",
       "      <td>...</td>\n",
       "      <td>NaN</td>\n",
       "      <td>NaN</td>\n",
       "      <td>1.0</td>\n",
       "      <td>1.0</td>\n",
       "      <td>1.0</td>\n",
       "      <td>1.0</td>\n",
       "      <td>1.0</td>\n",
       "      <td>NaN</td>\n",
       "      <td>NaN</td>\n",
       "      <td>name</td>\n",
       "    </tr>\n",
       "    <tr>\n",
       "      <th>1</th>\n",
       "      <td>1255</td>\n",
       "      <td>0</td>\n",
       "      <td>49</td>\n",
       "      <td>0</td>\n",
       "      <td>1</td>\n",
       "      <td>0</td>\n",
       "      <td>0.0</td>\n",
       "      <td>NaN</td>\n",
       "      <td>3</td>\n",
       "      <td>160.0</td>\n",
       "      <td>...</td>\n",
       "      <td>NaN</td>\n",
       "      <td>NaN</td>\n",
       "      <td>1.0</td>\n",
       "      <td>1.0</td>\n",
       "      <td>1.0</td>\n",
       "      <td>1.0</td>\n",
       "      <td>1.0</td>\n",
       "      <td>NaN</td>\n",
       "      <td>NaN</td>\n",
       "      <td>name</td>\n",
       "    </tr>\n",
       "    <tr>\n",
       "      <th>2</th>\n",
       "      <td>1256</td>\n",
       "      <td>0</td>\n",
       "      <td>37</td>\n",
       "      <td>1</td>\n",
       "      <td>1</td>\n",
       "      <td>0</td>\n",
       "      <td>0.0</td>\n",
       "      <td>NaN</td>\n",
       "      <td>2</td>\n",
       "      <td>130.0</td>\n",
       "      <td>...</td>\n",
       "      <td>NaN</td>\n",
       "      <td>NaN</td>\n",
       "      <td>1.0</td>\n",
       "      <td>1.0</td>\n",
       "      <td>1.0</td>\n",
       "      <td>1.0</td>\n",
       "      <td>1.0</td>\n",
       "      <td>NaN</td>\n",
       "      <td>NaN</td>\n",
       "      <td>name</td>\n",
       "    </tr>\n",
       "    <tr>\n",
       "      <th>3</th>\n",
       "      <td>1257</td>\n",
       "      <td>0</td>\n",
       "      <td>48</td>\n",
       "      <td>0</td>\n",
       "      <td>1</td>\n",
       "      <td>1</td>\n",
       "      <td>1.0</td>\n",
       "      <td>NaN</td>\n",
       "      <td>4</td>\n",
       "      <td>138.0</td>\n",
       "      <td>...</td>\n",
       "      <td>2.0</td>\n",
       "      <td>NaN</td>\n",
       "      <td>1.0</td>\n",
       "      <td>1.0</td>\n",
       "      <td>1.0</td>\n",
       "      <td>1.0</td>\n",
       "      <td>1.0</td>\n",
       "      <td>NaN</td>\n",
       "      <td>NaN</td>\n",
       "      <td>name</td>\n",
       "    </tr>\n",
       "    <tr>\n",
       "      <th>4</th>\n",
       "      <td>1258</td>\n",
       "      <td>0</td>\n",
       "      <td>54</td>\n",
       "      <td>1</td>\n",
       "      <td>1</td>\n",
       "      <td>0</td>\n",
       "      <td>1.0</td>\n",
       "      <td>NaN</td>\n",
       "      <td>3</td>\n",
       "      <td>150.0</td>\n",
       "      <td>...</td>\n",
       "      <td>1.0</td>\n",
       "      <td>NaN</td>\n",
       "      <td>1.0</td>\n",
       "      <td>1.0</td>\n",
       "      <td>1.0</td>\n",
       "      <td>1.0</td>\n",
       "      <td>1.0</td>\n",
       "      <td>NaN</td>\n",
       "      <td>NaN</td>\n",
       "      <td>name</td>\n",
       "    </tr>\n",
       "  </tbody>\n",
       "</table>\n",
       "<p>5 rows × 76 columns</p>\n",
       "</div>"
      ],
      "text/plain": [
       "    _id  ccf  age  sex  pain location  pain w exertion  relieved after rest  \\\n",
       "0  1254    0   40    1              1                0                  0.0   \n",
       "1  1255    0   49    0              1                0                  0.0   \n",
       "2  1256    0   37    1              1                0                  0.0   \n",
       "3  1257    0   48    0              1                1                  1.0   \n",
       "4  1258    0   54    1              1                0                  1.0   \n",
       "\n",
       "   pncaden  chest pain type  resting bp s  ...  rcaprox  rcadist  dummy 7  \\\n",
       "0      NaN                2         140.0  ...      NaN      NaN      1.0   \n",
       "1      NaN                3         160.0  ...      NaN      NaN      1.0   \n",
       "2      NaN                2         130.0  ...      NaN      NaN      1.0   \n",
       "3      NaN                4         138.0  ...      2.0      NaN      1.0   \n",
       "4      NaN                3         150.0  ...      1.0      NaN      1.0   \n",
       "\n",
       "   dummy 8  dummy 9  dummy 10  dummy 11  dummy 12  dummy 13  dummy 14  \n",
       "0      1.0      1.0       1.0       1.0       NaN       NaN      name  \n",
       "1      1.0      1.0       1.0       1.0       NaN       NaN      name  \n",
       "2      1.0      1.0       1.0       1.0       NaN       NaN      name  \n",
       "3      1.0      1.0       1.0       1.0       NaN       NaN      name  \n",
       "4      1.0      1.0       1.0       1.0       NaN       NaN      name  \n",
       "\n",
       "[5 rows x 76 columns]"
      ]
     },
     "execution_count": 3,
     "metadata": {},
     "output_type": "execute_result"
    }
   ],
   "source": [
    "df = pd.read_csv('data/data.csv')\n",
    "df.head()"
   ]
  },
  {
   "cell_type": "code",
   "execution_count": 4,
   "metadata": {},
   "outputs": [
    {
     "data": {
      "text/plain": [
       "(617, 76)"
      ]
     },
     "execution_count": 4,
     "metadata": {},
     "output_type": "execute_result"
    }
   ],
   "source": [
    "df.shape"
   ]
  },
  {
   "cell_type": "code",
   "execution_count": 5,
   "metadata": {},
   "outputs": [
    {
     "data": {
      "text/plain": [
       "'1.0.5'"
      ]
     },
     "execution_count": 5,
     "metadata": {},
     "output_type": "execute_result"
    }
   ],
   "source": [
    "pd.__version__"
   ]
  },
  {
   "cell_type": "code",
   "execution_count": 6,
   "metadata": {},
   "outputs": [
    {
     "data": {
      "text/plain": [
       "Index(['_id', 'ccf', 'age', 'sex', 'pain location', 'pain w exertion',\n",
       "       'relieved after rest', 'pncaden', 'chest pain type', 'resting bp s',\n",
       "       'hypertension', 'cholesterol', 'smoker', 'cigarettes per day',\n",
       "       'years of smoking', 'fasting blood sugar', 'diabetes', 'family hist',\n",
       "       'resting ecg', 'ekg month', 'ekg day', 'ekg yr', 'digitalis',\n",
       "       'beta blocker', 'nitrates', 'calcium channel blocker', 'diuretic',\n",
       "       'exercise protocol', 'duration of exercise', 'thaltime',\n",
       "       'mets achieved', 'max heart rate', 'resting heart rate',\n",
       "       'peak exercise bp 1', 'peak exercise bp 2', 'dummy 1', 'resting bp d',\n",
       "       'exercise angina', 'xhypo', 'oldpeak', 'ST slope', 'ST height at rest',\n",
       "       'ST heaight at peak', 'flouroscopy', 'dummy 2', 'dummy 3',\n",
       "       'resting ejection fraction', 'rest wall motion abnormality',\n",
       "       'exercise ejection fraction', 'exercsie wall motion', 'thal', 'dummy 4',\n",
       "       'dummy 5', 'dummy 6', 'cath month', 'cath day', 'cath yr', 'target',\n",
       "       'lmt', 'ladprox', 'laddist', 'diag', 'cxmain', 'ramus', 'om1', 'om2',\n",
       "       'rcaprox', 'rcadist', 'dummy 7', 'dummy 8', 'dummy 9', 'dummy 10',\n",
       "       'dummy 11', 'dummy 12', 'dummy 13', 'dummy 14'],\n",
       "      dtype='object')"
      ]
     },
     "execution_count": 6,
     "metadata": {},
     "output_type": "execute_result"
    }
   ],
   "source": [
    "df.columns"
   ]
  },
  {
   "cell_type": "code",
   "execution_count": 7,
   "metadata": {},
   "outputs": [
    {
     "data": {
      "text/plain": [
       "(617, 62)"
      ]
     },
     "execution_count": 7,
     "metadata": {},
     "output_type": "execute_result"
    }
   ],
   "source": [
    "# Using useful features\n",
    "df = df.drop(['dummy 1' , 'dummy 2','dummy 3','dummy 4','dummy 5','dummy 6','dummy 7','dummy 8','dummy 9','dummy 10',\\\n",
    "             'dummy 11','dummy 12','dummy 13','dummy 14'] , axis = 1)\n",
    "df.shape"
   ]
  },
  {
   "cell_type": "code",
   "execution_count": 8,
   "metadata": {},
   "outputs": [
    {
     "data": {
      "text/plain": [
       "Index(['_id', 'ccf', 'age', 'sex', 'pain location', 'pain w exertion',\n",
       "       'relieved after rest', 'pncaden', 'chest pain type', 'resting bp s',\n",
       "       'hypertension', 'cholesterol', 'smoker', 'cigarettes per day',\n",
       "       'years of smoking', 'fasting blood sugar', 'diabetes', 'family hist',\n",
       "       'resting ecg', 'ekg month', 'ekg day', 'ekg yr', 'digitalis',\n",
       "       'beta blocker', 'nitrates', 'calcium channel blocker', 'diuretic',\n",
       "       'exercise protocol', 'duration of exercise', 'thaltime',\n",
       "       'mets achieved', 'max heart rate', 'resting heart rate',\n",
       "       'peak exercise bp 1', 'peak exercise bp 2', 'resting bp d',\n",
       "       'exercise angina', 'xhypo', 'oldpeak', 'ST slope', 'ST height at rest',\n",
       "       'ST heaight at peak', 'flouroscopy', 'resting ejection fraction',\n",
       "       'rest wall motion abnormality', 'exercise ejection fraction',\n",
       "       'exercsie wall motion', 'thal', 'cath month', 'cath day', 'cath yr',\n",
       "       'target', 'lmt', 'ladprox', 'laddist', 'diag', 'cxmain', 'ramus', 'om1',\n",
       "       'om2', 'rcaprox', 'rcadist'],\n",
       "      dtype='object')"
      ]
     },
     "execution_count": 8,
     "metadata": {},
     "output_type": "execute_result"
    }
   ],
   "source": [
    "df.columns"
   ]
  },
  {
   "cell_type": "code",
   "execution_count": 9,
   "metadata": {},
   "outputs": [
    {
     "data": {
      "text/plain": [
       "{0: 0,\n",
       " 1: 0,\n",
       " 2: 0,\n",
       " 3: 0,\n",
       " 4: 0,\n",
       " 5: 0,\n",
       " 6: 4,\n",
       " 7: 617,\n",
       " 8: 0,\n",
       " 9: 59,\n",
       " 10: 34,\n",
       " 11: 30,\n",
       " 12: 387,\n",
       " 13: 415,\n",
       " 14: 427,\n",
       " 15: 90,\n",
       " 16: 545,\n",
       " 17: 422,\n",
       " 18: 2,\n",
       " 19: 53,\n",
       " 20: 54,\n",
       " 21: 53,\n",
       " 22: 66,\n",
       " 23: 64,\n",
       " 24: 63,\n",
       " 25: 61,\n",
       " 26: 80,\n",
       " 27: 112,\n",
       " 28: 56,\n",
       " 29: 384,\n",
       " 30: 105,\n",
       " 31: 55,\n",
       " 32: 56,\n",
       " 33: 63,\n",
       " 34: 63,\n",
       " 35: 59,\n",
       " 36: 55,\n",
       " 37: 58,\n",
       " 38: 62,\n",
       " 39: 308,\n",
       " 40: 143,\n",
       " 41: 142,\n",
       " 42: 606,\n",
       " 43: 589,\n",
       " 44: 587,\n",
       " 45: 615,\n",
       " 46: 612,\n",
       " 47: 475,\n",
       " 48: 11,\n",
       " 49: 9,\n",
       " 50: 9,\n",
       " 51: 0,\n",
       " 52: 275,\n",
       " 53: 236,\n",
       " 54: 246,\n",
       " 55: 276,\n",
       " 56: 235,\n",
       " 57: 285,\n",
       " 58: 271,\n",
       " 59: 290,\n",
       " 60: 245,\n",
       " 61: 270}"
      ]
     },
     "execution_count": 9,
     "metadata": {},
     "output_type": "execute_result"
    }
   ],
   "source": [
    "null = {}\n",
    "for i in range(df.shape[1]):\n",
    "    null[i]= df.iloc[:,i].isnull().sum()\n",
    "null"
   ]
  },
  {
   "cell_type": "code",
   "execution_count": 10,
   "metadata": {},
   "outputs": [
    {
     "data": {
      "text/plain": [
       "[7, 12, 13, 14, 16, 17, 29, 42, 43, 44, 45, 46, 47]"
      ]
     },
     "execution_count": 10,
     "metadata": {},
     "output_type": "execute_result"
    }
   ],
   "source": [
    "keys = []\n",
    "null_keys = list(null.keys())\n",
    "null_values = list(null.values())\n",
    "for i in range(62):\n",
    "    if null_values[i] > df.shape[0]/2:\n",
    "        keys.append(null_keys[i])\n",
    "    else:\n",
    "        continue\n",
    "keys"
   ]
  },
  {
   "cell_type": "raw",
   "metadata": {},
   "source": [
    "These all are the column numbers where there are more than 50% of records are null. So we will drop them"
   ]
  },
  {
   "cell_type": "code",
   "execution_count": 11,
   "metadata": {},
   "outputs": [
    {
     "data": {
      "text/plain": [
       "(617, 49)"
      ]
     },
     "execution_count": 11,
     "metadata": {},
     "output_type": "execute_result"
    }
   ],
   "source": [
    "df.drop(df.columns[keys] , axis = 1 , inplace = True)\n",
    "df.shape"
   ]
  },
  {
   "cell_type": "code",
   "execution_count": 12,
   "metadata": {},
   "outputs": [
    {
     "data": {
      "text/plain": [
       "{0: 0,\n",
       " 1: 0,\n",
       " 2: 0,\n",
       " 3: 0,\n",
       " 4: 0,\n",
       " 5: 0,\n",
       " 6: 4,\n",
       " 7: 0,\n",
       " 8: 59,\n",
       " 9: 34,\n",
       " 10: 30,\n",
       " 11: 90,\n",
       " 12: 2,\n",
       " 13: 53,\n",
       " 14: 54,\n",
       " 15: 53,\n",
       " 16: 66,\n",
       " 17: 64,\n",
       " 18: 63,\n",
       " 19: 61,\n",
       " 20: 80,\n",
       " 21: 112,\n",
       " 22: 56,\n",
       " 23: 105,\n",
       " 24: 55,\n",
       " 25: 56,\n",
       " 26: 63,\n",
       " 27: 63,\n",
       " 28: 59,\n",
       " 29: 55,\n",
       " 30: 58,\n",
       " 31: 62,\n",
       " 32: 308,\n",
       " 33: 143,\n",
       " 34: 142,\n",
       " 35: 11,\n",
       " 36: 9,\n",
       " 37: 9,\n",
       " 38: 0,\n",
       " 39: 275,\n",
       " 40: 236,\n",
       " 41: 246,\n",
       " 42: 276,\n",
       " 43: 235,\n",
       " 44: 285,\n",
       " 45: 271,\n",
       " 46: 290,\n",
       " 47: 245,\n",
       " 48: 270}"
      ]
     },
     "execution_count": 12,
     "metadata": {},
     "output_type": "execute_result"
    }
   ],
   "source": [
    "null = {}\n",
    "for i in range(df.shape[1]):\n",
    "    null[i]= df.iloc[:,i].isnull().sum()\n",
    "null"
   ]
  },
  {
   "cell_type": "code",
   "execution_count": 13,
   "metadata": {},
   "outputs": [
    {
     "data": {
      "text/plain": [
       "Index(['_id', 'ccf', 'age', 'sex', 'pain location', 'pain w exertion',\n",
       "       'relieved after rest', 'chest pain type', 'resting bp s',\n",
       "       'hypertension', 'cholesterol', 'fasting blood sugar', 'resting ecg',\n",
       "       'ekg month', 'ekg day', 'ekg yr', 'digitalis', 'beta blocker',\n",
       "       'nitrates', 'calcium channel blocker', 'diuretic', 'exercise protocol',\n",
       "       'duration of exercise', 'mets achieved', 'max heart rate',\n",
       "       'resting heart rate', 'peak exercise bp 1', 'peak exercise bp 2',\n",
       "       'resting bp d', 'exercise angina', 'xhypo', 'oldpeak', 'ST slope',\n",
       "       'ST height at rest', 'ST heaight at peak', 'cath month', 'cath day',\n",
       "       'cath yr', 'target', 'lmt', 'ladprox', 'laddist', 'diag', 'cxmain',\n",
       "       'ramus', 'om1', 'om2', 'rcaprox', 'rcadist'],\n",
       "      dtype='object')"
      ]
     },
     "execution_count": 13,
     "metadata": {},
     "output_type": "execute_result"
    }
   ],
   "source": [
    "df.columns"
   ]
  },
  {
   "cell_type": "raw",
   "metadata": {},
   "source": [
    "some columns still have alot null values"
   ]
  },
  {
   "cell_type": "code",
   "execution_count": 14,
   "metadata": {},
   "outputs": [
    {
     "data": {
      "text/plain": [
       "[32, 39, 40, 41, 42, 43, 44, 45, 46, 47, 48]"
      ]
     },
     "execution_count": 14,
     "metadata": {},
     "output_type": "execute_result"
    }
   ],
   "source": [
    "keys = []\n",
    "null_keys = list(null.keys())\n",
    "null_values = list(null.values())\n",
    "for i in range(49):\n",
    "    if null_values[i] >= 200:\n",
    "        keys.append(null_keys[i])\n",
    "    else:\n",
    "        continue\n",
    "keys"
   ]
  },
  {
   "cell_type": "code",
   "execution_count": 15,
   "metadata": {},
   "outputs": [],
   "source": [
    "df.drop(df.columns[keys] , axis = 1 , inplace = True)"
   ]
  },
  {
   "cell_type": "code",
   "execution_count": 16,
   "metadata": {},
   "outputs": [
    {
     "data": {
      "text/plain": [
       "(617, 38)"
      ]
     },
     "execution_count": 16,
     "metadata": {},
     "output_type": "execute_result"
    }
   ],
   "source": [
    "df.shape"
   ]
  },
  {
   "cell_type": "code",
   "execution_count": 17,
   "metadata": {},
   "outputs": [
    {
     "data": {
      "text/plain": [
       "{0: 0,\n",
       " 1: 0,\n",
       " 2: 0,\n",
       " 3: 0,\n",
       " 4: 0,\n",
       " 5: 0,\n",
       " 6: 4,\n",
       " 7: 0,\n",
       " 8: 59,\n",
       " 9: 34,\n",
       " 10: 30,\n",
       " 11: 90,\n",
       " 12: 2,\n",
       " 13: 53,\n",
       " 14: 54,\n",
       " 15: 53,\n",
       " 16: 66,\n",
       " 17: 64,\n",
       " 18: 63,\n",
       " 19: 61,\n",
       " 20: 80,\n",
       " 21: 112,\n",
       " 22: 56,\n",
       " 23: 105,\n",
       " 24: 55,\n",
       " 25: 56,\n",
       " 26: 63,\n",
       " 27: 63,\n",
       " 28: 59,\n",
       " 29: 55,\n",
       " 30: 58,\n",
       " 31: 62,\n",
       " 32: 143,\n",
       " 33: 142,\n",
       " 34: 11,\n",
       " 35: 9,\n",
       " 36: 9,\n",
       " 37: 0}"
      ]
     },
     "execution_count": 17,
     "metadata": {},
     "output_type": "execute_result"
    }
   ],
   "source": [
    "null = {}\n",
    "for i in range(df.shape[1]):\n",
    "    null[i]= df.iloc[:,i].isnull().sum()\n",
    "null"
   ]
  },
  {
   "cell_type": "code",
   "execution_count": 18,
   "metadata": {},
   "outputs": [
    {
     "data": {
      "text/plain": [
       "Index(['_id', 'ccf', 'age', 'sex', 'pain location', 'pain w exertion',\n",
       "       'relieved after rest', 'chest pain type', 'resting bp s',\n",
       "       'hypertension', 'cholesterol', 'fasting blood sugar', 'resting ecg',\n",
       "       'ekg month', 'ekg day', 'ekg yr', 'digitalis', 'beta blocker',\n",
       "       'nitrates', 'calcium channel blocker', 'diuretic', 'exercise protocol',\n",
       "       'duration of exercise', 'mets achieved', 'max heart rate',\n",
       "       'resting heart rate', 'peak exercise bp 1', 'peak exercise bp 2',\n",
       "       'resting bp d', 'exercise angina', 'xhypo', 'oldpeak',\n",
       "       'ST height at rest', 'ST heaight at peak', 'cath month', 'cath day',\n",
       "       'cath yr', 'target'],\n",
       "      dtype='object')"
      ]
     },
     "execution_count": 18,
     "metadata": {},
     "output_type": "execute_result"
    }
   ],
   "source": [
    "df.columns"
   ]
  },
  {
   "cell_type": "markdown",
   "metadata": {},
   "source": [
    "# Filling null values"
   ]
  },
  {
   "cell_type": "markdown",
   "metadata": {},
   "source": [
    "## 1. 'Relieved after rest'"
   ]
  },
  {
   "cell_type": "code",
   "execution_count": 19,
   "metadata": {},
   "outputs": [
    {
     "data": {
      "text/plain": [
       "('relieved after rest', array([ 0.,  1., nan]))"
      ]
     },
     "execution_count": 19,
     "metadata": {},
     "output_type": "execute_result"
    }
   ],
   "source": [
    "df.columns[6] , df[df.columns[6]].unique()"
   ]
  },
  {
   "cell_type": "code",
   "execution_count": 20,
   "metadata": {},
   "outputs": [],
   "source": [
    "df[df.columns[6]].fillna(stats.mode(df[df.columns[6]]) , inplace = True)"
   ]
  },
  {
   "cell_type": "code",
   "execution_count": 21,
   "metadata": {},
   "outputs": [
    {
     "data": {
      "text/plain": [
       "('relieved after rest',\n",
       " array([0., 1.]),\n",
       " 1.0    416\n",
       " 0.0    201\n",
       " Name: relieved after rest, dtype: int64)"
      ]
     },
     "execution_count": 21,
     "metadata": {},
     "output_type": "execute_result"
    }
   ],
   "source": [
    "df.columns[6] , df[df.columns[6]].unique() , df[df.columns[6]].value_counts()"
   ]
  },
  {
   "cell_type": "markdown",
   "metadata": {},
   "source": [
    "## 2. 'resting bp s'"
   ]
  },
  {
   "cell_type": "code",
   "execution_count": 22,
   "metadata": {},
   "outputs": [
    {
     "data": {
      "text/plain": [
       "'resting bp s'"
      ]
     },
     "execution_count": 22,
     "metadata": {},
     "output_type": "execute_result"
    }
   ],
   "source": [
    "df.columns[8]"
   ]
  },
  {
   "cell_type": "code",
   "execution_count": 23,
   "metadata": {},
   "outputs": [
    {
     "data": {
      "text/plain": [
       "0      140.0\n",
       "1      160.0\n",
       "2      130.0\n",
       "3      138.0\n",
       "4      150.0\n",
       "       ...  \n",
       "612    127.0\n",
       "613      NaN\n",
       "614    122.0\n",
       "615      NaN\n",
       "616    120.0\n",
       "Name: resting bp s, Length: 617, dtype: float64"
      ]
     },
     "execution_count": 23,
     "metadata": {},
     "output_type": "execute_result"
    }
   ],
   "source": [
    "df[df.columns[8]]"
   ]
  },
  {
   "cell_type": "code",
   "execution_count": 24,
   "metadata": {},
   "outputs": [],
   "source": [
    "df[df.columns[8]].fillna(df[df.columns[8]].mean() , inplace = True)"
   ]
  },
  {
   "cell_type": "markdown",
   "metadata": {},
   "source": [
    "## 3. 'hypertension'"
   ]
  },
  {
   "cell_type": "code",
   "execution_count": 25,
   "metadata": {},
   "outputs": [
    {
     "data": {
      "text/plain": [
       "'hypertension'"
      ]
     },
     "execution_count": 25,
     "metadata": {},
     "output_type": "execute_result"
    }
   ],
   "source": [
    "df.columns[9]"
   ]
  },
  {
   "cell_type": "code",
   "execution_count": 26,
   "metadata": {},
   "outputs": [
    {
     "data": {
      "text/plain": [
       "0      0.0\n",
       "1      1.0\n",
       "2      0.0\n",
       "3      0.0\n",
       "4      0.0\n",
       "      ... \n",
       "612    0.0\n",
       "613    0.0\n",
       "614    1.0\n",
       "615    0.0\n",
       "616    1.0\n",
       "Name: hypertension, Length: 617, dtype: float64"
      ]
     },
     "execution_count": 26,
     "metadata": {},
     "output_type": "execute_result"
    }
   ],
   "source": [
    "df[df.columns[9]]"
   ]
  },
  {
   "cell_type": "code",
   "execution_count": 27,
   "metadata": {},
   "outputs": [],
   "source": [
    "df[df.columns[9]].fillna(stats.mode(df[df.columns[9]]) , inplace = True)"
   ]
  },
  {
   "cell_type": "code",
   "execution_count": 28,
   "metadata": {},
   "outputs": [
    {
     "data": {
      "text/plain": [
       "('hypertension',\n",
       " array([0., 1.]),\n",
       " 0.0    379\n",
       " 1.0    238\n",
       " Name: hypertension, dtype: int64)"
      ]
     },
     "execution_count": 28,
     "metadata": {},
     "output_type": "execute_result"
    }
   ],
   "source": [
    "df.columns[9] , df[df.columns[9]].unique() , df[df.columns[9]].value_counts()"
   ]
  },
  {
   "cell_type": "markdown",
   "metadata": {},
   "source": [
    "## 4. 'cholestrol'"
   ]
  },
  {
   "cell_type": "code",
   "execution_count": 29,
   "metadata": {},
   "outputs": [
    {
     "data": {
      "text/plain": [
       "'cholesterol'"
      ]
     },
     "execution_count": 29,
     "metadata": {},
     "output_type": "execute_result"
    }
   ],
   "source": [
    "df.columns[10]"
   ]
  },
  {
   "cell_type": "code",
   "execution_count": 30,
   "metadata": {},
   "outputs": [
    {
     "data": {
      "text/plain": [
       "0      289.0\n",
       "1      180.0\n",
       "2      283.0\n",
       "3      214.0\n",
       "4        NaN\n",
       "       ...  \n",
       "612    333.0\n",
       "613    139.0\n",
       "614    223.0\n",
       "615    385.0\n",
       "616    254.0\n",
       "Name: cholesterol, Length: 617, dtype: float64"
      ]
     },
     "execution_count": 30,
     "metadata": {},
     "output_type": "execute_result"
    }
   ],
   "source": [
    "df[df.columns[10]]"
   ]
  },
  {
   "cell_type": "code",
   "execution_count": 31,
   "metadata": {},
   "outputs": [],
   "source": [
    "df[df.columns[10]].fillna(df[df.columns[10]].mean() , inplace = True)"
   ]
  },
  {
   "cell_type": "markdown",
   "metadata": {},
   "source": [
    "## 5. 'fasting blood sugar'"
   ]
  },
  {
   "cell_type": "code",
   "execution_count": 32,
   "metadata": {},
   "outputs": [
    {
     "data": {
      "text/plain": [
       "'fasting blood sugar'"
      ]
     },
     "execution_count": 32,
     "metadata": {},
     "output_type": "execute_result"
    }
   ],
   "source": [
    "df.columns[11]"
   ]
  },
  {
   "cell_type": "code",
   "execution_count": 33,
   "metadata": {},
   "outputs": [
    {
     "data": {
      "text/plain": [
       "0      0.0\n",
       "1      0.0\n",
       "2      0.0\n",
       "3      0.0\n",
       "4      0.0\n",
       "      ... \n",
       "612    1.0\n",
       "613    0.0\n",
       "614    1.0\n",
       "615    1.0\n",
       "616    0.0\n",
       "Name: fasting blood sugar, Length: 617, dtype: float64"
      ]
     },
     "execution_count": 33,
     "metadata": {},
     "output_type": "execute_result"
    }
   ],
   "source": [
    "df[df.columns[11]]"
   ]
  },
  {
   "cell_type": "code",
   "execution_count": 34,
   "metadata": {},
   "outputs": [],
   "source": [
    "df[df.columns[11]].fillna(stats.mode(df[df.columns[11]]) , inplace = True)"
   ]
  },
  {
   "cell_type": "code",
   "execution_count": 35,
   "metadata": {},
   "outputs": [
    {
     "data": {
      "text/plain": [
       "('fasting blood sugar',\n",
       " array([0., 1.]),\n",
       " 0.0    524\n",
       " 1.0     93\n",
       " Name: fasting blood sugar, dtype: int64)"
      ]
     },
     "execution_count": 35,
     "metadata": {},
     "output_type": "execute_result"
    }
   ],
   "source": [
    "df.columns[11] , df[df.columns[11]].unique() , df[df.columns[11]].value_counts()"
   ]
  },
  {
   "cell_type": "markdown",
   "metadata": {},
   "source": [
    "## 6. 'resting ecg'"
   ]
  },
  {
   "cell_type": "code",
   "execution_count": 36,
   "metadata": {},
   "outputs": [
    {
     "data": {
      "text/plain": [
       "'resting ecg'"
      ]
     },
     "execution_count": 36,
     "metadata": {},
     "output_type": "execute_result"
    }
   ],
   "source": [
    "df.columns[12]"
   ]
  },
  {
   "cell_type": "code",
   "execution_count": 37,
   "metadata": {},
   "outputs": [
    {
     "data": {
      "text/plain": [
       "array([ 0.,  1.,  2., nan])"
      ]
     },
     "execution_count": 37,
     "metadata": {},
     "output_type": "execute_result"
    }
   ],
   "source": [
    "df[df.columns[12]].unique()"
   ]
  },
  {
   "cell_type": "code",
   "execution_count": 38,
   "metadata": {},
   "outputs": [],
   "source": [
    "df[df.columns[12]].fillna(stats.mode(df[df.columns[12]]) , inplace = True)"
   ]
  },
  {
   "cell_type": "code",
   "execution_count": 39,
   "metadata": {},
   "outputs": [
    {
     "data": {
      "text/plain": [
       "(array([0., 1., 2.]),\n",
       " 0.0    402\n",
       " 1.0    175\n",
       " 2.0     40\n",
       " Name: resting ecg, dtype: int64)"
      ]
     },
     "execution_count": 39,
     "metadata": {},
     "output_type": "execute_result"
    }
   ],
   "source": [
    "df[df.columns[12]].unique() , df[df.columns[12]].value_counts()"
   ]
  },
  {
   "cell_type": "markdown",
   "metadata": {},
   "source": [
    "## 7. 'digitalis'"
   ]
  },
  {
   "cell_type": "code",
   "execution_count": 40,
   "metadata": {},
   "outputs": [
    {
     "data": {
      "text/plain": [
       "'digitalis'"
      ]
     },
     "execution_count": 40,
     "metadata": {},
     "output_type": "execute_result"
    }
   ],
   "source": [
    "df.columns[16]"
   ]
  },
  {
   "cell_type": "code",
   "execution_count": 41,
   "metadata": {},
   "outputs": [
    {
     "data": {
      "text/plain": [
       "array([ 0., nan,  1.])"
      ]
     },
     "execution_count": 41,
     "metadata": {},
     "output_type": "execute_result"
    }
   ],
   "source": [
    "df[df.columns[16]].unique()"
   ]
  },
  {
   "cell_type": "code",
   "execution_count": 42,
   "metadata": {},
   "outputs": [
    {
     "data": {
      "text/plain": [
       "0.0"
      ]
     },
     "execution_count": 42,
     "metadata": {},
     "output_type": "execute_result"
    }
   ],
   "source": [
    "stats.mode(df['digitalis'])"
   ]
  },
  {
   "cell_type": "code",
   "execution_count": 43,
   "metadata": {},
   "outputs": [],
   "source": [
    "df['digitalis'].fillna(stats.mode(df['digitalis']) , inplace = True)"
   ]
  },
  {
   "cell_type": "markdown",
   "metadata": {},
   "source": [
    "## 8. 'beta blocker'"
   ]
  },
  {
   "cell_type": "code",
   "execution_count": 44,
   "metadata": {},
   "outputs": [
    {
     "data": {
      "text/plain": [
       "'beta blocker'"
      ]
     },
     "execution_count": 44,
     "metadata": {},
     "output_type": "execute_result"
    }
   ],
   "source": [
    "df.columns[17]"
   ]
  },
  {
   "cell_type": "code",
   "execution_count": 45,
   "metadata": {},
   "outputs": [
    {
     "data": {
      "text/plain": [
       "array([ 0.,  1., nan, 22.])"
      ]
     },
     "execution_count": 45,
     "metadata": {},
     "output_type": "execute_result"
    }
   ],
   "source": [
    "df[df.columns[17]].unique()"
   ]
  },
  {
   "cell_type": "code",
   "execution_count": 46,
   "metadata": {},
   "outputs": [
    {
     "data": {
      "text/plain": [
       "0.0"
      ]
     },
     "execution_count": 46,
     "metadata": {},
     "output_type": "execute_result"
    }
   ],
   "source": [
    "stats.mode(df[df.columns[17]])"
   ]
  },
  {
   "cell_type": "code",
   "execution_count": 47,
   "metadata": {},
   "outputs": [],
   "source": [
    "df[df.columns[17]].fillna(stats.mode(df[df.columns[17]]) , inplace = True)"
   ]
  },
  {
   "cell_type": "markdown",
   "metadata": {},
   "source": [
    "## 9. 'nitrates'"
   ]
  },
  {
   "cell_type": "code",
   "execution_count": 48,
   "metadata": {},
   "outputs": [
    {
     "data": {
      "text/plain": [
       "'nitrates'"
      ]
     },
     "execution_count": 48,
     "metadata": {},
     "output_type": "execute_result"
    }
   ],
   "source": [
    "df.columns[18]"
   ]
  },
  {
   "cell_type": "code",
   "execution_count": 49,
   "metadata": {},
   "outputs": [
    {
     "data": {
      "text/plain": [
       "0.0    401\n",
       "1.0    153\n",
       "Name: nitrates, dtype: int64"
      ]
     },
     "execution_count": 49,
     "metadata": {},
     "output_type": "execute_result"
    }
   ],
   "source": [
    "df[df.columns[18]].value_counts()"
   ]
  },
  {
   "cell_type": "code",
   "execution_count": 50,
   "metadata": {},
   "outputs": [],
   "source": [
    "df[df.columns[18]].fillna(stats.mode(df[df.columns[18]]) , inplace = True)"
   ]
  },
  {
   "cell_type": "markdown",
   "metadata": {},
   "source": [
    "## 10. 'calcium channel blocker'"
   ]
  },
  {
   "cell_type": "code",
   "execution_count": 51,
   "metadata": {},
   "outputs": [
    {
     "data": {
      "text/plain": [
       "'calcium channel blocker'"
      ]
     },
     "execution_count": 51,
     "metadata": {},
     "output_type": "execute_result"
    }
   ],
   "source": [
    "df.columns[19]"
   ]
  },
  {
   "cell_type": "code",
   "execution_count": 52,
   "metadata": {},
   "outputs": [
    {
     "data": {
      "text/plain": [
       "0.0    440\n",
       "1.0    116\n",
       "Name: calcium channel blocker, dtype: int64"
      ]
     },
     "execution_count": 52,
     "metadata": {},
     "output_type": "execute_result"
    }
   ],
   "source": [
    "df[df.columns[19]].value_counts()"
   ]
  },
  {
   "cell_type": "code",
   "execution_count": 53,
   "metadata": {},
   "outputs": [],
   "source": [
    "df[df.columns[19]].fillna(stats.mode(df[df.columns[19]]) , inplace = True)"
   ]
  },
  {
   "cell_type": "markdown",
   "metadata": {},
   "source": [
    "## 11. 'diuretic'"
   ]
  },
  {
   "cell_type": "code",
   "execution_count": 54,
   "metadata": {},
   "outputs": [
    {
     "data": {
      "text/plain": [
       "'diuretic'"
      ]
     },
     "execution_count": 54,
     "metadata": {},
     "output_type": "execute_result"
    }
   ],
   "source": [
    "df.columns[20]"
   ]
  },
  {
   "cell_type": "code",
   "execution_count": 55,
   "metadata": {},
   "outputs": [
    {
     "data": {
      "text/plain": [
       "0.0    477\n",
       "1.0     60\n",
       "Name: diuretic, dtype: int64"
      ]
     },
     "execution_count": 55,
     "metadata": {},
     "output_type": "execute_result"
    }
   ],
   "source": [
    "df[df.columns[20]].value_counts()"
   ]
  },
  {
   "cell_type": "code",
   "execution_count": 56,
   "metadata": {},
   "outputs": [],
   "source": [
    "df[df.columns[20]].fillna(stats.mode(df[df.columns[20]]) , inplace = True)"
   ]
  },
  {
   "cell_type": "markdown",
   "metadata": {},
   "source": [
    "## 12. 'exercise protocol'"
   ]
  },
  {
   "cell_type": "code",
   "execution_count": 57,
   "metadata": {},
   "outputs": [
    {
     "data": {
      "text/plain": [
       "'exercise protocol'"
      ]
     },
     "execution_count": 57,
     "metadata": {},
     "output_type": "execute_result"
    }
   ],
   "source": [
    "df.columns[21]"
   ]
  },
  {
   "cell_type": "code",
   "execution_count": 58,
   "metadata": {},
   "outputs": [
    {
     "data": {
      "text/plain": [
       "5.0      98\n",
       "12.0     73\n",
       "75.0     73\n",
       "100.0    70\n",
       "125.0    52\n",
       "1.0      42\n",
       "50.0     34\n",
       "150.0    25\n",
       "25.0     16\n",
       "175.0    12\n",
       "6.0       5\n",
       "4.0       2\n",
       "200.0     2\n",
       "130.0     1\n",
       "Name: exercise protocol, dtype: int64"
      ]
     },
     "execution_count": 58,
     "metadata": {},
     "output_type": "execute_result"
    }
   ],
   "source": [
    "df[df.columns[21]].value_counts()"
   ]
  },
  {
   "cell_type": "code",
   "execution_count": 59,
   "metadata": {},
   "outputs": [],
   "source": [
    "df[df.columns[21]].fillna(stats.mean(df[df.columns[21]]) , inplace = True)"
   ]
  },
  {
   "cell_type": "markdown",
   "metadata": {},
   "source": [
    "## 13. 'duration of exercise'"
   ]
  },
  {
   "cell_type": "code",
   "execution_count": 60,
   "metadata": {},
   "outputs": [
    {
     "data": {
      "text/plain": [
       "'duration of exercise'"
      ]
     },
     "execution_count": 60,
     "metadata": {},
     "output_type": "execute_result"
    }
   ],
   "source": [
    "df.columns[22]"
   ]
  },
  {
   "cell_type": "code",
   "execution_count": 61,
   "metadata": {},
   "outputs": [
    {
     "data": {
      "text/plain": [
       "0      18.0\n",
       "1      10.0\n",
       "2      10.0\n",
       "3       5.0\n",
       "4       2.0\n",
       "       ... \n",
       "612     7.5\n",
       "613     NaN\n",
       "614     5.3\n",
       "615     NaN\n",
       "616     6.7\n",
       "Name: duration of exercise, Length: 617, dtype: float64"
      ]
     },
     "execution_count": 61,
     "metadata": {},
     "output_type": "execute_result"
    }
   ],
   "source": [
    "df[df.columns[22]]"
   ]
  },
  {
   "cell_type": "code",
   "execution_count": 62,
   "metadata": {},
   "outputs": [],
   "source": [
    "df[df.columns[22]].fillna(stats.mean(df[df.columns[22]]) , inplace = True)"
   ]
  },
  {
   "cell_type": "markdown",
   "metadata": {},
   "source": [
    "## 14. 'mets achieved'"
   ]
  },
  {
   "cell_type": "code",
   "execution_count": 63,
   "metadata": {},
   "outputs": [
    {
     "data": {
      "text/plain": [
       "'mets achieved'"
      ]
     },
     "execution_count": 63,
     "metadata": {},
     "output_type": "execute_result"
    }
   ],
   "source": [
    "df.columns[23]"
   ]
  },
  {
   "cell_type": "code",
   "execution_count": 64,
   "metadata": {},
   "outputs": [
    {
     "data": {
      "text/plain": [
       "0      7.0\n",
       "1      7.0\n",
       "2      5.0\n",
       "3      4.0\n",
       "4      3.0\n",
       "      ... \n",
       "612    8.0\n",
       "613    NaN\n",
       "614    5.0\n",
       "615    NaN\n",
       "616    7.0\n",
       "Name: mets achieved, Length: 617, dtype: float64"
      ]
     },
     "execution_count": 64,
     "metadata": {},
     "output_type": "execute_result"
    }
   ],
   "source": [
    "df[df.columns[23]]"
   ]
  },
  {
   "cell_type": "code",
   "execution_count": 65,
   "metadata": {},
   "outputs": [],
   "source": [
    "df[df.columns[23]].fillna(stats.mean(df[df.columns[23]]) , inplace = True)"
   ]
  },
  {
   "cell_type": "markdown",
   "metadata": {},
   "source": [
    "## 15. 'max heart rate'"
   ]
  },
  {
   "cell_type": "code",
   "execution_count": 66,
   "metadata": {},
   "outputs": [
    {
     "data": {
      "text/plain": [
       "'max heart rate'"
      ]
     },
     "execution_count": 66,
     "metadata": {},
     "output_type": "execute_result"
    }
   ],
   "source": [
    "df.columns[24]"
   ]
  },
  {
   "cell_type": "code",
   "execution_count": 67,
   "metadata": {},
   "outputs": [
    {
     "data": {
      "text/plain": [
       "0      172.0\n",
       "1      156.0\n",
       "2       98.0\n",
       "3      108.0\n",
       "4      122.0\n",
       "       ...  \n",
       "612    154.0\n",
       "613      NaN\n",
       "614    100.0\n",
       "615      NaN\n",
       "616     93.0\n",
       "Name: max heart rate, Length: 617, dtype: float64"
      ]
     },
     "execution_count": 67,
     "metadata": {},
     "output_type": "execute_result"
    }
   ],
   "source": [
    "df[df.columns[24]]"
   ]
  },
  {
   "cell_type": "code",
   "execution_count": 68,
   "metadata": {},
   "outputs": [],
   "source": [
    "df[df.columns[24]].fillna(stats.mean(df[df.columns[24]]) , inplace = True)"
   ]
  },
  {
   "cell_type": "markdown",
   "metadata": {},
   "source": [
    "## 16. 'resting heart rate'"
   ]
  },
  {
   "cell_type": "code",
   "execution_count": 69,
   "metadata": {},
   "outputs": [
    {
     "data": {
      "text/plain": [
       "'resting heart rate'"
      ]
     },
     "execution_count": 69,
     "metadata": {},
     "output_type": "execute_result"
    }
   ],
   "source": [
    "df.columns[25]"
   ]
  },
  {
   "cell_type": "code",
   "execution_count": 70,
   "metadata": {},
   "outputs": [
    {
     "data": {
      "text/plain": [
       "0       86.0\n",
       "1      100.0\n",
       "2       58.0\n",
       "3       54.0\n",
       "4       74.0\n",
       "       ...  \n",
       "612     83.0\n",
       "613      NaN\n",
       "614     74.0\n",
       "615      NaN\n",
       "616     67.0\n",
       "Name: resting heart rate, Length: 617, dtype: float64"
      ]
     },
     "execution_count": 70,
     "metadata": {},
     "output_type": "execute_result"
    }
   ],
   "source": [
    "df[df.columns[25]]"
   ]
  },
  {
   "cell_type": "code",
   "execution_count": 71,
   "metadata": {},
   "outputs": [],
   "source": [
    "df[df.columns[25]].fillna(stats.mean(df[df.columns[25]]) , inplace = True)"
   ]
  },
  {
   "cell_type": "markdown",
   "metadata": {},
   "source": [
    "## 17. 'peak exercise bp 1'"
   ]
  },
  {
   "cell_type": "code",
   "execution_count": 72,
   "metadata": {},
   "outputs": [
    {
     "data": {
      "text/plain": [
       "'peak exercise bp 1'"
      ]
     },
     "execution_count": 72,
     "metadata": {},
     "output_type": "execute_result"
    }
   ],
   "source": [
    "df.columns[26]"
   ]
  },
  {
   "cell_type": "code",
   "execution_count": 73,
   "metadata": {},
   "outputs": [
    {
     "data": {
      "text/plain": [
       "0      200.0\n",
       "1      220.0\n",
       "2      180.0\n",
       "3      210.0\n",
       "4      130.0\n",
       "       ...  \n",
       "612    158.0\n",
       "613      NaN\n",
       "614    210.0\n",
       "615      NaN\n",
       "616    164.0\n",
       "Name: peak exercise bp 1, Length: 617, dtype: float64"
      ]
     },
     "execution_count": 73,
     "metadata": {},
     "output_type": "execute_result"
    }
   ],
   "source": [
    "df[df.columns[26]]"
   ]
  },
  {
   "cell_type": "code",
   "execution_count": 74,
   "metadata": {},
   "outputs": [],
   "source": [
    "df[df.columns[26]].fillna(stats.mean(df[df.columns[26]]) , inplace = True)"
   ]
  },
  {
   "cell_type": "markdown",
   "metadata": {},
   "source": [
    "## 18. 'peak exercise bp 2'"
   ]
  },
  {
   "cell_type": "code",
   "execution_count": 75,
   "metadata": {},
   "outputs": [
    {
     "data": {
      "text/plain": [
       "'peak exercise bp 2'"
      ]
     },
     "execution_count": 75,
     "metadata": {},
     "output_type": "execute_result"
    }
   ],
   "source": [
    "df.columns[27]"
   ]
  },
  {
   "cell_type": "code",
   "execution_count": 76,
   "metadata": {},
   "outputs": [],
   "source": [
    "df[df.columns[27]].fillna(stats.mean(df[df.columns[27]]) , inplace = True)"
   ]
  },
  {
   "cell_type": "markdown",
   "metadata": {},
   "source": [
    "## 19. 'resting bp d'"
   ]
  },
  {
   "cell_type": "code",
   "execution_count": 77,
   "metadata": {},
   "outputs": [
    {
     "data": {
      "text/plain": [
       "'resting bp d'"
      ]
     },
     "execution_count": 77,
     "metadata": {},
     "output_type": "execute_result"
    }
   ],
   "source": [
    "df.columns[28]"
   ]
  },
  {
   "cell_type": "code",
   "execution_count": 78,
   "metadata": {},
   "outputs": [],
   "source": [
    "df[df.columns[28]].fillna(stats.mean(df[df.columns[28]]) , inplace = True)"
   ]
  },
  {
   "cell_type": "markdown",
   "metadata": {},
   "source": [
    "## 20. 'exercise angina'"
   ]
  },
  {
   "cell_type": "code",
   "execution_count": 79,
   "metadata": {},
   "outputs": [
    {
     "data": {
      "text/plain": [
       "'exercise angina'"
      ]
     },
     "execution_count": 79,
     "metadata": {},
     "output_type": "execute_result"
    }
   ],
   "source": [
    "df.columns[29]"
   ]
  },
  {
   "cell_type": "code",
   "execution_count": 80,
   "metadata": {},
   "outputs": [
    {
     "data": {
      "text/plain": [
       "0.0    324\n",
       "1.0    238\n",
       "Name: exercise angina, dtype: int64"
      ]
     },
     "execution_count": 80,
     "metadata": {},
     "output_type": "execute_result"
    }
   ],
   "source": [
    "df[df.columns[29]].value_counts()"
   ]
  },
  {
   "cell_type": "code",
   "execution_count": 81,
   "metadata": {},
   "outputs": [],
   "source": [
    "df[df.columns[29]].fillna(stats.mode(df[df.columns[29]]) , inplace = True)"
   ]
  },
  {
   "cell_type": "markdown",
   "metadata": {},
   "source": [
    "## 21. 'xhypo'"
   ]
  },
  {
   "cell_type": "code",
   "execution_count": 82,
   "metadata": {},
   "outputs": [
    {
     "data": {
      "text/plain": [
       "'xhypo'"
      ]
     },
     "execution_count": 82,
     "metadata": {},
     "output_type": "execute_result"
    }
   ],
   "source": [
    "df.columns[30]"
   ]
  },
  {
   "cell_type": "code",
   "execution_count": 83,
   "metadata": {},
   "outputs": [
    {
     "data": {
      "text/plain": [
       "0.0    543\n",
       "1.0     16\n",
       "Name: xhypo, dtype: int64"
      ]
     },
     "execution_count": 83,
     "metadata": {},
     "output_type": "execute_result"
    }
   ],
   "source": [
    "df[df.columns[30]].value_counts()"
   ]
  },
  {
   "cell_type": "code",
   "execution_count": 84,
   "metadata": {},
   "outputs": [],
   "source": [
    "df[df.columns[30]].fillna(stats.mode(df[df.columns[30]]) , inplace = True)"
   ]
  },
  {
   "cell_type": "markdown",
   "metadata": {},
   "source": [
    "## 22. 'oldpeak'"
   ]
  },
  {
   "cell_type": "code",
   "execution_count": 85,
   "metadata": {},
   "outputs": [
    {
     "data": {
      "text/plain": [
       "'oldpeak'"
      ]
     },
     "execution_count": 85,
     "metadata": {},
     "output_type": "execute_result"
    }
   ],
   "source": [
    "df.columns[31]"
   ]
  },
  {
   "cell_type": "code",
   "execution_count": 86,
   "metadata": {},
   "outputs": [
    {
     "data": {
      "text/plain": [
       "0      0.0\n",
       "1      1.0\n",
       "2      0.0\n",
       "3      1.5\n",
       "4      0.0\n",
       "      ... \n",
       "612    0.0\n",
       "613    NaN\n",
       "614    0.0\n",
       "615    NaN\n",
       "616    0.0\n",
       "Name: oldpeak, Length: 617, dtype: float64"
      ]
     },
     "execution_count": 86,
     "metadata": {},
     "output_type": "execute_result"
    }
   ],
   "source": [
    "df[df.columns[31]]"
   ]
  },
  {
   "cell_type": "code",
   "execution_count": 87,
   "metadata": {},
   "outputs": [],
   "source": [
    "df[df.columns[31]].fillna(stats.mean(df[df.columns[31]]) , inplace = True)"
   ]
  },
  {
   "cell_type": "markdown",
   "metadata": {},
   "source": [
    "## 23. 'ST height at rest'"
   ]
  },
  {
   "cell_type": "code",
   "execution_count": 88,
   "metadata": {},
   "outputs": [
    {
     "data": {
      "text/plain": [
       "'ST height at rest'"
      ]
     },
     "execution_count": 88,
     "metadata": {},
     "output_type": "execute_result"
    }
   ],
   "source": [
    "df.columns[32]"
   ]
  },
  {
   "cell_type": "code",
   "execution_count": 89,
   "metadata": {},
   "outputs": [
    {
     "data": {
      "text/plain": [
       "0      26.0\n",
       "1      14.0\n",
       "2      17.0\n",
       "3      19.0\n",
       "4      13.0\n",
       "       ... \n",
       "612    20.0\n",
       "613     NaN\n",
       "614     6.0\n",
       "615     NaN\n",
       "616    21.0\n",
       "Name: ST height at rest, Length: 617, dtype: float64"
      ]
     },
     "execution_count": 89,
     "metadata": {},
     "output_type": "execute_result"
    }
   ],
   "source": [
    "df[df.columns[32]]"
   ]
  },
  {
   "cell_type": "code",
   "execution_count": 90,
   "metadata": {},
   "outputs": [],
   "source": [
    "df[df.columns[32]].fillna(stats.mean(df[df.columns[32]]) , inplace = True)"
   ]
  },
  {
   "cell_type": "markdown",
   "metadata": {},
   "source": [
    "## 24. 'ST heaight at peak'"
   ]
  },
  {
   "cell_type": "code",
   "execution_count": 91,
   "metadata": {},
   "outputs": [
    {
     "data": {
      "text/plain": [
       "'ST heaight at peak'"
      ]
     },
     "execution_count": 91,
     "metadata": {},
     "output_type": "execute_result"
    }
   ],
   "source": [
    "df.columns[33]"
   ]
  },
  {
   "cell_type": "code",
   "execution_count": 92,
   "metadata": {},
   "outputs": [],
   "source": [
    "df[df.columns[33]].fillna(stats.mean(df[df.columns[33]]) , inplace = True)"
   ]
  },
  {
   "cell_type": "markdown",
   "metadata": {},
   "source": [
    "## 25. others"
   ]
  },
  {
   "cell_type": "code",
   "execution_count": 93,
   "metadata": {},
   "outputs": [],
   "source": [
    "cols = [13,14,15,34,35,36]"
   ]
  },
  {
   "cell_type": "code",
   "execution_count": 94,
   "metadata": {},
   "outputs": [],
   "source": [
    "df.drop(df.columns[cols] , axis = 1 , inplace = True)"
   ]
  },
  {
   "cell_type": "code",
   "execution_count": 95,
   "metadata": {},
   "outputs": [
    {
     "data": {
      "text/plain": [
       "Index(['_id', 'ccf', 'age', 'sex', 'pain location', 'pain w exertion',\n",
       "       'relieved after rest', 'chest pain type', 'resting bp s',\n",
       "       'hypertension', 'cholesterol', 'fasting blood sugar', 'resting ecg',\n",
       "       'digitalis', 'beta blocker', 'nitrates', 'calcium channel blocker',\n",
       "       'diuretic', 'exercise protocol', 'duration of exercise',\n",
       "       'mets achieved', 'max heart rate', 'resting heart rate',\n",
       "       'peak exercise bp 1', 'peak exercise bp 2', 'resting bp d',\n",
       "       'exercise angina', 'xhypo', 'oldpeak', 'ST height at rest',\n",
       "       'ST heaight at peak', 'target'],\n",
       "      dtype='object')"
      ]
     },
     "execution_count": 95,
     "metadata": {},
     "output_type": "execute_result"
    }
   ],
   "source": [
    "df.columns"
   ]
  },
  {
   "cell_type": "code",
   "execution_count": 96,
   "metadata": {},
   "outputs": [
    {
     "data": {
      "text/plain": [
       "(617, 32)"
      ]
     },
     "execution_count": 96,
     "metadata": {},
     "output_type": "execute_result"
    }
   ],
   "source": [
    "df.shape"
   ]
  },
  {
   "cell_type": "code",
   "execution_count": 97,
   "metadata": {},
   "outputs": [
    {
     "data": {
      "text/plain": [
       "_id                          0\n",
       "ccf                          0\n",
       "age                          0\n",
       "sex                          0\n",
       "pain location                0\n",
       "pain w exertion              0\n",
       "relieved after rest          0\n",
       "chest pain type              0\n",
       "resting bp s                 0\n",
       "hypertension                 0\n",
       "cholesterol                  0\n",
       "fasting blood sugar          0\n",
       "resting ecg                  0\n",
       "digitalis                    0\n",
       "beta blocker                 0\n",
       "nitrates                     0\n",
       "calcium channel blocker      0\n",
       "diuretic                     0\n",
       "exercise protocol          112\n",
       "duration of exercise        56\n",
       "mets achieved              105\n",
       "max heart rate              55\n",
       "resting heart rate          56\n",
       "peak exercise bp 1          63\n",
       "peak exercise bp 2          63\n",
       "resting bp d                59\n",
       "exercise angina              0\n",
       "xhypo                        0\n",
       "oldpeak                     62\n",
       "ST height at rest          143\n",
       "ST heaight at peak         142\n",
       "target                       0\n",
       "dtype: int64"
      ]
     },
     "execution_count": 97,
     "metadata": {},
     "output_type": "execute_result"
    }
   ],
   "source": [
    "df.isnull().sum()"
   ]
  },
  {
   "cell_type": "code",
   "execution_count": 98,
   "metadata": {},
   "outputs": [],
   "source": [
    "cols = [18,19,20,21,22,23,24,25,28,29,30]"
   ]
  },
  {
   "cell_type": "code",
   "execution_count": 99,
   "metadata": {},
   "outputs": [],
   "source": [
    "for i in cols:\n",
    "    df.iloc[:,i].fillna(df.iloc[:,i].mean() , inplace = True)"
   ]
  },
  {
   "cell_type": "code",
   "execution_count": 100,
   "metadata": {},
   "outputs": [
    {
     "data": {
      "text/plain": [
       "_id                        0\n",
       "ccf                        0\n",
       "age                        0\n",
       "sex                        0\n",
       "pain location              0\n",
       "pain w exertion            0\n",
       "relieved after rest        0\n",
       "chest pain type            0\n",
       "resting bp s               0\n",
       "hypertension               0\n",
       "cholesterol                0\n",
       "fasting blood sugar        0\n",
       "resting ecg                0\n",
       "digitalis                  0\n",
       "beta blocker               0\n",
       "nitrates                   0\n",
       "calcium channel blocker    0\n",
       "diuretic                   0\n",
       "exercise protocol          0\n",
       "duration of exercise       0\n",
       "mets achieved              0\n",
       "max heart rate             0\n",
       "resting heart rate         0\n",
       "peak exercise bp 1         0\n",
       "peak exercise bp 2         0\n",
       "resting bp d               0\n",
       "exercise angina            0\n",
       "xhypo                      0\n",
       "oldpeak                    0\n",
       "ST height at rest          0\n",
       "ST heaight at peak         0\n",
       "target                     0\n",
       "dtype: int64"
      ]
     },
     "execution_count": 100,
     "metadata": {},
     "output_type": "execute_result"
    }
   ],
   "source": [
    "df.isnull().sum()"
   ]
  },
  {
   "cell_type": "code",
   "execution_count": 101,
   "metadata": {},
   "outputs": [],
   "source": [
    "#df.to_csv('processedheartdata.csv', index = None)"
   ]
  },
  {
   "cell_type": "code",
   "execution_count": 102,
   "metadata": {},
   "outputs": [
    {
     "name": "stdout",
     "output_type": "stream",
     "text": [
      "<class 'pandas.core.frame.DataFrame'>\n",
      "RangeIndex: 617 entries, 0 to 616\n",
      "Data columns (total 32 columns):\n",
      " #   Column                   Non-Null Count  Dtype  \n",
      "---  ------                   --------------  -----  \n",
      " 0   _id                      617 non-null    int64  \n",
      " 1   ccf                      617 non-null    int64  \n",
      " 2   age                      617 non-null    int64  \n",
      " 3   sex                      617 non-null    int64  \n",
      " 4   pain location            617 non-null    int64  \n",
      " 5   pain w exertion          617 non-null    int64  \n",
      " 6   relieved after rest      617 non-null    float64\n",
      " 7   chest pain type          617 non-null    int64  \n",
      " 8   resting bp s             617 non-null    float64\n",
      " 9   hypertension             617 non-null    float64\n",
      " 10  cholesterol              617 non-null    float64\n",
      " 11  fasting blood sugar      617 non-null    float64\n",
      " 12  resting ecg              617 non-null    float64\n",
      " 13  digitalis                617 non-null    float64\n",
      " 14  beta blocker             617 non-null    float64\n",
      " 15  nitrates                 617 non-null    float64\n",
      " 16  calcium channel blocker  617 non-null    float64\n",
      " 17  diuretic                 617 non-null    float64\n",
      " 18  exercise protocol        617 non-null    float64\n",
      " 19  duration of exercise     617 non-null    float64\n",
      " 20  mets achieved            617 non-null    float64\n",
      " 21  max heart rate           617 non-null    float64\n",
      " 22  resting heart rate       617 non-null    float64\n",
      " 23  peak exercise bp 1       617 non-null    float64\n",
      " 24  peak exercise bp 2       617 non-null    float64\n",
      " 25  resting bp d             617 non-null    float64\n",
      " 26  exercise angina          617 non-null    float64\n",
      " 27  xhypo                    617 non-null    float64\n",
      " 28  oldpeak                  617 non-null    float64\n",
      " 29  ST height at rest        617 non-null    float64\n",
      " 30  ST heaight at peak       617 non-null    float64\n",
      " 31  target                   617 non-null    int64  \n",
      "dtypes: float64(24), int64(8)\n",
      "memory usage: 154.4 KB\n"
     ]
    }
   ],
   "source": [
    "df.info()"
   ]
  }
 ],
 "metadata": {
  "kernelspec": {
   "display_name": "Python 3",
   "language": "python",
   "name": "python3"
  },
  "language_info": {
   "codemirror_mode": {
    "name": "ipython",
    "version": 3
   },
   "file_extension": ".py",
   "mimetype": "text/x-python",
   "name": "python",
   "nbconvert_exporter": "python",
   "pygments_lexer": "ipython3",
   "version": "3.8.3"
  }
 },
 "nbformat": 4,
 "nbformat_minor": 4
}
