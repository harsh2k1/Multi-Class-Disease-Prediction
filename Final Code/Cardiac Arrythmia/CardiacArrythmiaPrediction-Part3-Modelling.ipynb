{
 "cells": [
  {
   "cell_type": "code",
   "execution_count": 1,
   "metadata": {},
   "outputs": [],
   "source": [
    "import pandas as pd\n",
    "import numpy as np\n",
    "import warnings\n",
    "warnings.filterwarnings('ignore')\n",
    "import matplotlib.pyplot as plt\n",
    "import seaborn as sns\n",
    "from sklearn.model_selection import train_test_split , KFold , StratifiedKFold\n",
    "kfold = StratifiedKFold(n_splits=5)\n",
    "from sklearn.metrics import confusion_matrix , accuracy_score , classification_report , plot_confusion_matrix , \\\n",
    "plot_precision_recall_curve, plot_roc_curve , roc_auc_score , recall_score"
   ]
  },
  {
   "cell_type": "code",
   "execution_count": 2,
   "metadata": {},
   "outputs": [],
   "source": [
    "from sklearn.preprocessing import StandardScaler , RobustScaler , MinMaxScaler , LabelEncoder\n",
    "from sklearn.model_selection import GridSearchCV , RandomizedSearchCV , cross_val_score\n",
    "from imblearn.over_sampling import SMOTE"
   ]
  },
  {
   "cell_type": "code",
   "execution_count": 3,
   "metadata": {},
   "outputs": [],
   "source": [
    "from sklearn.linear_model import LogisticRegression\n",
    "from sklearn.ensemble import RandomForestClassifier\n",
    "from xgboost import XGBClassifier \n",
    "from sklearn.svm import SVC\n",
    "import tensorflow as tf\n",
    "from tensorflow import keras\n",
    "from tensorflow.keras.models import Sequential\n",
    "from tensorflow.keras.layers import Dense\n",
    "from sklearn.neighbors import KNeighborsClassifier\n",
    "from sklearn.naive_bayes import MultinomialNB , GaussianNB\n",
    "from sklearn.ensemble import AdaBoostClassifier"
   ]
  },
  {
   "cell_type": "code",
   "execution_count": 4,
   "metadata": {},
   "outputs": [
    {
     "data": {
      "text/html": [
       "<div>\n",
       "<style scoped>\n",
       "    .dataframe tbody tr th:only-of-type {\n",
       "        vertical-align: middle;\n",
       "    }\n",
       "\n",
       "    .dataframe tbody tr th {\n",
       "        vertical-align: top;\n",
       "    }\n",
       "\n",
       "    .dataframe thead th {\n",
       "        text-align: right;\n",
       "    }\n",
       "</style>\n",
       "<table border=\"1\" class=\"dataframe\">\n",
       "  <thead>\n",
       "    <tr style=\"text-align: right;\">\n",
       "      <th></th>\n",
       "      <th>_id</th>\n",
       "      <th>ccf</th>\n",
       "      <th>age</th>\n",
       "      <th>sex</th>\n",
       "      <th>pain location</th>\n",
       "      <th>pain w exertion</th>\n",
       "      <th>relieved after rest</th>\n",
       "      <th>chest pain type</th>\n",
       "      <th>resting bp s</th>\n",
       "      <th>hypertension</th>\n",
       "      <th>...</th>\n",
       "      <th>resting heart rate</th>\n",
       "      <th>peak exercise bp 1</th>\n",
       "      <th>peak exercise bp 2</th>\n",
       "      <th>resting bp d</th>\n",
       "      <th>exercise angina</th>\n",
       "      <th>xhypo</th>\n",
       "      <th>oldpeak</th>\n",
       "      <th>ST height at rest</th>\n",
       "      <th>ST heaight at peak</th>\n",
       "      <th>target</th>\n",
       "    </tr>\n",
       "  </thead>\n",
       "  <tbody>\n",
       "    <tr>\n",
       "      <th>0</th>\n",
       "      <td>1254</td>\n",
       "      <td>0</td>\n",
       "      <td>40</td>\n",
       "      <td>1</td>\n",
       "      <td>1</td>\n",
       "      <td>0</td>\n",
       "      <td>0.0</td>\n",
       "      <td>2</td>\n",
       "      <td>140.0</td>\n",
       "      <td>0.0</td>\n",
       "      <td>...</td>\n",
       "      <td>86.0</td>\n",
       "      <td>200.0</td>\n",
       "      <td>110.0</td>\n",
       "      <td>86.0</td>\n",
       "      <td>0.0</td>\n",
       "      <td>0.0</td>\n",
       "      <td>0.0</td>\n",
       "      <td>26.0</td>\n",
       "      <td>20.0</td>\n",
       "      <td>0</td>\n",
       "    </tr>\n",
       "    <tr>\n",
       "      <th>1</th>\n",
       "      <td>1255</td>\n",
       "      <td>0</td>\n",
       "      <td>49</td>\n",
       "      <td>0</td>\n",
       "      <td>1</td>\n",
       "      <td>0</td>\n",
       "      <td>0.0</td>\n",
       "      <td>3</td>\n",
       "      <td>160.0</td>\n",
       "      <td>1.0</td>\n",
       "      <td>...</td>\n",
       "      <td>100.0</td>\n",
       "      <td>220.0</td>\n",
       "      <td>106.0</td>\n",
       "      <td>90.0</td>\n",
       "      <td>0.0</td>\n",
       "      <td>0.0</td>\n",
       "      <td>1.0</td>\n",
       "      <td>14.0</td>\n",
       "      <td>13.0</td>\n",
       "      <td>1</td>\n",
       "    </tr>\n",
       "    <tr>\n",
       "      <th>2</th>\n",
       "      <td>1256</td>\n",
       "      <td>0</td>\n",
       "      <td>37</td>\n",
       "      <td>1</td>\n",
       "      <td>1</td>\n",
       "      <td>0</td>\n",
       "      <td>0.0</td>\n",
       "      <td>2</td>\n",
       "      <td>130.0</td>\n",
       "      <td>0.0</td>\n",
       "      <td>...</td>\n",
       "      <td>58.0</td>\n",
       "      <td>180.0</td>\n",
       "      <td>100.0</td>\n",
       "      <td>80.0</td>\n",
       "      <td>0.0</td>\n",
       "      <td>0.0</td>\n",
       "      <td>0.0</td>\n",
       "      <td>17.0</td>\n",
       "      <td>14.0</td>\n",
       "      <td>0</td>\n",
       "    </tr>\n",
       "    <tr>\n",
       "      <th>3</th>\n",
       "      <td>1257</td>\n",
       "      <td>0</td>\n",
       "      <td>48</td>\n",
       "      <td>0</td>\n",
       "      <td>1</td>\n",
       "      <td>1</td>\n",
       "      <td>1.0</td>\n",
       "      <td>4</td>\n",
       "      <td>138.0</td>\n",
       "      <td>0.0</td>\n",
       "      <td>...</td>\n",
       "      <td>54.0</td>\n",
       "      <td>210.0</td>\n",
       "      <td>106.0</td>\n",
       "      <td>86.0</td>\n",
       "      <td>1.0</td>\n",
       "      <td>0.0</td>\n",
       "      <td>1.5</td>\n",
       "      <td>19.0</td>\n",
       "      <td>22.0</td>\n",
       "      <td>3</td>\n",
       "    </tr>\n",
       "    <tr>\n",
       "      <th>4</th>\n",
       "      <td>1258</td>\n",
       "      <td>0</td>\n",
       "      <td>54</td>\n",
       "      <td>1</td>\n",
       "      <td>1</td>\n",
       "      <td>0</td>\n",
       "      <td>1.0</td>\n",
       "      <td>3</td>\n",
       "      <td>150.0</td>\n",
       "      <td>0.0</td>\n",
       "      <td>...</td>\n",
       "      <td>74.0</td>\n",
       "      <td>130.0</td>\n",
       "      <td>100.0</td>\n",
       "      <td>90.0</td>\n",
       "      <td>0.0</td>\n",
       "      <td>1.0</td>\n",
       "      <td>0.0</td>\n",
       "      <td>13.0</td>\n",
       "      <td>9.0</td>\n",
       "      <td>0</td>\n",
       "    </tr>\n",
       "  </tbody>\n",
       "</table>\n",
       "<p>5 rows × 32 columns</p>\n",
       "</div>"
      ],
      "text/plain": [
       "    _id  ccf  age  sex  pain location  pain w exertion  relieved after rest  \\\n",
       "0  1254    0   40    1              1                0                  0.0   \n",
       "1  1255    0   49    0              1                0                  0.0   \n",
       "2  1256    0   37    1              1                0                  0.0   \n",
       "3  1257    0   48    0              1                1                  1.0   \n",
       "4  1258    0   54    1              1                0                  1.0   \n",
       "\n",
       "   chest pain type  resting bp s  hypertension  ...  resting heart rate  \\\n",
       "0                2         140.0           0.0  ...                86.0   \n",
       "1                3         160.0           1.0  ...               100.0   \n",
       "2                2         130.0           0.0  ...                58.0   \n",
       "3                4         138.0           0.0  ...                54.0   \n",
       "4                3         150.0           0.0  ...                74.0   \n",
       "\n",
       "   peak exercise bp 1  peak exercise bp 2  resting bp d  exercise angina  \\\n",
       "0               200.0               110.0          86.0              0.0   \n",
       "1               220.0               106.0          90.0              0.0   \n",
       "2               180.0               100.0          80.0              0.0   \n",
       "3               210.0               106.0          86.0              1.0   \n",
       "4               130.0               100.0          90.0              0.0   \n",
       "\n",
       "   xhypo  oldpeak  ST height at rest  ST heaight at peak  target  \n",
       "0    0.0      0.0               26.0                20.0       0  \n",
       "1    0.0      1.0               14.0                13.0       1  \n",
       "2    0.0      0.0               17.0                14.0       0  \n",
       "3    0.0      1.5               19.0                22.0       3  \n",
       "4    1.0      0.0               13.0                 9.0       0  \n",
       "\n",
       "[5 rows x 32 columns]"
      ]
     },
     "execution_count": 4,
     "metadata": {},
     "output_type": "execute_result"
    }
   ],
   "source": [
    "df = pd.read_csv('processedheartdata.csv')\n",
    "df.head()"
   ]
  },
  {
   "cell_type": "code",
   "execution_count": 5,
   "metadata": {},
   "outputs": [
    {
     "data": {
      "text/plain": [
       "(617, 32)"
      ]
     },
     "execution_count": 5,
     "metadata": {},
     "output_type": "execute_result"
    }
   ],
   "source": [
    "df.shape"
   ]
  },
  {
   "cell_type": "code",
   "execution_count": 6,
   "metadata": {},
   "outputs": [
    {
     "data": {
      "text/plain": [
       "Index(['_id', 'ccf', 'age', 'sex', 'pain location', 'pain w exertion',\n",
       "       'relieved after rest', 'chest pain type', 'resting bp s',\n",
       "       'hypertension', 'cholesterol', 'fasting blood sugar', 'resting ecg',\n",
       "       'digitalis', 'beta blocker', 'nitrates', 'calcium channel blocker',\n",
       "       'diuretic', 'exercise protocol', 'duration of exercise',\n",
       "       'mets achieved', 'max heart rate', 'resting heart rate',\n",
       "       'peak exercise bp 1', 'peak exercise bp 2', 'resting bp d',\n",
       "       'exercise angina', 'xhypo', 'oldpeak', 'ST height at rest',\n",
       "       'ST heaight at peak', 'target'],\n",
       "      dtype='object')"
      ]
     },
     "execution_count": 6,
     "metadata": {},
     "output_type": "execute_result"
    }
   ],
   "source": [
    "df.columns"
   ]
  },
  {
   "cell_type": "code",
   "execution_count": 7,
   "metadata": {},
   "outputs": [
    {
     "name": "stdout",
     "output_type": "stream",
     "text": [
      "<class 'pandas.core.frame.DataFrame'>\n",
      "RangeIndex: 617 entries, 0 to 616\n",
      "Data columns (total 32 columns):\n",
      " #   Column                   Non-Null Count  Dtype  \n",
      "---  ------                   --------------  -----  \n",
      " 0   _id                      617 non-null    int64  \n",
      " 1   ccf                      617 non-null    int64  \n",
      " 2   age                      617 non-null    int64  \n",
      " 3   sex                      617 non-null    int64  \n",
      " 4   pain location            617 non-null    int64  \n",
      " 5   pain w exertion          617 non-null    int64  \n",
      " 6   relieved after rest      617 non-null    float64\n",
      " 7   chest pain type          617 non-null    int64  \n",
      " 8   resting bp s             617 non-null    float64\n",
      " 9   hypertension             617 non-null    float64\n",
      " 10  cholesterol              617 non-null    float64\n",
      " 11  fasting blood sugar      617 non-null    float64\n",
      " 12  resting ecg              617 non-null    float64\n",
      " 13  digitalis                617 non-null    float64\n",
      " 14  beta blocker             617 non-null    float64\n",
      " 15  nitrates                 617 non-null    float64\n",
      " 16  calcium channel blocker  617 non-null    float64\n",
      " 17  diuretic                 617 non-null    float64\n",
      " 18  exercise protocol        617 non-null    float64\n",
      " 19  duration of exercise     617 non-null    float64\n",
      " 20  mets achieved            617 non-null    float64\n",
      " 21  max heart rate           617 non-null    float64\n",
      " 22  resting heart rate       617 non-null    float64\n",
      " 23  peak exercise bp 1       617 non-null    float64\n",
      " 24  peak exercise bp 2       617 non-null    float64\n",
      " 25  resting bp d             617 non-null    float64\n",
      " 26  exercise angina          617 non-null    float64\n",
      " 27  xhypo                    617 non-null    float64\n",
      " 28  oldpeak                  617 non-null    float64\n",
      " 29  ST height at rest        617 non-null    float64\n",
      " 30  ST heaight at peak       617 non-null    float64\n",
      " 31  target                   617 non-null    int64  \n",
      "dtypes: float64(24), int64(8)\n",
      "memory usage: 154.4 KB\n"
     ]
    }
   ],
   "source": [
    "df.info()"
   ]
  },
  {
   "cell_type": "code",
   "execution_count": 8,
   "metadata": {},
   "outputs": [
    {
     "data": {
      "text/plain": [
       "(617, 14)"
      ]
     },
     "execution_count": 8,
     "metadata": {},
     "output_type": "execute_result"
    }
   ],
   "source": [
    "cols = ['ccf','fasting blood sugar','resting ecg','digitalis','beta blocker','nitrates','calcium channel blocker','diuretic',\n",
    "       'exercise protocol','mets achieved','peak exercise bp 1', 'peak exercise bp 2','resting bp d','exercise angina','xhypo',\n",
    "       'oldpeak','ST height at rest','ST heaight at peak']\n",
    "df.drop(cols, axis = 1, inplace = True)\n",
    "df.shape"
   ]
  },
  {
   "cell_type": "code",
   "execution_count": 9,
   "metadata": {},
   "outputs": [],
   "source": [
    "df['target'].replace({2:1,3:1,4:1},inplace = True)"
   ]
  },
  {
   "cell_type": "code",
   "execution_count": 48,
   "metadata": {},
   "outputs": [
    {
     "data": {
      "text/html": [
       "<div>\n",
       "<style scoped>\n",
       "    .dataframe tbody tr th:only-of-type {\n",
       "        vertical-align: middle;\n",
       "    }\n",
       "\n",
       "    .dataframe tbody tr th {\n",
       "        vertical-align: top;\n",
       "    }\n",
       "\n",
       "    .dataframe thead th {\n",
       "        text-align: right;\n",
       "    }\n",
       "</style>\n",
       "<table border=\"1\" class=\"dataframe\">\n",
       "  <thead>\n",
       "    <tr style=\"text-align: right;\">\n",
       "      <th></th>\n",
       "      <th>_id</th>\n",
       "      <th>age</th>\n",
       "      <th>sex</th>\n",
       "      <th>pain location</th>\n",
       "      <th>pain w exertion</th>\n",
       "      <th>relieved after rest</th>\n",
       "      <th>chest pain type</th>\n",
       "      <th>resting bp s</th>\n",
       "      <th>hypertension</th>\n",
       "      <th>cholesterol</th>\n",
       "      <th>duration of exercise</th>\n",
       "      <th>max heart rate</th>\n",
       "      <th>resting heart rate</th>\n",
       "      <th>target</th>\n",
       "    </tr>\n",
       "  </thead>\n",
       "  <tbody>\n",
       "    <tr>\n",
       "      <th>0</th>\n",
       "      <td>1254</td>\n",
       "      <td>40</td>\n",
       "      <td>1</td>\n",
       "      <td>1</td>\n",
       "      <td>0</td>\n",
       "      <td>0.0</td>\n",
       "      <td>2</td>\n",
       "      <td>140.0</td>\n",
       "      <td>0.0</td>\n",
       "      <td>289.000000</td>\n",
       "      <td>18.0</td>\n",
       "      <td>172.0</td>\n",
       "      <td>86.0</td>\n",
       "      <td>0</td>\n",
       "    </tr>\n",
       "    <tr>\n",
       "      <th>1</th>\n",
       "      <td>1255</td>\n",
       "      <td>49</td>\n",
       "      <td>0</td>\n",
       "      <td>1</td>\n",
       "      <td>0</td>\n",
       "      <td>0.0</td>\n",
       "      <td>3</td>\n",
       "      <td>160.0</td>\n",
       "      <td>1.0</td>\n",
       "      <td>180.000000</td>\n",
       "      <td>10.0</td>\n",
       "      <td>156.0</td>\n",
       "      <td>100.0</td>\n",
       "      <td>1</td>\n",
       "    </tr>\n",
       "    <tr>\n",
       "      <th>2</th>\n",
       "      <td>1256</td>\n",
       "      <td>37</td>\n",
       "      <td>1</td>\n",
       "      <td>1</td>\n",
       "      <td>0</td>\n",
       "      <td>0.0</td>\n",
       "      <td>2</td>\n",
       "      <td>130.0</td>\n",
       "      <td>0.0</td>\n",
       "      <td>283.000000</td>\n",
       "      <td>10.0</td>\n",
       "      <td>98.0</td>\n",
       "      <td>58.0</td>\n",
       "      <td>0</td>\n",
       "    </tr>\n",
       "    <tr>\n",
       "      <th>3</th>\n",
       "      <td>1257</td>\n",
       "      <td>48</td>\n",
       "      <td>0</td>\n",
       "      <td>1</td>\n",
       "      <td>1</td>\n",
       "      <td>1.0</td>\n",
       "      <td>4</td>\n",
       "      <td>138.0</td>\n",
       "      <td>0.0</td>\n",
       "      <td>214.000000</td>\n",
       "      <td>5.0</td>\n",
       "      <td>108.0</td>\n",
       "      <td>54.0</td>\n",
       "      <td>1</td>\n",
       "    </tr>\n",
       "    <tr>\n",
       "      <th>4</th>\n",
       "      <td>1258</td>\n",
       "      <td>54</td>\n",
       "      <td>1</td>\n",
       "      <td>1</td>\n",
       "      <td>0</td>\n",
       "      <td>1.0</td>\n",
       "      <td>3</td>\n",
       "      <td>150.0</td>\n",
       "      <td>0.0</td>\n",
       "      <td>174.579216</td>\n",
       "      <td>2.0</td>\n",
       "      <td>122.0</td>\n",
       "      <td>74.0</td>\n",
       "      <td>0</td>\n",
       "    </tr>\n",
       "  </tbody>\n",
       "</table>\n",
       "</div>"
      ],
      "text/plain": [
       "    _id  age  sex  pain location  pain w exertion  relieved after rest  \\\n",
       "0  1254   40    1              1                0                  0.0   \n",
       "1  1255   49    0              1                0                  0.0   \n",
       "2  1256   37    1              1                0                  0.0   \n",
       "3  1257   48    0              1                1                  1.0   \n",
       "4  1258   54    1              1                0                  1.0   \n",
       "\n",
       "   chest pain type  resting bp s  hypertension  cholesterol  \\\n",
       "0                2         140.0           0.0   289.000000   \n",
       "1                3         160.0           1.0   180.000000   \n",
       "2                2         130.0           0.0   283.000000   \n",
       "3                4         138.0           0.0   214.000000   \n",
       "4                3         150.0           0.0   174.579216   \n",
       "\n",
       "   duration of exercise  max heart rate  resting heart rate  target  \n",
       "0                  18.0           172.0                86.0       0  \n",
       "1                  10.0           156.0               100.0       1  \n",
       "2                  10.0            98.0                58.0       0  \n",
       "3                   5.0           108.0                54.0       1  \n",
       "4                   2.0           122.0                74.0       0  "
      ]
     },
     "execution_count": 48,
     "metadata": {},
     "output_type": "execute_result"
    }
   ],
   "source": [
    "df.head()"
   ]
  },
  {
   "cell_type": "code",
   "execution_count": 10,
   "metadata": {},
   "outputs": [
    {
     "data": {
      "text/plain": [
       "1    370\n",
       "0    247\n",
       "Name: target, dtype: int64"
      ]
     },
     "execution_count": 10,
     "metadata": {},
     "output_type": "execute_result"
    }
   ],
   "source": [
    "balance = df.target.value_counts()\n",
    "balance"
   ]
  },
  {
   "cell_type": "code",
   "execution_count": 11,
   "metadata": {},
   "outputs": [
    {
     "data": {
      "text/plain": [
       "Text(0.5, 1.0, 'Value counts of target')"
      ]
     },
     "execution_count": 11,
     "metadata": {},
     "output_type": "execute_result"
    },
    {
     "data": {
      "image/png": "[encoded data removed]",
      "text/plain": [
       "<Figure size 432x288 with 1 Axes>"
      ]
     },
     "metadata": {
      "needs_background": "light"
     },
     "output_type": "display_data"
    }
   ],
   "source": [
    "balance.plot(kind = 'bar')\n",
    "plt.xlabel('Values')\n",
    "plt.ylabel('Count')\n",
    "plt.title('Value counts of target')"
   ]
  },
  {
   "cell_type": "code",
   "execution_count": 12,
   "metadata": {},
   "outputs": [],
   "source": [
    "smote = SMOTE(random_state= 42)"
   ]
  },
  {
   "cell_type": "code",
   "execution_count": 13,
   "metadata": {},
   "outputs": [],
   "source": [
    "X,y = smote.fit_resample(df.drop(['target','_id'],axis = 1) , df['target'].ravel())"
   ]
  },
  {
   "cell_type": "code",
   "execution_count": 14,
   "metadata": {},
   "outputs": [
    {
     "name": "stdout",
     "output_type": "stream",
     "text": [
      "1    0.5\n",
      "0    0.5\n",
      "Name: Target, dtype: float64\n"
     ]
    },
    {
     "data": {
      "image/png": "[encoded data removed]",
      "text/plain": [
       "<Figure size 432x288 with 1 Axes>"
      ]
     },
     "metadata": {
      "needs_background": "light"
     },
     "output_type": "display_data"
    }
   ],
   "source": [
    "# Check target classes balance\n",
    "df2 = pd.DataFrame(y , columns= ['Target'])\n",
    "cla_bal = df2['Target'].value_counts(normalize=True)\n",
    "print(cla_bal)\n",
    "\n",
    "# Plot the classes\n",
    "cla_bal.plot(kind = 'bar')\n",
    "plt.title('Value counts of target',fontweight = \"bold\")\n",
    "plt.xlabel('Classes')\n",
    "plt.ylabel('Percentage')\n",
    "plt.show()"
   ]
  },
  {
   "cell_type": "code",
   "execution_count": 15,
   "metadata": {},
   "outputs": [
    {
     "data": {
      "text/plain": [
       "((592, 12), (592,), (148, 12), (148,))"
      ]
     },
     "execution_count": 15,
     "metadata": {},
     "output_type": "execute_result"
    }
   ],
   "source": [
    "X_train , X_test , y_train , y_test = train_test_split(X ,y , test_size= 0.20 , random_state= 42)\n",
    "X_train.shape , y_train.shape , X_test.shape , y_test.shape"
   ]
  },
  {
   "cell_type": "code",
   "execution_count": 16,
   "metadata": {},
   "outputs": [],
   "source": [
    "columns = ['age', 'resting bp s','cholesterol' , 'duration of exercise','max heart rate','resting heart rate']\n",
    "scaler = RobustScaler()\n",
    "\n",
    "for column in columns:\n",
    "    X[column] = scaler.fit_transform(X[column].values.reshape(-1,1))"
   ]
  },
  {
   "cell_type": "markdown",
   "metadata": {},
   "source": [
    "# 1. Logistic Regression"
   ]
  },
  {
   "cell_type": "code",
   "execution_count": 17,
   "metadata": {},
   "outputs": [],
   "source": [
    "clf_lr = LogisticRegression(random_state= 42)"
   ]
  },
  {
   "cell_type": "code",
   "execution_count": 18,
   "metadata": {},
   "outputs": [],
   "source": [
    "# clf_lr.fit(X_train , y_train)\n",
    "# scores = cross_val_score(clf_lr , X_test , y_test , scoring= \"accuracy\")\n",
    "# accuracy_lr = np.mean(scores)\n",
    "# y_pred_test = clf_lr.predict(X_test)\n",
    "# recall_lr = recall_score(y_test, y_pred_test, average='weighted')"
   ]
  },
  {
   "cell_type": "code",
   "execution_count": 19,
   "metadata": {},
   "outputs": [],
   "source": [
    "# Creating a dataframe to keep record of auc scores\n",
    "model = []\n",
    "auc = []\n",
    "def performance(new_model , new_score):\n",
    "    model.append(new_model)\n",
    "    auc.append(new_score)\n",
    "    score_df = pd.DataFrame(zip(model , auc) , columns = ['Model', 'ROC_AUC'], index = None)\n",
    "    #print(score_df)\n",
    "    return score_df"
   ]
  },
  {
   "cell_type": "code",
   "execution_count": 20,
   "metadata": {},
   "outputs": [],
   "source": [
    "# Define a function to compute Precision, Recall and F1 score\n",
    "model_name = []\n",
    "precision_list = []\n",
    "recall_list = []\n",
    "F1_list = []\n",
    "def get_pre_rec_f1(model , new_model_name):\n",
    "\n",
    "    if new_model_name == 'Artificial Neural Network':\n",
    "        model_name.append(new_model_name)\n",
    "        proba = model.predict_proba(X_test)\n",
    "        y_pred_ann = (proba > 0.5)\n",
    "        roc_auc_ann = roc_auc_score(y_test, y_pred_ann)\n",
    "        tp, fp, fn, tn = confusion_matrix(y_test, y_pred_ann).ravel()\n",
    "        precision = tp / (tp + fp)\n",
    "        precision_list.append(precision)\n",
    "        recall = tp / (tp + fn)\n",
    "        recall_list.append(recall)\n",
    "        F1 = (2 * precision * recall) / (precision + recall)\n",
    "        F1_list.append(F1)\n",
    "        evaluation_df = pd.DataFrame(zip(model_name , precision_list , recall_list , F1_list) , columns = \\\n",
    "                                 ['Model','Precision', 'Recall', 'F1_Score'])\n",
    "        #print(f'Precision:{precision:.3f}\\nRecall:{recall:.3f}\\nF1 score:{F1:.3f}')\n",
    "        return evaluation_df\n",
    "    else: \n",
    "        model_name.append(new_model_name)\n",
    "        y_pred = model.predict(X_test)\n",
    "        tp, fp, fn, tn = confusion_matrix(y_test, y_pred).ravel()\n",
    "        precision = tp / (tp + fp)\n",
    "        precision_list.append(precision)\n",
    "        recall = tp / (tp + fn)\n",
    "        recall_list.append(recall)\n",
    "        F1 = (2 * precision * recall) / (precision + recall)\n",
    "        F1_list.append(F1)\n",
    "        evaluation_df = pd.DataFrame(zip(model_name , precision_list , recall_list , F1_list) , columns = \\\n",
    "                                 ['Model','Precision', 'Recall', 'F1_Score'])\n",
    "        #print(f'Precision:{precision:.3f}\\nRecall:{recall:.3f}\\nF1 score:{F1:.3f}')\n",
    "        return evaluation_df"
   ]
  },
  {
   "cell_type": "code",
   "execution_count": 21,
   "metadata": {},
   "outputs": [],
   "source": [
    "# performance('Logistic Regression',accuracy_lr , recall_lr)"
   ]
  },
  {
   "cell_type": "markdown",
   "metadata": {},
   "source": [
    "# 2. Random Forest"
   ]
  },
  {
   "cell_type": "code",
   "execution_count": 22,
   "metadata": {},
   "outputs": [],
   "source": [
    "# # Hyperparameter tuning\n",
    "\n",
    "# # Create parameter grid  \n",
    "# param_grid = {\n",
    "#     'max_depth': [60, 90, 110],\n",
    "#     'min_samples_leaf': [3, 4, 5],\n",
    "#     'min_samples_split': [8, 10, 12],\n",
    "#     'n_estimators': [100, 200, 300]\n",
    "# }\n",
    "\n",
    "# Instantiate the model\n",
    "clf_rf = RandomForestClassifier()\n",
    "\n",
    "# # Instantiate grid search model\n",
    "# grid_search = GridSearchCV(estimator = clf_rf, param_grid = param_grid,    \n",
    "#                           cv = 3, n_jobs = -1, verbose = 1)\n",
    "\n",
    "# # Fit grid search to the data\n",
    "# grid_search.fit(X_train, y_train)\n",
    "# grid_search.best_params_"
   ]
  },
  {
   "cell_type": "code",
   "execution_count": 23,
   "metadata": {},
   "outputs": [],
   "source": [
    "# # Use the best parameters to fit the model\n",
    "\n",
    "# clf_rf = RandomForestClassifier(**grid_search.best_params_)   \n",
    "# clf_rf.fit(X_train,y_train)\n",
    "\n",
    "# scores = cross_val_score(clf_rf, X_test, y_test, scoring =\"accuracy\", cv = 5)\n",
    "# accuracy_rf = np.mean(scores)\n",
    "# y_pred_test = clf_rf.predict(X_test)\n",
    "# recall_rf = recall_score(y_test, y_pred_test, average='weighted')\n",
    "# performance('Random Forest', accuracy_rf , recall_rf)"
   ]
  },
  {
   "cell_type": "markdown",
   "metadata": {},
   "source": [
    "# 3. XGBoost"
   ]
  },
  {
   "cell_type": "code",
   "execution_count": 24,
   "metadata": {},
   "outputs": [
    {
     "name": "stdout",
     "output_type": "stream",
     "text": [
      "Fitting 3 folds for each of 5 candidates, totalling 15 fits\n",
      "[16:01:12] WARNING: C:/Users/Administrator/workspace/xgboost-win64_release_1.4.0/src/learner.cc:1095: Starting in XGBoost 1.3.0, the default evaluation metric used with the objective 'binary:logistic' was changed from 'error' to 'logloss'. Explicitly set eval_metric if you'd like to restore the old behavior.\n"
     ]
    },
    {
     "data": {
      "text/plain": [
       "RandomizedSearchCV(cv=3,\n",
       "                   estimator=XGBClassifier(base_score=None, booster=None,\n",
       "                                           colsample_bylevel=None,\n",
       "                                           colsample_bynode=None,\n",
       "                                           colsample_bytree=None, gamma=None,\n",
       "                                           gpu_id=None, importance_type='gain',\n",
       "                                           interaction_constraints=None,\n",
       "                                           learning_rate=None,\n",
       "                                           max_delta_step=None, max_depth=None,\n",
       "                                           min_child_weight=None, missing=nan,\n",
       "                                           monotone_constraints=None,\n",
       "                                           n_estimators=100,...\n",
       "                                           verbosity=None),\n",
       "                   n_iter=5, n_jobs=-1,\n",
       "                   param_distributions={'colsample_bytree': array([0.5, 0.6, 0.7, 0.8]),\n",
       "                                        'gamma': array([0.1, 0.2, 0.3, 0.4]),\n",
       "                                        'learning_rate': array([0.1, 0.2, 0.3, 0.4, 0.5]),\n",
       "                                        'max_depth': [3, 4, 5, 6, 7],\n",
       "                                        'n_estimators': array([200, 400, 600, 800]),\n",
       "                                        'scale_pos_weight': [1, 3.5],\n",
       "                                        'subsample': array([0.5, 0.6, 0.7, 0.8])},\n",
       "                   random_state=42, scoring='roc_auc', verbose=1)"
      ]
     },
     "execution_count": 24,
     "metadata": {},
     "output_type": "execute_result"
    }
   ],
   "source": [
    "# Number of trees\n",
    "n_estimators = np.arange(200,1000,200)\n",
    "\n",
    "# Minimum loss reduction required to make a further partition on a leaf node of the tree\n",
    "# The larger gamma is, the more conservative the algorithm will be\n",
    "gamma = np.arange(0.1,0.4,0.1)\n",
    "\n",
    "# Default 0.3, range(0,1)\n",
    "learning_rate = np.arange(0.1,0.6,0.1)\n",
    "\n",
    "# Maximum number of levels in tree\n",
    "max_depth = list(range(3,8,1))\n",
    "\n",
    "# Subsample ratio of the training instances.Range(0,1)\n",
    "subsample = np.arange(0.5,0.9,0.1)\n",
    "\n",
    "# Subsample ratio of columns when constructing each tree. Range(0,1)\n",
    "colsample_bytree = np.arange(0.5,0.9,0.1)\n",
    "\n",
    "# Control the balance of positive and negative weights\n",
    "# Sum(negative instances) / sum(positive instances)\n",
    "scale_pos_weight = [1,3.5]\n",
    "\n",
    "\n",
    "# Create the random grid\n",
    "random_grid_xgb = {'n_estimators': n_estimators,\n",
    "                   'gamma': gamma,\n",
    "                   'learning_rate':learning_rate,\n",
    "                   'max_depth': max_depth,\n",
    "                   'subsample':subsample,\n",
    "                   'colsample_bytree':colsample_bytree,\n",
    "                   'scale_pos_weight':scale_pos_weight\n",
    "                  }\n",
    "\n",
    "# Use randomized search to find best parameters\n",
    "\n",
    "xgboost = XGBClassifier()\n",
    "xgb_random = RandomizedSearchCV(estimator = xgboost, \n",
    "                                param_distributions = random_grid_xgb, \n",
    "                                n_iter = 5, \n",
    "                                cv = 3, \n",
    "                                verbose=1, \n",
    "                                random_state=42, \n",
    "                                n_jobs = -1,\n",
    "                                scoring ='roc_auc')\n",
    "\n",
    "\n",
    "xgb_random.fit(X_train, y_train)"
   ]
  },
  {
   "cell_type": "code",
   "execution_count": 25,
   "metadata": {},
   "outputs": [
    {
     "name": "stdout",
     "output_type": "stream",
     "text": [
      "[16:01:12] WARNING: C:/Users/Administrator/workspace/xgboost-win64_release_1.4.0/src/learner.cc:1095: Starting in XGBoost 1.3.0, the default evaluation metric used with the objective 'binary:logistic' was changed from 'error' to 'logloss'. Explicitly set eval_metric if you'd like to restore the old behavior.\n",
      "[16:01:13] WARNING: C:/Users/Administrator/workspace/xgboost-win64_release_1.4.0/src/learner.cc:1095: Starting in XGBoost 1.3.0, the default evaluation metric used with the objective 'binary:logistic' was changed from 'error' to 'logloss'. Explicitly set eval_metric if you'd like to restore the old behavior.\n",
      "[16:01:13] WARNING: C:/Users/Administrator/workspace/xgboost-win64_release_1.4.0/src/learner.cc:1095: Starting in XGBoost 1.3.0, the default evaluation metric used with the objective 'binary:logistic' was changed from 'error' to 'logloss'. Explicitly set eval_metric if you'd like to restore the old behavior.\n",
      "[16:01:13] WARNING: C:/Users/Administrator/workspace/xgboost-win64_release_1.4.0/src/learner.cc:1095: Starting in XGBoost 1.3.0, the default evaluation metric used with the objective 'binary:logistic' was changed from 'error' to 'logloss'. Explicitly set eval_metric if you'd like to restore the old behavior.\n",
      "[16:01:13] WARNING: C:/Users/Administrator/workspace/xgboost-win64_release_1.4.0/src/learner.cc:1095: Starting in XGBoost 1.3.0, the default evaluation metric used with the objective 'binary:logistic' was changed from 'error' to 'logloss'. Explicitly set eval_metric if you'd like to restore the old behavior.\n",
      "[16:01:13] WARNING: C:/Users/Administrator/workspace/xgboost-win64_release_1.4.0/src/learner.cc:1095: Starting in XGBoost 1.3.0, the default evaluation metric used with the objective 'binary:logistic' was changed from 'error' to 'logloss'. Explicitly set eval_metric if you'd like to restore the old behavior.\n"
     ]
    },
    {
     "data": {
      "text/html": [
       "<div>\n",
       "<style scoped>\n",
       "    .dataframe tbody tr th:only-of-type {\n",
       "        vertical-align: middle;\n",
       "    }\n",
       "\n",
       "    .dataframe tbody tr th {\n",
       "        vertical-align: top;\n",
       "    }\n",
       "\n",
       "    .dataframe thead th {\n",
       "        text-align: right;\n",
       "    }\n",
       "</style>\n",
       "<table border=\"1\" class=\"dataframe\">\n",
       "  <thead>\n",
       "    <tr style=\"text-align: right;\">\n",
       "      <th></th>\n",
       "      <th>Model</th>\n",
       "      <th>ROC_AUC</th>\n",
       "    </tr>\n",
       "  </thead>\n",
       "  <tbody>\n",
       "    <tr>\n",
       "      <th>0</th>\n",
       "      <td>XGBoost</td>\n",
       "      <td>0.848329</td>\n",
       "    </tr>\n",
       "  </tbody>\n",
       "</table>\n",
       "</div>"
      ],
      "text/plain": [
       "     Model   ROC_AUC\n",
       "0  XGBoost  0.848329"
      ]
     },
     "execution_count": 25,
     "metadata": {},
     "output_type": "execute_result"
    }
   ],
   "source": [
    "clf_xgb = XGBClassifier(**xgb_random.best_params_)   \n",
    "clf_xgb.fit(X_train,y_train)\n",
    "\n",
    "scores = cross_val_score(clf_xgb, X_test, y_test, scoring =\"roc_auc\", cv = 5)\n",
    "roc_auc_xgb = np.mean(scores)\n",
    "performance('XGBoost', roc_auc_xgb)\n",
    "#print(roc_auc_xgb)"
   ]
  },
  {
   "cell_type": "code",
   "execution_count": 26,
   "metadata": {},
   "outputs": [
    {
     "data": {
      "text/html": [
       "<div>\n",
       "<style scoped>\n",
       "    .dataframe tbody tr th:only-of-type {\n",
       "        vertical-align: middle;\n",
       "    }\n",
       "\n",
       "    .dataframe tbody tr th {\n",
       "        vertical-align: top;\n",
       "    }\n",
       "\n",
       "    .dataframe thead th {\n",
       "        text-align: right;\n",
       "    }\n",
       "</style>\n",
       "<table border=\"1\" class=\"dataframe\">\n",
       "  <thead>\n",
       "    <tr style=\"text-align: right;\">\n",
       "      <th></th>\n",
       "      <th>Model</th>\n",
       "      <th>Precision</th>\n",
       "      <th>Recall</th>\n",
       "      <th>F1_Score</th>\n",
       "    </tr>\n",
       "  </thead>\n",
       "  <tbody>\n",
       "    <tr>\n",
       "      <th>0</th>\n",
       "      <td>XGBoost</td>\n",
       "      <td>0.680556</td>\n",
       "      <td>0.844828</td>\n",
       "      <td>0.753846</td>\n",
       "    </tr>\n",
       "  </tbody>\n",
       "</table>\n",
       "</div>"
      ],
      "text/plain": [
       "     Model  Precision    Recall  F1_Score\n",
       "0  XGBoost   0.680556  0.844828  0.753846"
      ]
     },
     "execution_count": 26,
     "metadata": {},
     "output_type": "execute_result"
    }
   ],
   "source": [
    "get_pre_rec_f1(clf_xgb,'XGBoost')"
   ]
  },
  {
   "cell_type": "markdown",
   "metadata": {},
   "source": [
    "# 4. Kernelized SVM"
   ]
  },
  {
   "cell_type": "code",
   "execution_count": 27,
   "metadata": {},
   "outputs": [],
   "source": [
    "clf_svm = SVC()"
   ]
  },
  {
   "cell_type": "code",
   "execution_count": 28,
   "metadata": {},
   "outputs": [],
   "source": [
    "# param_grid_svm = {'C': [0.01,0.1,1],\\\n",
    "#               'gamma': [0.01,0.1,1],\\\n",
    "#               'kernel': ['poly', 'rbf', 'sigmoid']}\n",
    "# svm_random = RandomizedSearchCV(estimator = clf_svm, \n",
    "#                                 param_distributions = param_grid_svm, \n",
    "#                                 n_iter = 5, \n",
    "#                                 cv = 3, \n",
    "#                                 verbose=1, \n",
    "#                                 random_state=42, \n",
    "#                                 n_jobs = -1,\n",
    "#                                 scoring ='accuracy')\n",
    "# svm_random.fit(X_train , y_train)\n",
    "# clf_svm = SVC(**svm_random.best_params_)\n",
    "# clf_svm.fit(X_train , y_train)\n",
    "# scores = cross_val_score(clf_svm , X_test , y_test , scoring=\"roc_auc\", cv = 5)\n",
    "# roc_auc_svm = np.mean(scores)\n",
    "# performance('Support Vector Machine',roc_auc)"
   ]
  },
  {
   "cell_type": "code",
   "execution_count": 29,
   "metadata": {},
   "outputs": [],
   "source": [
    "# get_pre_rec_f1(clf_svm,'Support Vector Machines')"
   ]
  },
  {
   "cell_type": "markdown",
   "metadata": {},
   "source": [
    "# 5. KNN Classification"
   ]
  },
  {
   "cell_type": "code",
   "execution_count": 30,
   "metadata": {},
   "outputs": [],
   "source": [
    "# Hyperparameter tuning\n",
    "\n",
    "clf_knn = KNeighborsClassifier()\n",
    "\n",
    "# param_grid_knn = {'n_neighbors' : [1,2,3,4,5,7,10]}\n",
    "\n",
    "# knn_random = RandomizedSearchCV(estimator = clf_knn, \n",
    "#                                 param_distributions = param_grid_knn, \n",
    "#                                 n_iter = 5, \n",
    "#                                 cv = 3, \n",
    "#                                 verbose=1, \n",
    "#                                 random_state=42, \n",
    "#                                 n_jobs = -1,\n",
    "#                                 scoring ='roc_auc')\n",
    "\n",
    "# knn_random.fit(X_train, y_train)"
   ]
  },
  {
   "cell_type": "code",
   "execution_count": 31,
   "metadata": {},
   "outputs": [],
   "source": [
    "# clf_knn = KNeighborsClassifier(**knn_random.best_params_)\n",
    "# clf_knn.fit(X_train , y_train)\n",
    "# scores = cross_val_score(clf_knn , X_test , y_test , scoring=\"accuracy\", cv = 5)\n",
    "# accuracy_knn = np.mean(scores)\n",
    "# y_pred_test = clf_knn.predict(X_test)\n",
    "# recall_knn = recall_score(y_test, y_pred_test, average='weighted')\n",
    "# performance('K Nearest Neighbours',accuracy_knn, recall_knn)"
   ]
  },
  {
   "cell_type": "markdown",
   "metadata": {},
   "source": [
    "# 6. Naive Bayes"
   ]
  },
  {
   "cell_type": "code",
   "execution_count": 32,
   "metadata": {},
   "outputs": [],
   "source": [
    "clf_gnb = GaussianNB()\n",
    "# clf_gnb.fit(X_train,y_train)\n",
    "# scores = cross_val_score(clf_gnb , X_test , y_test, scoring = 'accuracy', cv = kfold)\n",
    "# accuracy_gnb = np.mean(scores)\n",
    "# y_pred_test = clf_gnb.predict(X_test)\n",
    "# recall_gnb = recall_score(y_test , y_pred_test , average = 'weighted')\n",
    "# performance('Naive Bayes', accuracy_gnb, recall_gnb)"
   ]
  },
  {
   "cell_type": "markdown",
   "metadata": {},
   "source": [
    "# 7. Decision Tree"
   ]
  },
  {
   "cell_type": "code",
   "execution_count": 33,
   "metadata": {},
   "outputs": [],
   "source": [
    "from sklearn.tree import DecisionTreeClassifier\n",
    "\n",
    "clf_dt = DecisionTreeClassifier()\n",
    "# param_grid_dt = {'max_depth': [2, 3, 4, 5,6, 10, 20]}\n",
    "\n",
    "# grid_search_dt = GridSearchCV(clf_dt, param_grid_dt, scoring = 'roc_auc',cv=kfold, return_train_score=True, verbose= 1 , n_jobs=-1)\n",
    "# grid_search_dt.fit(X_train,y_train)\n",
    "# clf_dt = DecisionTreeClassifier(**grid_search_dt.best_params_)\n",
    "# clf_dt.fit(X_train,y_train)\n",
    "# scores = cross_val_score(clf_dt , X_test , y_test , scoring = 'accuracy', cv = kfold)\n",
    "# accuracy_dt = np.mean(scores)\n",
    "# y_pred_test = clf_dt.predict(X_test)\n",
    "# recall_dt = recall_score(y_test , y_pred_test , average = 'weighted')\n",
    "# performance('Decision Tree', accuracy_dt, recall_dt)"
   ]
  },
  {
   "cell_type": "markdown",
   "metadata": {},
   "source": [
    "# 8. Voting Classifier"
   ]
  },
  {
   "cell_type": "code",
   "execution_count": 34,
   "metadata": {},
   "outputs": [],
   "source": [
    "# from sklearn.ensemble import VotingClassifier\n",
    "\n",
    "# hard_voting_clf = VotingClassifier(estimators=[('knn', clf_knn),('lr',clf_lr),('svm', clf_svm),\n",
    "#                                    ('dt', clf_dt), ('rf', clf_rf) , ('xgb', clf_xgb)],voting = 'hard')\n",
    "# hard_voting_clf.fit(X_train, y_train)\n",
    "# accuracy_vclf = hard_voting_clf.score(X_test , y_test)\n",
    "# scores = cross_val_score(estimator = hard_voting_clf,X=X_test,y=y_test, scoring='roc_auc', cv=kfold)\n",
    "# roc_auc_vclf = np.mean(scores)\n",
    "# performance('Voting Classifier', roc_auc_vclf)\n",
    "# get_pre_rec_f1(hard_voting_clf,'Voting Classifier')"
   ]
  },
  {
   "cell_type": "markdown",
   "metadata": {},
   "source": [
    "# 9. Adaptive Boosting with Logistic Regression"
   ]
  },
  {
   "cell_type": "code",
   "execution_count": 35,
   "metadata": {},
   "outputs": [],
   "source": [
    "# from sklearn.ensemble import AdaBoostClassifier\n",
    "\n",
    "# adaboost_clf_lr = AdaBoostClassifier(base_estimator = clf_lr, learning_rate = 0.5)\n",
    "# adaboost_clf_lr.fit(X_train, y_train)\n",
    "# scores = cross_val_score(estimator= adaboost_clf_lr , X = X_test , y= y_test , scoring= 'accuracy' , cv =  kfold)\n",
    "# accuracy_alr = np.mean(scores)\n",
    "# scores = cross_val_score(estimator = adaboost_clf_lr ,X=X_test,y=y_test, scoring='recall_weighted', cv=kfold)\n",
    "# recall_alr = np.mean(scores)\n",
    "# performance('Adaboost Logistic Regression', accuracy_alr, recall_alr)"
   ]
  },
  {
   "cell_type": "markdown",
   "metadata": {},
   "source": [
    "# 10. Adaptive Boosting with Random Forest"
   ]
  },
  {
   "cell_type": "code",
   "execution_count": 36,
   "metadata": {},
   "outputs": [
    {
     "data": {
      "text/html": [
       "<div>\n",
       "<style scoped>\n",
       "    .dataframe tbody tr th:only-of-type {\n",
       "        vertical-align: middle;\n",
       "    }\n",
       "\n",
       "    .dataframe tbody tr th {\n",
       "        vertical-align: top;\n",
       "    }\n",
       "\n",
       "    .dataframe thead th {\n",
       "        text-align: right;\n",
       "    }\n",
       "</style>\n",
       "<table border=\"1\" class=\"dataframe\">\n",
       "  <thead>\n",
       "    <tr style=\"text-align: right;\">\n",
       "      <th></th>\n",
       "      <th>Model</th>\n",
       "      <th>ROC_AUC</th>\n",
       "    </tr>\n",
       "  </thead>\n",
       "  <tbody>\n",
       "    <tr>\n",
       "      <th>0</th>\n",
       "      <td>XGBoost</td>\n",
       "      <td>0.848329</td>\n",
       "    </tr>\n",
       "    <tr>\n",
       "      <th>1</th>\n",
       "      <td>Adaboost Random Forest</td>\n",
       "      <td>0.825351</td>\n",
       "    </tr>\n",
       "  </tbody>\n",
       "</table>\n",
       "</div>"
      ],
      "text/plain": [
       "                    Model   ROC_AUC\n",
       "0                 XGBoost  0.848329\n",
       "1  Adaboost Random Forest  0.825351"
      ]
     },
     "execution_count": 36,
     "metadata": {},
     "output_type": "execute_result"
    }
   ],
   "source": [
    "adaboost_clf_rf = AdaBoostClassifier(base_estimator = clf_rf, learning_rate = 0.5)\n",
    "adaboost_clf_rf.fit(X_train, y_train)\n",
    "scores = cross_val_score(estimator= adaboost_clf_rf , X = X_test , y= y_test , scoring= 'roc_auc' , cv =  kfold)\n",
    "roc_auc_arf = np.mean(scores)\n",
    "performance('Adaboost Random Forest', roc_auc_arf)"
   ]
  },
  {
   "cell_type": "code",
   "execution_count": 37,
   "metadata": {},
   "outputs": [
    {
     "data": {
      "text/html": [
       "<div>\n",
       "<style scoped>\n",
       "    .dataframe tbody tr th:only-of-type {\n",
       "        vertical-align: middle;\n",
       "    }\n",
       "\n",
       "    .dataframe tbody tr th {\n",
       "        vertical-align: top;\n",
       "    }\n",
       "\n",
       "    .dataframe thead th {\n",
       "        text-align: right;\n",
       "    }\n",
       "</style>\n",
       "<table border=\"1\" class=\"dataframe\">\n",
       "  <thead>\n",
       "    <tr style=\"text-align: right;\">\n",
       "      <th></th>\n",
       "      <th>Model</th>\n",
       "      <th>Precision</th>\n",
       "      <th>Recall</th>\n",
       "      <th>F1_Score</th>\n",
       "    </tr>\n",
       "  </thead>\n",
       "  <tbody>\n",
       "    <tr>\n",
       "      <th>0</th>\n",
       "      <td>XGBoost</td>\n",
       "      <td>0.680556</td>\n",
       "      <td>0.844828</td>\n",
       "      <td>0.753846</td>\n",
       "    </tr>\n",
       "    <tr>\n",
       "      <th>1</th>\n",
       "      <td>Adaboost Random Forest</td>\n",
       "      <td>0.763889</td>\n",
       "      <td>0.797101</td>\n",
       "      <td>0.780142</td>\n",
       "    </tr>\n",
       "  </tbody>\n",
       "</table>\n",
       "</div>"
      ],
      "text/plain": [
       "                    Model  Precision    Recall  F1_Score\n",
       "0                 XGBoost   0.680556  0.844828  0.753846\n",
       "1  Adaboost Random Forest   0.763889  0.797101  0.780142"
      ]
     },
     "execution_count": 37,
     "metadata": {},
     "output_type": "execute_result"
    }
   ],
   "source": [
    "get_pre_rec_f1(adaboost_clf_rf,'Adaboost Random Forest')"
   ]
  },
  {
   "cell_type": "markdown",
   "metadata": {},
   "source": [
    "# 11. Adaptive Boosting with XGBoost"
   ]
  },
  {
   "cell_type": "code",
   "execution_count": 38,
   "metadata": {},
   "outputs": [],
   "source": [
    "# adaboost_clf_xgb = AdaBoostClassifier(base_estimator = clf_xgb, learning_rate = 0.5)\n",
    "# adaboost_clf_xgb.fit(X_train, y_train)\n",
    "# scores = cross_val_score(estimator= adaboost_clf_xgb , X = X_test , y= y_test , scoring= 'accuracy' , cv =  kfold)\n",
    "# accuracy_axgb = np.mean(scores)\n",
    "# scores = cross_val_score(estimator = adaboost_clf_xgb ,X=X_test,y=y_test, scoring='recall_weighted', cv=kfold)\n",
    "# recall_axgb = np.mean(scores)\n",
    "# performance('Adaboost XGBoost', accuracy_axgb, recall_axgb)"
   ]
  },
  {
   "cell_type": "markdown",
   "metadata": {},
   "source": [
    "# 12. Adaptive Boosting with Kernelized SVM"
   ]
  },
  {
   "cell_type": "code",
   "execution_count": 39,
   "metadata": {},
   "outputs": [],
   "source": [
    "# adaboost_clf_svm = AdaBoostClassifier(base_estimator = clf_svm, learning_rate = 0.5 , algorithm= 'SAMME')\n",
    "# adaboost_clf_svm.fit(X_train, y_train)\n",
    "# scores = cross_val_score(estimator= adaboost_clf_svm , X = X_test , y= y_test , scoring= 'accuracy' , cv =  kfold)\n",
    "# accuracy_asvm = np.mean(scores)\n",
    "# scores = cross_val_score(estimator = adaboost_clf_svm ,X=X_test,y=y_test, scoring='recall_weighted', cv=kfold)\n",
    "# recall_asvm = np.mean(scores)\n",
    "# performance('Adaboost SVM', accuracy_asvm, recall_asvm)"
   ]
  },
  {
   "cell_type": "markdown",
   "metadata": {},
   "source": [
    "# 13. Adaptive Boosting with Decision Trees"
   ]
  },
  {
   "cell_type": "code",
   "execution_count": 40,
   "metadata": {},
   "outputs": [],
   "source": [
    "# adaboost_clf_dt = AdaBoostClassifier(base_estimator = clf_dt, learning_rate = 0.5)\n",
    "# adaboost_clf_dt.fit(X_train, y_train)\n",
    "# scores = cross_val_score(estimator= adaboost_clf_dt , X = X_test , y= y_test , scoring= 'accuracy' , cv =  kfold)\n",
    "# accuracy_adt = np.mean(scores)\n",
    "# scores = cross_val_score(estimator = adaboost_clf_dt ,X=X_test,y=y_test, scoring='recall_weighted', cv=kfold)\n",
    "# recall_adt = np.mean(scores)\n",
    "# performance('Adaboost Decision Tree', accuracy_adt, recall_adt)"
   ]
  },
  {
   "cell_type": "markdown",
   "metadata": {},
   "source": [
    "# 14. Adaptive Boosting with Naive Bayes"
   ]
  },
  {
   "cell_type": "code",
   "execution_count": 41,
   "metadata": {},
   "outputs": [],
   "source": [
    "# adaboost_clf_gnb = AdaBoostClassifier(base_estimator = clf_gnb, learning_rate = 0.5)\n",
    "# adaboost_clf_gnb.fit(X_train, y_train)\n",
    "# scores = cross_val_score(estimator= adaboost_clf_gnb , X = X_test , y= y_test , scoring= 'accuracy' , cv =  kfold)\n",
    "# accuracy_agnb = np.mean(scores)\n",
    "# scores = cross_val_score(estimator = adaboost_clf_gnb ,X=X_test,y=y_test, scoring='recall_weighted', cv=kfold)\n",
    "# recall_agnb = np.mean(scores)\n",
    "# performance('Adaboost Naive Bayes', accuracy_agnb, recall_agnb)"
   ]
  },
  {
   "cell_type": "markdown",
   "metadata": {},
   "source": [
    "# 15. Gradient Boosting Classifier"
   ]
  },
  {
   "cell_type": "code",
   "execution_count": 42,
   "metadata": {},
   "outputs": [],
   "source": [
    "# from sklearn.ensemble import GradientBoostingClassifier\n",
    "\n",
    "# clf_gb = GradientBoostingClassifier()\n",
    "# param_grid_gb = {'learning_rate':[0.1 , 0.5 , 0.25] , 'n_estimators':[80,100,120,200] , 'min_samples_split':[1,2,4],\n",
    "#                  'max_depth':[1,3,5]}\n",
    "# grid_search_gb = GridSearchCV(clf_gb, param_grid_gb, scoring = 'accuracy',cv=kfold, return_train_score=True, verbose= 1 , n_jobs=-1)\n",
    "# grid_search_gb.fit(X_train,y_train)\n",
    "# clf_gb = GradientBoostingClassifier(**grid_search_gb.best_params_)\n",
    "# clf_gb.fit(X_train, y_train)"
   ]
  },
  {
   "cell_type": "code",
   "execution_count": 43,
   "metadata": {},
   "outputs": [],
   "source": [
    "# scores = cross_val_score(estimator= clf_gb , X = X_test , y= y_test , scoring= 'accuracy' , cv =  kfold)\n",
    "# accuracy_gb = np.mean(scores)\n",
    "# scores = cross_val_score(estimator = clf_gb ,X=X_test,y=y_test, scoring='recall_weighted', cv=kfold)\n",
    "# recall_gb = np.mean(scores)\n",
    "# performance('Gradient Boosting Classifier', accuracy_gb, recall_gb)"
   ]
  },
  {
   "cell_type": "markdown",
   "metadata": {},
   "source": [
    "# 16. Light GBM Classifier"
   ]
  },
  {
   "cell_type": "code",
   "execution_count": 44,
   "metadata": {},
   "outputs": [
    {
     "name": "stdout",
     "output_type": "stream",
     "text": [
      "Fitting 5 folds for each of 27 candidates, totalling 135 fits\n",
      "[LightGBM] [Warning] Unknown parameter: n_estimator\n",
      "[LightGBM] [Warning] Unknown parameter: n_estimator\n",
      "[LightGBM] [Warning] Unknown parameter: n_estimator\n",
      "[LightGBM] [Warning] Unknown parameter: n_estimator\n",
      "[LightGBM] [Warning] Unknown parameter: n_estimator\n"
     ]
    },
    {
     "data": {
      "text/html": [
       "<div>\n",
       "<style scoped>\n",
       "    .dataframe tbody tr th:only-of-type {\n",
       "        vertical-align: middle;\n",
       "    }\n",
       "\n",
       "    .dataframe tbody tr th {\n",
       "        vertical-align: top;\n",
       "    }\n",
       "\n",
       "    .dataframe thead th {\n",
       "        text-align: right;\n",
       "    }\n",
       "</style>\n",
       "<table border=\"1\" class=\"dataframe\">\n",
       "  <thead>\n",
       "    <tr style=\"text-align: right;\">\n",
       "      <th></th>\n",
       "      <th>Model</th>\n",
       "      <th>ROC_AUC</th>\n",
       "    </tr>\n",
       "  </thead>\n",
       "  <tbody>\n",
       "    <tr>\n",
       "      <th>0</th>\n",
       "      <td>XGBoost</td>\n",
       "      <td>0.848329</td>\n",
       "    </tr>\n",
       "    <tr>\n",
       "      <th>1</th>\n",
       "      <td>Adaboost Random Forest</td>\n",
       "      <td>0.825351</td>\n",
       "    </tr>\n",
       "    <tr>\n",
       "      <th>2</th>\n",
       "      <td>Light GBM</td>\n",
       "      <td>0.798536</td>\n",
       "    </tr>\n",
       "  </tbody>\n",
       "</table>\n",
       "</div>"
      ],
      "text/plain": [
       "                    Model   ROC_AUC\n",
       "0                 XGBoost  0.848329\n",
       "1  Adaboost Random Forest  0.825351\n",
       "2               Light GBM  0.798536"
      ]
     },
     "execution_count": 44,
     "metadata": {},
     "output_type": "execute_result"
    }
   ],
   "source": [
    "from lightgbm import LGBMClassifier\n",
    "clf_lgbm = LGBMClassifier()\n",
    "param_grid_lgbm = {'learning_rate':[0.1,0.2,0.5], 'max_depth':[-1,1,3],'n_estimator':[100,200,300]}\n",
    "grid_search_lgbm = GridSearchCV(clf_lgbm, param_grid_lgbm, scoring = 'accuracy',cv=kfold, verbose= 1 , n_jobs=-1)\n",
    "grid_search_lgbm.fit(X_train,y_train)\n",
    "clf_lgbm = LGBMClassifier(**grid_search_lgbm.best_params_)\n",
    "clf_lgbm.fit(X_train , y_train)\n",
    "scores = cross_val_score(estimator = clf_lgbm , X = X_test , y = y_test , scoring = 'roc_auc' , cv = kfold)\n",
    "roc_auc_lgbm = np.mean(scores)\n",
    "performance('Light GBM' , roc_auc_lgbm)"
   ]
  },
  {
   "cell_type": "code",
   "execution_count": 45,
   "metadata": {},
   "outputs": [
    {
     "data": {
      "text/html": [
       "<div>\n",
       "<style scoped>\n",
       "    .dataframe tbody tr th:only-of-type {\n",
       "        vertical-align: middle;\n",
       "    }\n",
       "\n",
       "    .dataframe tbody tr th {\n",
       "        vertical-align: top;\n",
       "    }\n",
       "\n",
       "    .dataframe thead th {\n",
       "        text-align: right;\n",
       "    }\n",
       "</style>\n",
       "<table border=\"1\" class=\"dataframe\">\n",
       "  <thead>\n",
       "    <tr style=\"text-align: right;\">\n",
       "      <th></th>\n",
       "      <th>Model</th>\n",
       "      <th>Precision</th>\n",
       "      <th>Recall</th>\n",
       "      <th>F1_Score</th>\n",
       "    </tr>\n",
       "  </thead>\n",
       "  <tbody>\n",
       "    <tr>\n",
       "      <th>0</th>\n",
       "      <td>XGBoost</td>\n",
       "      <td>0.680556</td>\n",
       "      <td>0.844828</td>\n",
       "      <td>0.753846</td>\n",
       "    </tr>\n",
       "    <tr>\n",
       "      <th>1</th>\n",
       "      <td>Adaboost Random Forest</td>\n",
       "      <td>0.763889</td>\n",
       "      <td>0.797101</td>\n",
       "      <td>0.780142</td>\n",
       "    </tr>\n",
       "    <tr>\n",
       "      <th>2</th>\n",
       "      <td>Light GBM</td>\n",
       "      <td>0.763889</td>\n",
       "      <td>0.808824</td>\n",
       "      <td>0.785714</td>\n",
       "    </tr>\n",
       "  </tbody>\n",
       "</table>\n",
       "</div>"
      ],
      "text/plain": [
       "                    Model  Precision    Recall  F1_Score\n",
       "0                 XGBoost   0.680556  0.844828  0.753846\n",
       "1  Adaboost Random Forest   0.763889  0.797101  0.780142\n",
       "2               Light GBM   0.763889  0.808824  0.785714"
      ]
     },
     "execution_count": 45,
     "metadata": {},
     "output_type": "execute_result"
    }
   ],
   "source": [
    "get_pre_rec_f1(clf_lgbm,'Light GBM')"
   ]
  },
  {
   "cell_type": "markdown",
   "metadata": {},
   "source": [
    "# Experimental analysis"
   ]
  },
  {
   "cell_type": "code",
   "execution_count": 46,
   "metadata": {},
   "outputs": [
    {
     "data": {
      "image/png": "[encoded data removed]",
      "text/plain": [
       "<Figure size 720x360 with 1 Axes>"
      ]
     },
     "metadata": {
      "needs_background": "light"
     },
     "output_type": "display_data"
    }
   ],
   "source": [
    "# Plot ROC_AUC curve of 4 models\n",
    " \n",
    "fig,ax=plt.subplots(figsize=(10,5))\n",
    "\n",
    "plot_roc_curve(clf_xgb, X_test, y_test,ax=ax, color=\"blue\",label='XGBoost')\n",
    "#plot_roc_curve(clf_svm, X_test, y_test,ax=ax, color=\"black\",label='Support Vector Machine')\n",
    "plot_roc_curve(adaboost_clf_rf, X_test, y_test,ax=ax, color=\"red\",label='Adaboost Random Forest')\n",
    "plot_roc_curve(clf_lgbm , X_test , y_test , ax=ax , color = 'yellow' , label = 'Light GBM')\n",
    "#plot_roc_curve(model , X_test , y_test , ax = ax , color = 'green' , label = 'ANN')\n",
    "\n",
    "# # ROC_AUC curve for ANN\n",
    "# proba = clf_ann.predict_proba(X_test)\n",
    "# fpr1, tpr1, thresh1 = roc_curve(y_test, proba, pos_label=1)\n",
    "# #plt.subplot(ax)\n",
    "# plt.plot(fpr1, tpr1,color='green', label='ANN')\n",
    "# # x label\n",
    "plt.xlabel('False Positive Rate')\n",
    "# y label\n",
    "plt.ylabel('True Positive rate')\n",
    "plt.legend(loc = 'best')\n",
    "plt.title('ROC/AUC of models')\n",
    "plt.grid()"
   ]
  },
  {
   "cell_type": "code",
   "execution_count": 47,
   "metadata": {},
   "outputs": [
    {
     "data": {
      "image/png": "[encoded data removed]",
      "text/plain": [
       "<Figure size 720x360 with 1 Axes>"
      ]
     },
     "metadata": {
      "needs_background": "light"
     },
     "output_type": "display_data"
    }
   ],
   "source": [
    "# Compare 3 models' Precision_recall curves\n",
    "\n",
    "fig,ax=plt.subplots(figsize=(10,5))\n",
    "\n",
    "plot_precision_recall_curve(clf_xgb, X_test, y_test,ax=ax, color=\"blue\",label='XGBoost')\n",
    "#plot_precision_recall_curve(clf_svm, X_test, y_test,ax=ax, color=\"black\",label='Support Vector Machine')\n",
    "plot_precision_recall_curve(adaboost_clf_rf, X_test, y_test,ax=ax, color=\"red\",label='Adaboost Random Forest')\n",
    "plot_precision_recall_curve(clf_lgbm , X_test , y_test , ax=ax , color = 'yellow' , label = 'Light GBM')\n",
    "\n",
    "# Precision-Recall curve  for ANN\n",
    "# proba = clf_ann.predict_proba(X_test)\n",
    "# ann_precision, ann_recall, _ = precision_recall_curve(y_test, proba)\n",
    "# ann_f1, ann_auc = 0.761693, 0.747971\n",
    "# plt.plot(ann_recall, ann_precision, label='ANN' , color = 'green')\n",
    "\n",
    "\n",
    "\n",
    "plt.title('Precision_Recall of models')\n",
    "plt.grid()\n",
    "plt.xlabel('Recall')\n",
    "plt.ylabel('Precision')\n",
    "# show the legend\n",
    "plt.legend()\n",
    "# show the plot\n",
    "plt.show()"
   ]
  },
  {
   "cell_type": "code",
   "execution_count": null,
   "metadata": {},
   "outputs": [],
   "source": []
  }
 ],
 "metadata": {
  "kernelspec": {
   "display_name": "Python 3",
   "language": "python",
   "name": "python3"
  },
  "language_info": {
   "codemirror_mode": {
    "name": "ipython",
    "version": 3
   },
   "file_extension": ".py",
   "mimetype": "text/x-python",
   "name": "python",
   "nbconvert_exporter": "python",
   "pygments_lexer": "ipython3",
   "version": "3.8.3"
  }
 },
 "nbformat": 4,
 "nbformat_minor": 4
}
